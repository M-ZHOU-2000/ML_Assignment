{
  "cells": [
    {
      "cell_type": "markdown",
      "id": "c7bdd35c",
      "metadata": {
        "id": "c7bdd35c"
      },
      "source": [
        "# Machine learning application for a dataset of Bose Higgs\n",
        "\n",
        "In this project, we explore various classification algorithms to analyze the dataset, build predictive models, and evaluate their performance. We implement an Artificial Neural Network (ANN) to compute the model’s precision and compare results across different subsets of input features (low-level and high-level).\n",
        "\n",
        "The aim is to assess the effectiveness of each method in distinguishing signal from background events in a supersymmetric Higgs scenario."
      ]
    },
    {
      "cell_type": "markdown",
      "id": "339dcf64",
      "metadata": {
        "id": "339dcf64"
      },
      "source": [
        "## a) **Classiffier**\n"
      ]
    },
    {
      "cell_type": "code",
      "execution_count": 36,
      "id": "b8faba0a",
      "metadata": {
        "colab": {
          "base_uri": "https://localhost:8080/"
        },
        "id": "b8faba0a",
        "outputId": "02acbbae-71d8-4664-8b41-de184d8fc882"
      },
      "outputs": [
        {
          "output_type": "stream",
          "name": "stdout",
          "text": [
            "Drive already mounted at /content/drive; to attempt to forcibly remount, call drive.mount(\"/content/drive\", force_remount=True).\n",
            "<class 'pandas.core.frame.DataFrame'>\n",
            "RangeIndex: 8000 entries, 0 to 7999\n",
            "Data columns (total 29 columns):\n",
            " #   Column     Non-Null Count  Dtype  \n",
            "---  ------     --------------  -----  \n",
            " 0   1.00E+00   8000 non-null   int64  \n",
            " 1   8.69E-01   8000 non-null   float64\n",
            " 2   -6.35E-01  8000 non-null   float64\n",
            " 3   2.26E-01   8000 non-null   float64\n",
            " 4   3.27E-01   8000 non-null   float64\n",
            " 5   -6.90E-01  8000 non-null   float64\n",
            " 6   7.54E-01   8000 non-null   float64\n",
            " 7   -2.49E-01  8000 non-null   float64\n",
            " 8   -1.09E+00  8000 non-null   float64\n",
            " 9   0.00E+00   8000 non-null   float64\n",
            " 10  1.37E+00   8000 non-null   float64\n",
            " 11  -6.54E-01  8000 non-null   float64\n",
            " 12  9.30E-01   8000 non-null   float64\n",
            " 13  1.11E+00   8000 non-null   float64\n",
            " 14  1.14E+00   8000 non-null   float64\n",
            " 15  -1.58E+00  8000 non-null   float64\n",
            " 16  -1.05E+00  8000 non-null   float64\n",
            " 17  0          8000 non-null   float64\n",
            " 18  6.58E-01   8000 non-null   float64\n",
            " 19  -1.05E-02  8000 non-null   float64\n",
            " 20  -4.58E-02  8000 non-null   float64\n",
            " 21  3.10E+00   8000 non-null   float64\n",
            " 22  1.35E+00   8000 non-null   float64\n",
            " 23  9.80E-01   8000 non-null   float64\n",
            " 24  9.78E-01   8000 non-null   float64\n",
            " 25  9.20E-01   8000 non-null   float64\n",
            " 26  7.22E-01   8000 non-null   float64\n",
            " 27  9.89E-01   8000 non-null   float64\n",
            " 28  8.77E-01   8000 non-null   float64\n",
            "dtypes: float64(28), int64(1)\n",
            "memory usage: 1.8 MB\n"
          ]
        }
      ],
      "source": [
        "import pandas as pd\n",
        "from google.colab import drive\n",
        "drive.mount('/content/drive')\n",
        "df = pd.read_csv('/content/drive/MyDrive/diakonidis/HIGGS_8K.csv')\n",
        "\n",
        "# Check if the dataframe is missing any values\n",
        "df.info()"
      ]
    },
    {
      "cell_type": "code",
      "execution_count": 37,
      "id": "d5cebb85",
      "metadata": {
        "id": "d5cebb85",
        "colab": {
          "base_uri": "https://localhost:8080/",
          "height": 273
        },
        "outputId": "7f037cdd-b788-4880-8299-2ebd0bec311f"
      },
      "outputs": [
        {
          "output_type": "execute_result",
          "data": {
            "text/plain": [
              "   8.69E-01  -6.35E-01  2.26E-01  3.27E-01  -6.90E-01  7.54E-01  -2.49E-01  \\\n",
              "0  1.630428   0.404143  0.401026  2.722409   0.355644  1.362199   0.015818   \n",
              "1  0.326305  -0.797735  0.223471  1.248234  -1.427857  0.923767  -0.278280   \n",
              "2  1.381170   0.521993  0.574698  0.357347   0.037136  0.413057  -0.607036   \n",
              "3  0.304161  -0.736375  0.686225  0.477172  -1.274736  0.907003   0.324770   \n",
              "4  0.661761   0.486930  0.542516  2.630618   1.098063  1.021878  -2.306271   \n",
              "\n",
              "   -1.09E+00  0.00E+00  1.37E+00  ...  -1.05E-02  -4.58E-02  3.10E+00  \\\n",
              "0  -1.174111  0.000000  1.002695  ...   0.387635   1.596321  1.550981   \n",
              "1  -0.470052  0.000000  0.894418  ...  -0.426866   1.153501  0.000000   \n",
              "2  -1.308270  0.000000  0.655957  ...   0.567525  -1.475778  0.000000   \n",
              "3  -0.463954  2.173076  0.468865  ...   0.904818   1.165154  0.000000   \n",
              "4  -0.652999  0.000000  1.700830  ...  -0.943217   0.566404  3.101961   \n",
              "\n",
              "   1.35E+00  9.80E-01  9.78E-01  9.20E-01  7.22E-01  9.89E-01  8.77E-01  \n",
              "0  0.859235  0.827233  0.995416  0.764766  0.520597  0.850413  0.929865  \n",
              "1  0.887944  0.924601  0.987189  0.854094  0.385013  0.789912  0.724627  \n",
              "2  0.936186  1.107217  0.983808  0.693327  0.562045  0.825387  0.846233  \n",
              "3  1.181790  1.033701  0.993943  0.648399  0.936097  0.732592  0.661779  \n",
              "4  4.883954  2.585889  0.992005  1.935075  1.144530  1.818775  2.094304  \n",
              "\n",
              "[5 rows x 28 columns]"
            ],
            "text/html": [
              "\n",
              "  <div id=\"df-a0c2fd33-11d3-4d78-8a95-2f534e447b55\" class=\"colab-df-container\">\n",
              "    <div>\n",
              "<style scoped>\n",
              "    .dataframe tbody tr th:only-of-type {\n",
              "        vertical-align: middle;\n",
              "    }\n",
              "\n",
              "    .dataframe tbody tr th {\n",
              "        vertical-align: top;\n",
              "    }\n",
              "\n",
              "    .dataframe thead th {\n",
              "        text-align: right;\n",
              "    }\n",
              "</style>\n",
              "<table border=\"1\" class=\"dataframe\">\n",
              "  <thead>\n",
              "    <tr style=\"text-align: right;\">\n",
              "      <th></th>\n",
              "      <th>8.69E-01</th>\n",
              "      <th>-6.35E-01</th>\n",
              "      <th>2.26E-01</th>\n",
              "      <th>3.27E-01</th>\n",
              "      <th>-6.90E-01</th>\n",
              "      <th>7.54E-01</th>\n",
              "      <th>-2.49E-01</th>\n",
              "      <th>-1.09E+00</th>\n",
              "      <th>0.00E+00</th>\n",
              "      <th>1.37E+00</th>\n",
              "      <th>...</th>\n",
              "      <th>-1.05E-02</th>\n",
              "      <th>-4.58E-02</th>\n",
              "      <th>3.10E+00</th>\n",
              "      <th>1.35E+00</th>\n",
              "      <th>9.80E-01</th>\n",
              "      <th>9.78E-01</th>\n",
              "      <th>9.20E-01</th>\n",
              "      <th>7.22E-01</th>\n",
              "      <th>9.89E-01</th>\n",
              "      <th>8.77E-01</th>\n",
              "    </tr>\n",
              "  </thead>\n",
              "  <tbody>\n",
              "    <tr>\n",
              "      <th>0</th>\n",
              "      <td>1.630428</td>\n",
              "      <td>0.404143</td>\n",
              "      <td>0.401026</td>\n",
              "      <td>2.722409</td>\n",
              "      <td>0.355644</td>\n",
              "      <td>1.362199</td>\n",
              "      <td>0.015818</td>\n",
              "      <td>-1.174111</td>\n",
              "      <td>0.000000</td>\n",
              "      <td>1.002695</td>\n",
              "      <td>...</td>\n",
              "      <td>0.387635</td>\n",
              "      <td>1.596321</td>\n",
              "      <td>1.550981</td>\n",
              "      <td>0.859235</td>\n",
              "      <td>0.827233</td>\n",
              "      <td>0.995416</td>\n",
              "      <td>0.764766</td>\n",
              "      <td>0.520597</td>\n",
              "      <td>0.850413</td>\n",
              "      <td>0.929865</td>\n",
              "    </tr>\n",
              "    <tr>\n",
              "      <th>1</th>\n",
              "      <td>0.326305</td>\n",
              "      <td>-0.797735</td>\n",
              "      <td>0.223471</td>\n",
              "      <td>1.248234</td>\n",
              "      <td>-1.427857</td>\n",
              "      <td>0.923767</td>\n",
              "      <td>-0.278280</td>\n",
              "      <td>-0.470052</td>\n",
              "      <td>0.000000</td>\n",
              "      <td>0.894418</td>\n",
              "      <td>...</td>\n",
              "      <td>-0.426866</td>\n",
              "      <td>1.153501</td>\n",
              "      <td>0.000000</td>\n",
              "      <td>0.887944</td>\n",
              "      <td>0.924601</td>\n",
              "      <td>0.987189</td>\n",
              "      <td>0.854094</td>\n",
              "      <td>0.385013</td>\n",
              "      <td>0.789912</td>\n",
              "      <td>0.724627</td>\n",
              "    </tr>\n",
              "    <tr>\n",
              "      <th>2</th>\n",
              "      <td>1.381170</td>\n",
              "      <td>0.521993</td>\n",
              "      <td>0.574698</td>\n",
              "      <td>0.357347</td>\n",
              "      <td>0.037136</td>\n",
              "      <td>0.413057</td>\n",
              "      <td>-0.607036</td>\n",
              "      <td>-1.308270</td>\n",
              "      <td>0.000000</td>\n",
              "      <td>0.655957</td>\n",
              "      <td>...</td>\n",
              "      <td>0.567525</td>\n",
              "      <td>-1.475778</td>\n",
              "      <td>0.000000</td>\n",
              "      <td>0.936186</td>\n",
              "      <td>1.107217</td>\n",
              "      <td>0.983808</td>\n",
              "      <td>0.693327</td>\n",
              "      <td>0.562045</td>\n",
              "      <td>0.825387</td>\n",
              "      <td>0.846233</td>\n",
              "    </tr>\n",
              "    <tr>\n",
              "      <th>3</th>\n",
              "      <td>0.304161</td>\n",
              "      <td>-0.736375</td>\n",
              "      <td>0.686225</td>\n",
              "      <td>0.477172</td>\n",
              "      <td>-1.274736</td>\n",
              "      <td>0.907003</td>\n",
              "      <td>0.324770</td>\n",
              "      <td>-0.463954</td>\n",
              "      <td>2.173076</td>\n",
              "      <td>0.468865</td>\n",
              "      <td>...</td>\n",
              "      <td>0.904818</td>\n",
              "      <td>1.165154</td>\n",
              "      <td>0.000000</td>\n",
              "      <td>1.181790</td>\n",
              "      <td>1.033701</td>\n",
              "      <td>0.993943</td>\n",
              "      <td>0.648399</td>\n",
              "      <td>0.936097</td>\n",
              "      <td>0.732592</td>\n",
              "      <td>0.661779</td>\n",
              "    </tr>\n",
              "    <tr>\n",
              "      <th>4</th>\n",
              "      <td>0.661761</td>\n",
              "      <td>0.486930</td>\n",
              "      <td>0.542516</td>\n",
              "      <td>2.630618</td>\n",
              "      <td>1.098063</td>\n",
              "      <td>1.021878</td>\n",
              "      <td>-2.306271</td>\n",
              "      <td>-0.652999</td>\n",
              "      <td>0.000000</td>\n",
              "      <td>1.700830</td>\n",
              "      <td>...</td>\n",
              "      <td>-0.943217</td>\n",
              "      <td>0.566404</td>\n",
              "      <td>3.101961</td>\n",
              "      <td>4.883954</td>\n",
              "      <td>2.585889</td>\n",
              "      <td>0.992005</td>\n",
              "      <td>1.935075</td>\n",
              "      <td>1.144530</td>\n",
              "      <td>1.818775</td>\n",
              "      <td>2.094304</td>\n",
              "    </tr>\n",
              "  </tbody>\n",
              "</table>\n",
              "<p>5 rows × 28 columns</p>\n",
              "</div>\n",
              "    <div class=\"colab-df-buttons\">\n",
              "\n",
              "  <div class=\"colab-df-container\">\n",
              "    <button class=\"colab-df-convert\" onclick=\"convertToInteractive('df-a0c2fd33-11d3-4d78-8a95-2f534e447b55')\"\n",
              "            title=\"Convert this dataframe to an interactive table.\"\n",
              "            style=\"display:none;\">\n",
              "\n",
              "  <svg xmlns=\"http://www.w3.org/2000/svg\" height=\"24px\" viewBox=\"0 -960 960 960\">\n",
              "    <path d=\"M120-120v-720h720v720H120Zm60-500h600v-160H180v160Zm220 220h160v-160H400v160Zm0 220h160v-160H400v160ZM180-400h160v-160H180v160Zm440 0h160v-160H620v160ZM180-180h160v-160H180v160Zm440 0h160v-160H620v160Z\"/>\n",
              "  </svg>\n",
              "    </button>\n",
              "\n",
              "  <style>\n",
              "    .colab-df-container {\n",
              "      display:flex;\n",
              "      gap: 12px;\n",
              "    }\n",
              "\n",
              "    .colab-df-convert {\n",
              "      background-color: #E8F0FE;\n",
              "      border: none;\n",
              "      border-radius: 50%;\n",
              "      cursor: pointer;\n",
              "      display: none;\n",
              "      fill: #1967D2;\n",
              "      height: 32px;\n",
              "      padding: 0 0 0 0;\n",
              "      width: 32px;\n",
              "    }\n",
              "\n",
              "    .colab-df-convert:hover {\n",
              "      background-color: #E2EBFA;\n",
              "      box-shadow: 0px 1px 2px rgba(60, 64, 67, 0.3), 0px 1px 3px 1px rgba(60, 64, 67, 0.15);\n",
              "      fill: #174EA6;\n",
              "    }\n",
              "\n",
              "    .colab-df-buttons div {\n",
              "      margin-bottom: 4px;\n",
              "    }\n",
              "\n",
              "    [theme=dark] .colab-df-convert {\n",
              "      background-color: #3B4455;\n",
              "      fill: #D2E3FC;\n",
              "    }\n",
              "\n",
              "    [theme=dark] .colab-df-convert:hover {\n",
              "      background-color: #434B5C;\n",
              "      box-shadow: 0px 1px 3px 1px rgba(0, 0, 0, 0.15);\n",
              "      filter: drop-shadow(0px 1px 2px rgba(0, 0, 0, 0.3));\n",
              "      fill: #FFFFFF;\n",
              "    }\n",
              "  </style>\n",
              "\n",
              "    <script>\n",
              "      const buttonEl =\n",
              "        document.querySelector('#df-a0c2fd33-11d3-4d78-8a95-2f534e447b55 button.colab-df-convert');\n",
              "      buttonEl.style.display =\n",
              "        google.colab.kernel.accessAllowed ? 'block' : 'none';\n",
              "\n",
              "      async function convertToInteractive(key) {\n",
              "        const element = document.querySelector('#df-a0c2fd33-11d3-4d78-8a95-2f534e447b55');\n",
              "        const dataTable =\n",
              "          await google.colab.kernel.invokeFunction('convertToInteractive',\n",
              "                                                    [key], {});\n",
              "        if (!dataTable) return;\n",
              "\n",
              "        const docLinkHtml = 'Like what you see? Visit the ' +\n",
              "          '<a target=\"_blank\" href=https://colab.research.google.com/notebooks/data_table.ipynb>data table notebook</a>'\n",
              "          + ' to learn more about interactive tables.';\n",
              "        element.innerHTML = '';\n",
              "        dataTable['output_type'] = 'display_data';\n",
              "        await google.colab.output.renderOutput(dataTable, element);\n",
              "        const docLink = document.createElement('div');\n",
              "        docLink.innerHTML = docLinkHtml;\n",
              "        element.appendChild(docLink);\n",
              "      }\n",
              "    </script>\n",
              "  </div>\n",
              "\n",
              "\n",
              "    <div id=\"df-bd707fa1-cc6e-46fe-8c06-8b874bbbd9f4\">\n",
              "      <button class=\"colab-df-quickchart\" onclick=\"quickchart('df-bd707fa1-cc6e-46fe-8c06-8b874bbbd9f4')\"\n",
              "                title=\"Suggest charts\"\n",
              "                style=\"display:none;\">\n",
              "\n",
              "<svg xmlns=\"http://www.w3.org/2000/svg\" height=\"24px\"viewBox=\"0 0 24 24\"\n",
              "     width=\"24px\">\n",
              "    <g>\n",
              "        <path d=\"M19 3H5c-1.1 0-2 .9-2 2v14c0 1.1.9 2 2 2h14c1.1 0 2-.9 2-2V5c0-1.1-.9-2-2-2zM9 17H7v-7h2v7zm4 0h-2V7h2v10zm4 0h-2v-4h2v4z\"/>\n",
              "    </g>\n",
              "</svg>\n",
              "      </button>\n",
              "\n",
              "<style>\n",
              "  .colab-df-quickchart {\n",
              "      --bg-color: #E8F0FE;\n",
              "      --fill-color: #1967D2;\n",
              "      --hover-bg-color: #E2EBFA;\n",
              "      --hover-fill-color: #174EA6;\n",
              "      --disabled-fill-color: #AAA;\n",
              "      --disabled-bg-color: #DDD;\n",
              "  }\n",
              "\n",
              "  [theme=dark] .colab-df-quickchart {\n",
              "      --bg-color: #3B4455;\n",
              "      --fill-color: #D2E3FC;\n",
              "      --hover-bg-color: #434B5C;\n",
              "      --hover-fill-color: #FFFFFF;\n",
              "      --disabled-bg-color: #3B4455;\n",
              "      --disabled-fill-color: #666;\n",
              "  }\n",
              "\n",
              "  .colab-df-quickchart {\n",
              "    background-color: var(--bg-color);\n",
              "    border: none;\n",
              "    border-radius: 50%;\n",
              "    cursor: pointer;\n",
              "    display: none;\n",
              "    fill: var(--fill-color);\n",
              "    height: 32px;\n",
              "    padding: 0;\n",
              "    width: 32px;\n",
              "  }\n",
              "\n",
              "  .colab-df-quickchart:hover {\n",
              "    background-color: var(--hover-bg-color);\n",
              "    box-shadow: 0 1px 2px rgba(60, 64, 67, 0.3), 0 1px 3px 1px rgba(60, 64, 67, 0.15);\n",
              "    fill: var(--button-hover-fill-color);\n",
              "  }\n",
              "\n",
              "  .colab-df-quickchart-complete:disabled,\n",
              "  .colab-df-quickchart-complete:disabled:hover {\n",
              "    background-color: var(--disabled-bg-color);\n",
              "    fill: var(--disabled-fill-color);\n",
              "    box-shadow: none;\n",
              "  }\n",
              "\n",
              "  .colab-df-spinner {\n",
              "    border: 2px solid var(--fill-color);\n",
              "    border-color: transparent;\n",
              "    border-bottom-color: var(--fill-color);\n",
              "    animation:\n",
              "      spin 1s steps(1) infinite;\n",
              "  }\n",
              "\n",
              "  @keyframes spin {\n",
              "    0% {\n",
              "      border-color: transparent;\n",
              "      border-bottom-color: var(--fill-color);\n",
              "      border-left-color: var(--fill-color);\n",
              "    }\n",
              "    20% {\n",
              "      border-color: transparent;\n",
              "      border-left-color: var(--fill-color);\n",
              "      border-top-color: var(--fill-color);\n",
              "    }\n",
              "    30% {\n",
              "      border-color: transparent;\n",
              "      border-left-color: var(--fill-color);\n",
              "      border-top-color: var(--fill-color);\n",
              "      border-right-color: var(--fill-color);\n",
              "    }\n",
              "    40% {\n",
              "      border-color: transparent;\n",
              "      border-right-color: var(--fill-color);\n",
              "      border-top-color: var(--fill-color);\n",
              "    }\n",
              "    60% {\n",
              "      border-color: transparent;\n",
              "      border-right-color: var(--fill-color);\n",
              "    }\n",
              "    80% {\n",
              "      border-color: transparent;\n",
              "      border-right-color: var(--fill-color);\n",
              "      border-bottom-color: var(--fill-color);\n",
              "    }\n",
              "    90% {\n",
              "      border-color: transparent;\n",
              "      border-bottom-color: var(--fill-color);\n",
              "    }\n",
              "  }\n",
              "</style>\n",
              "\n",
              "      <script>\n",
              "        async function quickchart(key) {\n",
              "          const quickchartButtonEl =\n",
              "            document.querySelector('#' + key + ' button');\n",
              "          quickchartButtonEl.disabled = true;  // To prevent multiple clicks.\n",
              "          quickchartButtonEl.classList.add('colab-df-spinner');\n",
              "          try {\n",
              "            const charts = await google.colab.kernel.invokeFunction(\n",
              "                'suggestCharts', [key], {});\n",
              "          } catch (error) {\n",
              "            console.error('Error during call to suggestCharts:', error);\n",
              "          }\n",
              "          quickchartButtonEl.classList.remove('colab-df-spinner');\n",
              "          quickchartButtonEl.classList.add('colab-df-quickchart-complete');\n",
              "        }\n",
              "        (() => {\n",
              "          let quickchartButtonEl =\n",
              "            document.querySelector('#df-bd707fa1-cc6e-46fe-8c06-8b874bbbd9f4 button');\n",
              "          quickchartButtonEl.style.display =\n",
              "            google.colab.kernel.accessAllowed ? 'block' : 'none';\n",
              "        })();\n",
              "      </script>\n",
              "    </div>\n",
              "\n",
              "    </div>\n",
              "  </div>\n"
            ],
            "application/vnd.google.colaboratory.intrinsic+json": {
              "type": "dataframe",
              "variable_name": "X_data"
            }
          },
          "metadata": {},
          "execution_count": 37
        }
      ],
      "source": [
        "#all rows all columns but expect first (column 1-28)\n",
        "X_data = df.iloc[:, 1:]\n",
        "#all rows, only the first column (column 0 )\n",
        "y_class = df.iloc[:, 0]\n",
        "X_data.head()"
      ]
    },
    {
      "cell_type": "code",
      "execution_count": 38,
      "id": "8398672d",
      "metadata": {
        "id": "8398672d",
        "colab": {
          "base_uri": "https://localhost:8080/",
          "height": 458
        },
        "outputId": "0d80ce26-cc08-42ea-f238-5fd3a168e403"
      },
      "outputs": [
        {
          "output_type": "execute_result",
          "data": {
            "text/plain": [
              "0       0\n",
              "1       1\n",
              "2       1\n",
              "3       1\n",
              "4       1\n",
              "       ..\n",
              "7995    1\n",
              "7996    0\n",
              "7997    1\n",
              "7998    0\n",
              "7999    0\n",
              "Name: 1.00E+00, Length: 8000, dtype: int64"
            ],
            "text/html": [
              "<div>\n",
              "<style scoped>\n",
              "    .dataframe tbody tr th:only-of-type {\n",
              "        vertical-align: middle;\n",
              "    }\n",
              "\n",
              "    .dataframe tbody tr th {\n",
              "        vertical-align: top;\n",
              "    }\n",
              "\n",
              "    .dataframe thead th {\n",
              "        text-align: right;\n",
              "    }\n",
              "</style>\n",
              "<table border=\"1\" class=\"dataframe\">\n",
              "  <thead>\n",
              "    <tr style=\"text-align: right;\">\n",
              "      <th></th>\n",
              "      <th>1.00E+00</th>\n",
              "    </tr>\n",
              "  </thead>\n",
              "  <tbody>\n",
              "    <tr>\n",
              "      <th>0</th>\n",
              "      <td>0</td>\n",
              "    </tr>\n",
              "    <tr>\n",
              "      <th>1</th>\n",
              "      <td>1</td>\n",
              "    </tr>\n",
              "    <tr>\n",
              "      <th>2</th>\n",
              "      <td>1</td>\n",
              "    </tr>\n",
              "    <tr>\n",
              "      <th>3</th>\n",
              "      <td>1</td>\n",
              "    </tr>\n",
              "    <tr>\n",
              "      <th>4</th>\n",
              "      <td>1</td>\n",
              "    </tr>\n",
              "    <tr>\n",
              "      <th>...</th>\n",
              "      <td>...</td>\n",
              "    </tr>\n",
              "    <tr>\n",
              "      <th>7995</th>\n",
              "      <td>1</td>\n",
              "    </tr>\n",
              "    <tr>\n",
              "      <th>7996</th>\n",
              "      <td>0</td>\n",
              "    </tr>\n",
              "    <tr>\n",
              "      <th>7997</th>\n",
              "      <td>1</td>\n",
              "    </tr>\n",
              "    <tr>\n",
              "      <th>7998</th>\n",
              "      <td>0</td>\n",
              "    </tr>\n",
              "    <tr>\n",
              "      <th>7999</th>\n",
              "      <td>0</td>\n",
              "    </tr>\n",
              "  </tbody>\n",
              "</table>\n",
              "<p>8000 rows × 1 columns</p>\n",
              "</div><br><label><b>dtype:</b> int64</label>"
            ]
          },
          "metadata": {},
          "execution_count": 38
        }
      ],
      "source": [
        "y_class"
      ]
    },
    {
      "cell_type": "code",
      "execution_count": 39,
      "id": "84088767",
      "metadata": {
        "id": "84088767"
      },
      "outputs": [],
      "source": [
        "# Splitting the dataset into trainning  and test daata\n",
        "from sklearn.model_selection import train_test_split\n",
        "X_train, X_test, y_train, y_test = train_test_split(X_data, y_class, test_size = 0.25, random_state = 42)"
      ]
    },
    {
      "cell_type": "code",
      "execution_count": 40,
      "id": "5f261c5e",
      "metadata": {
        "id": "5f261c5e",
        "colab": {
          "base_uri": "https://localhost:8080/",
          "height": 461
        },
        "outputId": "58907cd8-087c-4624-da22-c06a978bd627"
      },
      "outputs": [
        {
          "output_type": "execute_result",
          "data": {
            "text/plain": [
              "      8.69E-01  -6.35E-01  2.26E-01  3.27E-01  -6.90E-01  7.54E-01  -2.49E-01  \\\n",
              "3836  0.749971  -0.702286  0.386045  1.192325  -0.740626  0.488266   1.491261   \n",
              "6408  0.646022  -1.429840  1.647800  0.300419   0.765687  1.251446  -0.440678   \n",
              "4840  0.661761  -0.567878  0.317242  0.345002  -1.277267  1.084629   2.240865   \n",
              "527   0.583250   1.686860 -0.278226  0.979551   1.532366  0.654259   2.240865   \n",
              "6105  0.536034   1.365450 -0.749306  2.094681   0.009966  0.898667   0.256444   \n",
              "...        ...        ...       ...       ...        ...       ...        ...   \n",
              "5226  0.301782   1.679068  0.654043  1.250684  -1.429821  0.513550  -0.334723   \n",
              "5390  0.478569   1.225199 -1.622658  1.919706  -1.209018  0.997603  -1.465566   \n",
              "860   0.865633   0.313564 -0.556215  2.096674  -0.097666  0.864131  -0.356508   \n",
              "7603  1.035465   1.257340 -1.588812  2.096193   1.388253  0.614593   1.141710   \n",
              "7270  1.228540   2.179688  1.721596  0.787120  -1.082088  0.638227  -0.123804   \n",
              "\n",
              "      -1.09E+00  0.00E+00  1.37E+00  ...  -1.05E-02  -4.58E-02  3.10E+00  \\\n",
              "3836  -1.551087  2.173076  0.639716  ...   0.344328  -1.200542  3.101961   \n",
              "6408  -0.891380  0.000000  1.296806  ...  -0.057093  -0.027455  0.000000   \n",
              "4840  -0.896369  0.000000  0.750763  ...   2.205688   1.583003  0.000000   \n",
              "527    0.179224  0.000000  0.916074  ...   1.152999   0.934865  0.000000   \n",
              "6105   1.613948  0.000000  0.707452  ...   0.550868   0.979258  3.101961   \n",
              "...         ...       ...       ...  ...        ...        ...       ...   \n",
              "5226   0.917098  2.173076  0.904743  ...  -1.561172   1.654586  0.000000   \n",
              "5390   0.313383  2.173076  0.476797  ...   1.144671   0.677386  0.000000   \n",
              "860    1.216460  2.173076  0.573113  ...   1.073048  -1.729928  3.101961   \n",
              "7603  -0.078109  2.173076  0.548813  ...   1.247108  -0.672820  0.000000   \n",
              "7270  -0.410179  0.000000  0.276106  ...   0.450097   1.205108  3.101961   \n",
              "\n",
              "      1.35E+00  9.80E-01  9.78E-01  9.20E-01  7.22E-01  9.89E-01  8.77E-01  \n",
              "3836  0.880833  0.990198  1.112521  0.705909  0.412651  0.838709  0.729433  \n",
              "6408  0.905298  0.878399  0.978860  0.823843  1.234711  0.737102  0.665027  \n",
              "4840  0.921575  0.908112  0.986010  0.517904  0.492038  0.604469  0.644453  \n",
              "527   0.604380  0.857669  1.045220  0.820037  0.712947  0.803049  0.721624  \n",
              "6105  1.034976  1.073982  0.987045  0.787476  0.535101  0.652412  0.784540  \n",
              "...        ...       ...       ...       ...       ...       ...       ...  \n",
              "5226  1.912328  1.204280  0.983197  1.814277  0.855579  1.287443  1.437053  \n",
              "5390  0.930481  1.152707  0.979980  0.883238  0.539095  1.208899  1.159287  \n",
              "860   1.722980  1.111352  0.985766  1.315615  1.093190  1.099513  1.051026  \n",
              "7603  0.823440  0.751624  0.988628  1.351516  0.985051  1.076640  0.906995  \n",
              "7270  0.855030  0.763979  0.982337  0.742963  0.682111  1.263618  1.058125  \n",
              "\n",
              "[6000 rows x 28 columns]"
            ],
            "text/html": [
              "\n",
              "  <div id=\"df-31a2d465-c8a3-40bc-8a07-f623b9bc0fe1\" class=\"colab-df-container\">\n",
              "    <div>\n",
              "<style scoped>\n",
              "    .dataframe tbody tr th:only-of-type {\n",
              "        vertical-align: middle;\n",
              "    }\n",
              "\n",
              "    .dataframe tbody tr th {\n",
              "        vertical-align: top;\n",
              "    }\n",
              "\n",
              "    .dataframe thead th {\n",
              "        text-align: right;\n",
              "    }\n",
              "</style>\n",
              "<table border=\"1\" class=\"dataframe\">\n",
              "  <thead>\n",
              "    <tr style=\"text-align: right;\">\n",
              "      <th></th>\n",
              "      <th>8.69E-01</th>\n",
              "      <th>-6.35E-01</th>\n",
              "      <th>2.26E-01</th>\n",
              "      <th>3.27E-01</th>\n",
              "      <th>-6.90E-01</th>\n",
              "      <th>7.54E-01</th>\n",
              "      <th>-2.49E-01</th>\n",
              "      <th>-1.09E+00</th>\n",
              "      <th>0.00E+00</th>\n",
              "      <th>1.37E+00</th>\n",
              "      <th>...</th>\n",
              "      <th>-1.05E-02</th>\n",
              "      <th>-4.58E-02</th>\n",
              "      <th>3.10E+00</th>\n",
              "      <th>1.35E+00</th>\n",
              "      <th>9.80E-01</th>\n",
              "      <th>9.78E-01</th>\n",
              "      <th>9.20E-01</th>\n",
              "      <th>7.22E-01</th>\n",
              "      <th>9.89E-01</th>\n",
              "      <th>8.77E-01</th>\n",
              "    </tr>\n",
              "  </thead>\n",
              "  <tbody>\n",
              "    <tr>\n",
              "      <th>3836</th>\n",
              "      <td>0.749971</td>\n",
              "      <td>-0.702286</td>\n",
              "      <td>0.386045</td>\n",
              "      <td>1.192325</td>\n",
              "      <td>-0.740626</td>\n",
              "      <td>0.488266</td>\n",
              "      <td>1.491261</td>\n",
              "      <td>-1.551087</td>\n",
              "      <td>2.173076</td>\n",
              "      <td>0.639716</td>\n",
              "      <td>...</td>\n",
              "      <td>0.344328</td>\n",
              "      <td>-1.200542</td>\n",
              "      <td>3.101961</td>\n",
              "      <td>0.880833</td>\n",
              "      <td>0.990198</td>\n",
              "      <td>1.112521</td>\n",
              "      <td>0.705909</td>\n",
              "      <td>0.412651</td>\n",
              "      <td>0.838709</td>\n",
              "      <td>0.729433</td>\n",
              "    </tr>\n",
              "    <tr>\n",
              "      <th>6408</th>\n",
              "      <td>0.646022</td>\n",
              "      <td>-1.429840</td>\n",
              "      <td>1.647800</td>\n",
              "      <td>0.300419</td>\n",
              "      <td>0.765687</td>\n",
              "      <td>1.251446</td>\n",
              "      <td>-0.440678</td>\n",
              "      <td>-0.891380</td>\n",
              "      <td>0.000000</td>\n",
              "      <td>1.296806</td>\n",
              "      <td>...</td>\n",
              "      <td>-0.057093</td>\n",
              "      <td>-0.027455</td>\n",
              "      <td>0.000000</td>\n",
              "      <td>0.905298</td>\n",
              "      <td>0.878399</td>\n",
              "      <td>0.978860</td>\n",
              "      <td>0.823843</td>\n",
              "      <td>1.234711</td>\n",
              "      <td>0.737102</td>\n",
              "      <td>0.665027</td>\n",
              "    </tr>\n",
              "    <tr>\n",
              "      <th>4840</th>\n",
              "      <td>0.661761</td>\n",
              "      <td>-0.567878</td>\n",
              "      <td>0.317242</td>\n",
              "      <td>0.345002</td>\n",
              "      <td>-1.277267</td>\n",
              "      <td>1.084629</td>\n",
              "      <td>2.240865</td>\n",
              "      <td>-0.896369</td>\n",
              "      <td>0.000000</td>\n",
              "      <td>0.750763</td>\n",
              "      <td>...</td>\n",
              "      <td>2.205688</td>\n",
              "      <td>1.583003</td>\n",
              "      <td>0.000000</td>\n",
              "      <td>0.921575</td>\n",
              "      <td>0.908112</td>\n",
              "      <td>0.986010</td>\n",
              "      <td>0.517904</td>\n",
              "      <td>0.492038</td>\n",
              "      <td>0.604469</td>\n",
              "      <td>0.644453</td>\n",
              "    </tr>\n",
              "    <tr>\n",
              "      <th>527</th>\n",
              "      <td>0.583250</td>\n",
              "      <td>1.686860</td>\n",
              "      <td>-0.278226</td>\n",
              "      <td>0.979551</td>\n",
              "      <td>1.532366</td>\n",
              "      <td>0.654259</td>\n",
              "      <td>2.240865</td>\n",
              "      <td>0.179224</td>\n",
              "      <td>0.000000</td>\n",
              "      <td>0.916074</td>\n",
              "      <td>...</td>\n",
              "      <td>1.152999</td>\n",
              "      <td>0.934865</td>\n",
              "      <td>0.000000</td>\n",
              "      <td>0.604380</td>\n",
              "      <td>0.857669</td>\n",
              "      <td>1.045220</td>\n",
              "      <td>0.820037</td>\n",
              "      <td>0.712947</td>\n",
              "      <td>0.803049</td>\n",
              "      <td>0.721624</td>\n",
              "    </tr>\n",
              "    <tr>\n",
              "      <th>6105</th>\n",
              "      <td>0.536034</td>\n",
              "      <td>1.365450</td>\n",
              "      <td>-0.749306</td>\n",
              "      <td>2.094681</td>\n",
              "      <td>0.009966</td>\n",
              "      <td>0.898667</td>\n",
              "      <td>0.256444</td>\n",
              "      <td>1.613948</td>\n",
              "      <td>0.000000</td>\n",
              "      <td>0.707452</td>\n",
              "      <td>...</td>\n",
              "      <td>0.550868</td>\n",
              "      <td>0.979258</td>\n",
              "      <td>3.101961</td>\n",
              "      <td>1.034976</td>\n",
              "      <td>1.073982</td>\n",
              "      <td>0.987045</td>\n",
              "      <td>0.787476</td>\n",
              "      <td>0.535101</td>\n",
              "      <td>0.652412</td>\n",
              "      <td>0.784540</td>\n",
              "    </tr>\n",
              "    <tr>\n",
              "      <th>...</th>\n",
              "      <td>...</td>\n",
              "      <td>...</td>\n",
              "      <td>...</td>\n",
              "      <td>...</td>\n",
              "      <td>...</td>\n",
              "      <td>...</td>\n",
              "      <td>...</td>\n",
              "      <td>...</td>\n",
              "      <td>...</td>\n",
              "      <td>...</td>\n",
              "      <td>...</td>\n",
              "      <td>...</td>\n",
              "      <td>...</td>\n",
              "      <td>...</td>\n",
              "      <td>...</td>\n",
              "      <td>...</td>\n",
              "      <td>...</td>\n",
              "      <td>...</td>\n",
              "      <td>...</td>\n",
              "      <td>...</td>\n",
              "      <td>...</td>\n",
              "    </tr>\n",
              "    <tr>\n",
              "      <th>5226</th>\n",
              "      <td>0.301782</td>\n",
              "      <td>1.679068</td>\n",
              "      <td>0.654043</td>\n",
              "      <td>1.250684</td>\n",
              "      <td>-1.429821</td>\n",
              "      <td>0.513550</td>\n",
              "      <td>-0.334723</td>\n",
              "      <td>0.917098</td>\n",
              "      <td>2.173076</td>\n",
              "      <td>0.904743</td>\n",
              "      <td>...</td>\n",
              "      <td>-1.561172</td>\n",
              "      <td>1.654586</td>\n",
              "      <td>0.000000</td>\n",
              "      <td>1.912328</td>\n",
              "      <td>1.204280</td>\n",
              "      <td>0.983197</td>\n",
              "      <td>1.814277</td>\n",
              "      <td>0.855579</td>\n",
              "      <td>1.287443</td>\n",
              "      <td>1.437053</td>\n",
              "    </tr>\n",
              "    <tr>\n",
              "      <th>5390</th>\n",
              "      <td>0.478569</td>\n",
              "      <td>1.225199</td>\n",
              "      <td>-1.622658</td>\n",
              "      <td>1.919706</td>\n",
              "      <td>-1.209018</td>\n",
              "      <td>0.997603</td>\n",
              "      <td>-1.465566</td>\n",
              "      <td>0.313383</td>\n",
              "      <td>2.173076</td>\n",
              "      <td>0.476797</td>\n",
              "      <td>...</td>\n",
              "      <td>1.144671</td>\n",
              "      <td>0.677386</td>\n",
              "      <td>0.000000</td>\n",
              "      <td>0.930481</td>\n",
              "      <td>1.152707</td>\n",
              "      <td>0.979980</td>\n",
              "      <td>0.883238</td>\n",
              "      <td>0.539095</td>\n",
              "      <td>1.208899</td>\n",
              "      <td>1.159287</td>\n",
              "    </tr>\n",
              "    <tr>\n",
              "      <th>860</th>\n",
              "      <td>0.865633</td>\n",
              "      <td>0.313564</td>\n",
              "      <td>-0.556215</td>\n",
              "      <td>2.096674</td>\n",
              "      <td>-0.097666</td>\n",
              "      <td>0.864131</td>\n",
              "      <td>-0.356508</td>\n",
              "      <td>1.216460</td>\n",
              "      <td>2.173076</td>\n",
              "      <td>0.573113</td>\n",
              "      <td>...</td>\n",
              "      <td>1.073048</td>\n",
              "      <td>-1.729928</td>\n",
              "      <td>3.101961</td>\n",
              "      <td>1.722980</td>\n",
              "      <td>1.111352</td>\n",
              "      <td>0.985766</td>\n",
              "      <td>1.315615</td>\n",
              "      <td>1.093190</td>\n",
              "      <td>1.099513</td>\n",
              "      <td>1.051026</td>\n",
              "    </tr>\n",
              "    <tr>\n",
              "      <th>7603</th>\n",
              "      <td>1.035465</td>\n",
              "      <td>1.257340</td>\n",
              "      <td>-1.588812</td>\n",
              "      <td>2.096193</td>\n",
              "      <td>1.388253</td>\n",
              "      <td>0.614593</td>\n",
              "      <td>1.141710</td>\n",
              "      <td>-0.078109</td>\n",
              "      <td>2.173076</td>\n",
              "      <td>0.548813</td>\n",
              "      <td>...</td>\n",
              "      <td>1.247108</td>\n",
              "      <td>-0.672820</td>\n",
              "      <td>0.000000</td>\n",
              "      <td>0.823440</td>\n",
              "      <td>0.751624</td>\n",
              "      <td>0.988628</td>\n",
              "      <td>1.351516</td>\n",
              "      <td>0.985051</td>\n",
              "      <td>1.076640</td>\n",
              "      <td>0.906995</td>\n",
              "    </tr>\n",
              "    <tr>\n",
              "      <th>7270</th>\n",
              "      <td>1.228540</td>\n",
              "      <td>2.179688</td>\n",
              "      <td>1.721596</td>\n",
              "      <td>0.787120</td>\n",
              "      <td>-1.082088</td>\n",
              "      <td>0.638227</td>\n",
              "      <td>-0.123804</td>\n",
              "      <td>-0.410179</td>\n",
              "      <td>0.000000</td>\n",
              "      <td>0.276106</td>\n",
              "      <td>...</td>\n",
              "      <td>0.450097</td>\n",
              "      <td>1.205108</td>\n",
              "      <td>3.101961</td>\n",
              "      <td>0.855030</td>\n",
              "      <td>0.763979</td>\n",
              "      <td>0.982337</td>\n",
              "      <td>0.742963</td>\n",
              "      <td>0.682111</td>\n",
              "      <td>1.263618</td>\n",
              "      <td>1.058125</td>\n",
              "    </tr>\n",
              "  </tbody>\n",
              "</table>\n",
              "<p>6000 rows × 28 columns</p>\n",
              "</div>\n",
              "    <div class=\"colab-df-buttons\">\n",
              "\n",
              "  <div class=\"colab-df-container\">\n",
              "    <button class=\"colab-df-convert\" onclick=\"convertToInteractive('df-31a2d465-c8a3-40bc-8a07-f623b9bc0fe1')\"\n",
              "            title=\"Convert this dataframe to an interactive table.\"\n",
              "            style=\"display:none;\">\n",
              "\n",
              "  <svg xmlns=\"http://www.w3.org/2000/svg\" height=\"24px\" viewBox=\"0 -960 960 960\">\n",
              "    <path d=\"M120-120v-720h720v720H120Zm60-500h600v-160H180v160Zm220 220h160v-160H400v160Zm0 220h160v-160H400v160ZM180-400h160v-160H180v160Zm440 0h160v-160H620v160ZM180-180h160v-160H180v160Zm440 0h160v-160H620v160Z\"/>\n",
              "  </svg>\n",
              "    </button>\n",
              "\n",
              "  <style>\n",
              "    .colab-df-container {\n",
              "      display:flex;\n",
              "      gap: 12px;\n",
              "    }\n",
              "\n",
              "    .colab-df-convert {\n",
              "      background-color: #E8F0FE;\n",
              "      border: none;\n",
              "      border-radius: 50%;\n",
              "      cursor: pointer;\n",
              "      display: none;\n",
              "      fill: #1967D2;\n",
              "      height: 32px;\n",
              "      padding: 0 0 0 0;\n",
              "      width: 32px;\n",
              "    }\n",
              "\n",
              "    .colab-df-convert:hover {\n",
              "      background-color: #E2EBFA;\n",
              "      box-shadow: 0px 1px 2px rgba(60, 64, 67, 0.3), 0px 1px 3px 1px rgba(60, 64, 67, 0.15);\n",
              "      fill: #174EA6;\n",
              "    }\n",
              "\n",
              "    .colab-df-buttons div {\n",
              "      margin-bottom: 4px;\n",
              "    }\n",
              "\n",
              "    [theme=dark] .colab-df-convert {\n",
              "      background-color: #3B4455;\n",
              "      fill: #D2E3FC;\n",
              "    }\n",
              "\n",
              "    [theme=dark] .colab-df-convert:hover {\n",
              "      background-color: #434B5C;\n",
              "      box-shadow: 0px 1px 3px 1px rgba(0, 0, 0, 0.15);\n",
              "      filter: drop-shadow(0px 1px 2px rgba(0, 0, 0, 0.3));\n",
              "      fill: #FFFFFF;\n",
              "    }\n",
              "  </style>\n",
              "\n",
              "    <script>\n",
              "      const buttonEl =\n",
              "        document.querySelector('#df-31a2d465-c8a3-40bc-8a07-f623b9bc0fe1 button.colab-df-convert');\n",
              "      buttonEl.style.display =\n",
              "        google.colab.kernel.accessAllowed ? 'block' : 'none';\n",
              "\n",
              "      async function convertToInteractive(key) {\n",
              "        const element = document.querySelector('#df-31a2d465-c8a3-40bc-8a07-f623b9bc0fe1');\n",
              "        const dataTable =\n",
              "          await google.colab.kernel.invokeFunction('convertToInteractive',\n",
              "                                                    [key], {});\n",
              "        if (!dataTable) return;\n",
              "\n",
              "        const docLinkHtml = 'Like what you see? Visit the ' +\n",
              "          '<a target=\"_blank\" href=https://colab.research.google.com/notebooks/data_table.ipynb>data table notebook</a>'\n",
              "          + ' to learn more about interactive tables.';\n",
              "        element.innerHTML = '';\n",
              "        dataTable['output_type'] = 'display_data';\n",
              "        await google.colab.output.renderOutput(dataTable, element);\n",
              "        const docLink = document.createElement('div');\n",
              "        docLink.innerHTML = docLinkHtml;\n",
              "        element.appendChild(docLink);\n",
              "      }\n",
              "    </script>\n",
              "  </div>\n",
              "\n",
              "\n",
              "    <div id=\"df-e220ac19-1fe5-4b3e-b295-4db0f71f968e\">\n",
              "      <button class=\"colab-df-quickchart\" onclick=\"quickchart('df-e220ac19-1fe5-4b3e-b295-4db0f71f968e')\"\n",
              "                title=\"Suggest charts\"\n",
              "                style=\"display:none;\">\n",
              "\n",
              "<svg xmlns=\"http://www.w3.org/2000/svg\" height=\"24px\"viewBox=\"0 0 24 24\"\n",
              "     width=\"24px\">\n",
              "    <g>\n",
              "        <path d=\"M19 3H5c-1.1 0-2 .9-2 2v14c0 1.1.9 2 2 2h14c1.1 0 2-.9 2-2V5c0-1.1-.9-2-2-2zM9 17H7v-7h2v7zm4 0h-2V7h2v10zm4 0h-2v-4h2v4z\"/>\n",
              "    </g>\n",
              "</svg>\n",
              "      </button>\n",
              "\n",
              "<style>\n",
              "  .colab-df-quickchart {\n",
              "      --bg-color: #E8F0FE;\n",
              "      --fill-color: #1967D2;\n",
              "      --hover-bg-color: #E2EBFA;\n",
              "      --hover-fill-color: #174EA6;\n",
              "      --disabled-fill-color: #AAA;\n",
              "      --disabled-bg-color: #DDD;\n",
              "  }\n",
              "\n",
              "  [theme=dark] .colab-df-quickchart {\n",
              "      --bg-color: #3B4455;\n",
              "      --fill-color: #D2E3FC;\n",
              "      --hover-bg-color: #434B5C;\n",
              "      --hover-fill-color: #FFFFFF;\n",
              "      --disabled-bg-color: #3B4455;\n",
              "      --disabled-fill-color: #666;\n",
              "  }\n",
              "\n",
              "  .colab-df-quickchart {\n",
              "    background-color: var(--bg-color);\n",
              "    border: none;\n",
              "    border-radius: 50%;\n",
              "    cursor: pointer;\n",
              "    display: none;\n",
              "    fill: var(--fill-color);\n",
              "    height: 32px;\n",
              "    padding: 0;\n",
              "    width: 32px;\n",
              "  }\n",
              "\n",
              "  .colab-df-quickchart:hover {\n",
              "    background-color: var(--hover-bg-color);\n",
              "    box-shadow: 0 1px 2px rgba(60, 64, 67, 0.3), 0 1px 3px 1px rgba(60, 64, 67, 0.15);\n",
              "    fill: var(--button-hover-fill-color);\n",
              "  }\n",
              "\n",
              "  .colab-df-quickchart-complete:disabled,\n",
              "  .colab-df-quickchart-complete:disabled:hover {\n",
              "    background-color: var(--disabled-bg-color);\n",
              "    fill: var(--disabled-fill-color);\n",
              "    box-shadow: none;\n",
              "  }\n",
              "\n",
              "  .colab-df-spinner {\n",
              "    border: 2px solid var(--fill-color);\n",
              "    border-color: transparent;\n",
              "    border-bottom-color: var(--fill-color);\n",
              "    animation:\n",
              "      spin 1s steps(1) infinite;\n",
              "  }\n",
              "\n",
              "  @keyframes spin {\n",
              "    0% {\n",
              "      border-color: transparent;\n",
              "      border-bottom-color: var(--fill-color);\n",
              "      border-left-color: var(--fill-color);\n",
              "    }\n",
              "    20% {\n",
              "      border-color: transparent;\n",
              "      border-left-color: var(--fill-color);\n",
              "      border-top-color: var(--fill-color);\n",
              "    }\n",
              "    30% {\n",
              "      border-color: transparent;\n",
              "      border-left-color: var(--fill-color);\n",
              "      border-top-color: var(--fill-color);\n",
              "      border-right-color: var(--fill-color);\n",
              "    }\n",
              "    40% {\n",
              "      border-color: transparent;\n",
              "      border-right-color: var(--fill-color);\n",
              "      border-top-color: var(--fill-color);\n",
              "    }\n",
              "    60% {\n",
              "      border-color: transparent;\n",
              "      border-right-color: var(--fill-color);\n",
              "    }\n",
              "    80% {\n",
              "      border-color: transparent;\n",
              "      border-right-color: var(--fill-color);\n",
              "      border-bottom-color: var(--fill-color);\n",
              "    }\n",
              "    90% {\n",
              "      border-color: transparent;\n",
              "      border-bottom-color: var(--fill-color);\n",
              "    }\n",
              "  }\n",
              "</style>\n",
              "\n",
              "      <script>\n",
              "        async function quickchart(key) {\n",
              "          const quickchartButtonEl =\n",
              "            document.querySelector('#' + key + ' button');\n",
              "          quickchartButtonEl.disabled = true;  // To prevent multiple clicks.\n",
              "          quickchartButtonEl.classList.add('colab-df-spinner');\n",
              "          try {\n",
              "            const charts = await google.colab.kernel.invokeFunction(\n",
              "                'suggestCharts', [key], {});\n",
              "          } catch (error) {\n",
              "            console.error('Error during call to suggestCharts:', error);\n",
              "          }\n",
              "          quickchartButtonEl.classList.remove('colab-df-spinner');\n",
              "          quickchartButtonEl.classList.add('colab-df-quickchart-complete');\n",
              "        }\n",
              "        (() => {\n",
              "          let quickchartButtonEl =\n",
              "            document.querySelector('#df-e220ac19-1fe5-4b3e-b295-4db0f71f968e button');\n",
              "          quickchartButtonEl.style.display =\n",
              "            google.colab.kernel.accessAllowed ? 'block' : 'none';\n",
              "        })();\n",
              "      </script>\n",
              "    </div>\n",
              "\n",
              "  <div id=\"id_36fdbcb2-0de7-4b64-a995-1337ad1dceb2\">\n",
              "    <style>\n",
              "      .colab-df-generate {\n",
              "        background-color: #E8F0FE;\n",
              "        border: none;\n",
              "        border-radius: 50%;\n",
              "        cursor: pointer;\n",
              "        display: none;\n",
              "        fill: #1967D2;\n",
              "        height: 32px;\n",
              "        padding: 0 0 0 0;\n",
              "        width: 32px;\n",
              "      }\n",
              "\n",
              "      .colab-df-generate:hover {\n",
              "        background-color: #E2EBFA;\n",
              "        box-shadow: 0px 1px 2px rgba(60, 64, 67, 0.3), 0px 1px 3px 1px rgba(60, 64, 67, 0.15);\n",
              "        fill: #174EA6;\n",
              "      }\n",
              "\n",
              "      [theme=dark] .colab-df-generate {\n",
              "        background-color: #3B4455;\n",
              "        fill: #D2E3FC;\n",
              "      }\n",
              "\n",
              "      [theme=dark] .colab-df-generate:hover {\n",
              "        background-color: #434B5C;\n",
              "        box-shadow: 0px 1px 3px 1px rgba(0, 0, 0, 0.15);\n",
              "        filter: drop-shadow(0px 1px 2px rgba(0, 0, 0, 0.3));\n",
              "        fill: #FFFFFF;\n",
              "      }\n",
              "    </style>\n",
              "    <button class=\"colab-df-generate\" onclick=\"generateWithVariable('X_train')\"\n",
              "            title=\"Generate code using this dataframe.\"\n",
              "            style=\"display:none;\">\n",
              "\n",
              "  <svg xmlns=\"http://www.w3.org/2000/svg\" height=\"24px\"viewBox=\"0 0 24 24\"\n",
              "       width=\"24px\">\n",
              "    <path d=\"M7,19H8.4L18.45,9,17,7.55,7,17.6ZM5,21V16.75L18.45,3.32a2,2,0,0,1,2.83,0l1.4,1.43a1.91,1.91,0,0,1,.58,1.4,1.91,1.91,0,0,1-.58,1.4L9.25,21ZM18.45,9,17,7.55Zm-12,3A5.31,5.31,0,0,0,4.9,8.1,5.31,5.31,0,0,0,1,6.5,5.31,5.31,0,0,0,4.9,4.9,5.31,5.31,0,0,0,6.5,1,5.31,5.31,0,0,0,8.1,4.9,5.31,5.31,0,0,0,12,6.5,5.46,5.46,0,0,0,6.5,12Z\"/>\n",
              "  </svg>\n",
              "    </button>\n",
              "    <script>\n",
              "      (() => {\n",
              "      const buttonEl =\n",
              "        document.querySelector('#id_36fdbcb2-0de7-4b64-a995-1337ad1dceb2 button.colab-df-generate');\n",
              "      buttonEl.style.display =\n",
              "        google.colab.kernel.accessAllowed ? 'block' : 'none';\n",
              "\n",
              "      buttonEl.onclick = () => {\n",
              "        google.colab.notebook.generateWithVariable('X_train');\n",
              "      }\n",
              "      })();\n",
              "    </script>\n",
              "  </div>\n",
              "\n",
              "    </div>\n",
              "  </div>\n"
            ],
            "application/vnd.google.colaboratory.intrinsic+json": {
              "type": "dataframe",
              "variable_name": "X_train"
            }
          },
          "metadata": {},
          "execution_count": 40
        }
      ],
      "source": [
        "X_train"
      ]
    },
    {
      "cell_type": "code",
      "execution_count": 41,
      "id": "76b9bc62",
      "metadata": {
        "id": "76b9bc62",
        "colab": {
          "base_uri": "https://localhost:8080/",
          "height": 461
        },
        "outputId": "66394dfb-b0bb-4967-977a-3ae78d9f226e"
      },
      "outputs": [
        {
          "output_type": "execute_result",
          "data": {
            "text/plain": [
              "      8.69E-01  -6.35E-01  2.26E-01  3.27E-01  -6.90E-01  7.54E-01  -2.49E-01  \\\n",
              "2215  1.265142   1.273897  1.163961  0.779618  -0.599616  2.038719   0.819885   \n",
              "2582  1.560519  -0.897079 -1.438444  0.761464  -1.502683  0.702627  -0.627831   \n",
              "1662  1.584493   0.852168 -0.366449  0.409152   0.241964  1.179901   0.639663   \n",
              "3027  0.828116  -0.458793  0.469274  0.066637   1.395268  0.896010  -0.501082   \n",
              "4343  0.829763   0.264865 -0.150053  0.659922   1.105289  0.591691  -0.556535   \n",
              "...        ...        ...       ...       ...        ...       ...        ...   \n",
              "4667  2.479956  -0.787995  0.130809  0.535715  -0.902588  1.051101   0.963468   \n",
              "57    0.620218   0.313564 -0.191669  1.327673  -0.819709  0.422034   0.412900   \n",
              "1918  0.427692  -0.452950 -0.807567  1.255670   0.412488  0.715452   1.237762   \n",
              "7902  0.717396  -0.530867  0.446525  0.736942   0.403222  0.678260  -1.071454   \n",
              "3728  1.790744  -0.159785 -0.718789  1.736125  -1.226445  1.883994  -0.507023   \n",
              "\n",
              "      -1.09E+00  0.00E+00  1.37E+00  ...  -1.05E-02  -4.58E-02  3.10E+00  \\\n",
              "2215   1.404948  2.173076  2.186566  ...  -1.664442  -0.096264  0.000000   \n",
              "2582   0.891042  2.173076  0.837132  ...  -0.085409   0.485942  0.000000   \n",
              "1662  -1.197950  2.173076  1.071439  ...   1.374530   0.421017  0.000000   \n",
              "3027  -0.897478  2.173076  1.447764  ...  -1.237203  -0.728866  0.000000   \n",
              "4343   0.907673  2.173076  0.669555  ...  -0.032941  -0.615109  0.000000   \n",
              "...         ...       ...       ...  ...        ...        ...       ...   \n",
              "4667  -1.181873  0.000000  1.599100  ...   0.835694   1.719511  3.101961   \n",
              "57     1.735356  2.173076  0.476419  ...  -0.361073   1.102449  0.000000   \n",
              "1918   1.354500  1.086538  0.917585  ...   0.649974  -0.825421  0.000000   \n",
              "7902  -1.589893  0.000000  1.129103  ...  -0.959040   0.992576  0.000000   \n",
              "3728  -0.213377  2.173076  3.308114  ...  -0.261967   0.716230  3.101961   \n",
              "\n",
              "      1.35E+00  9.80E-01  9.78E-01  9.20E-01  7.22E-01  9.89E-01  8.77E-01  \n",
              "2215  0.763816  0.826604  1.375649  1.249914  3.437502  1.741132  1.394216  \n",
              "2582  0.605578  0.632351  0.984039  1.041392  0.879882  0.874202  0.712241  \n",
              "1662  0.654530  0.740321  0.984635  1.064691  0.925873  0.891150  0.851109  \n",
              "3027  0.818503  1.053586  0.926161  0.951623  1.674459  0.910409  0.800034  \n",
              "4343  0.760256  0.966524  0.983875  0.895261  0.680918  0.746863  0.770195  \n",
              "...        ...       ...       ...       ...       ...       ...       ...  \n",
              "4667  1.603590  1.010806  1.280352  1.080469  1.532630  1.345574  1.343385  \n",
              "57    0.794864  0.841752  0.979024  0.788085  0.375343  0.621134  0.796119  \n",
              "1918  0.957756  1.064994  0.988397  0.999005  1.528798  0.897224  0.816749  \n",
              "7902  0.898892  0.994483  0.995446  0.921547  1.320910  0.940974  0.948415  \n",
              "3728  1.242831  1.493665  1.076885  1.453129  1.055306  2.314670  1.973781  \n",
              "\n",
              "[2000 rows x 28 columns]"
            ],
            "text/html": [
              "\n",
              "  <div id=\"df-f46df2ab-5116-42b8-b7df-065154912fbb\" class=\"colab-df-container\">\n",
              "    <div>\n",
              "<style scoped>\n",
              "    .dataframe tbody tr th:only-of-type {\n",
              "        vertical-align: middle;\n",
              "    }\n",
              "\n",
              "    .dataframe tbody tr th {\n",
              "        vertical-align: top;\n",
              "    }\n",
              "\n",
              "    .dataframe thead th {\n",
              "        text-align: right;\n",
              "    }\n",
              "</style>\n",
              "<table border=\"1\" class=\"dataframe\">\n",
              "  <thead>\n",
              "    <tr style=\"text-align: right;\">\n",
              "      <th></th>\n",
              "      <th>8.69E-01</th>\n",
              "      <th>-6.35E-01</th>\n",
              "      <th>2.26E-01</th>\n",
              "      <th>3.27E-01</th>\n",
              "      <th>-6.90E-01</th>\n",
              "      <th>7.54E-01</th>\n",
              "      <th>-2.49E-01</th>\n",
              "      <th>-1.09E+00</th>\n",
              "      <th>0.00E+00</th>\n",
              "      <th>1.37E+00</th>\n",
              "      <th>...</th>\n",
              "      <th>-1.05E-02</th>\n",
              "      <th>-4.58E-02</th>\n",
              "      <th>3.10E+00</th>\n",
              "      <th>1.35E+00</th>\n",
              "      <th>9.80E-01</th>\n",
              "      <th>9.78E-01</th>\n",
              "      <th>9.20E-01</th>\n",
              "      <th>7.22E-01</th>\n",
              "      <th>9.89E-01</th>\n",
              "      <th>8.77E-01</th>\n",
              "    </tr>\n",
              "  </thead>\n",
              "  <tbody>\n",
              "    <tr>\n",
              "      <th>2215</th>\n",
              "      <td>1.265142</td>\n",
              "      <td>1.273897</td>\n",
              "      <td>1.163961</td>\n",
              "      <td>0.779618</td>\n",
              "      <td>-0.599616</td>\n",
              "      <td>2.038719</td>\n",
              "      <td>0.819885</td>\n",
              "      <td>1.404948</td>\n",
              "      <td>2.173076</td>\n",
              "      <td>2.186566</td>\n",
              "      <td>...</td>\n",
              "      <td>-1.664442</td>\n",
              "      <td>-0.096264</td>\n",
              "      <td>0.000000</td>\n",
              "      <td>0.763816</td>\n",
              "      <td>0.826604</td>\n",
              "      <td>1.375649</td>\n",
              "      <td>1.249914</td>\n",
              "      <td>3.437502</td>\n",
              "      <td>1.741132</td>\n",
              "      <td>1.394216</td>\n",
              "    </tr>\n",
              "    <tr>\n",
              "      <th>2582</th>\n",
              "      <td>1.560519</td>\n",
              "      <td>-0.897079</td>\n",
              "      <td>-1.438444</td>\n",
              "      <td>0.761464</td>\n",
              "      <td>-1.502683</td>\n",
              "      <td>0.702627</td>\n",
              "      <td>-0.627831</td>\n",
              "      <td>0.891042</td>\n",
              "      <td>2.173076</td>\n",
              "      <td>0.837132</td>\n",
              "      <td>...</td>\n",
              "      <td>-0.085409</td>\n",
              "      <td>0.485942</td>\n",
              "      <td>0.000000</td>\n",
              "      <td>0.605578</td>\n",
              "      <td>0.632351</td>\n",
              "      <td>0.984039</td>\n",
              "      <td>1.041392</td>\n",
              "      <td>0.879882</td>\n",
              "      <td>0.874202</td>\n",
              "      <td>0.712241</td>\n",
              "    </tr>\n",
              "    <tr>\n",
              "      <th>1662</th>\n",
              "      <td>1.584493</td>\n",
              "      <td>0.852168</td>\n",
              "      <td>-0.366449</td>\n",
              "      <td>0.409152</td>\n",
              "      <td>0.241964</td>\n",
              "      <td>1.179901</td>\n",
              "      <td>0.639663</td>\n",
              "      <td>-1.197950</td>\n",
              "      <td>2.173076</td>\n",
              "      <td>1.071439</td>\n",
              "      <td>...</td>\n",
              "      <td>1.374530</td>\n",
              "      <td>0.421017</td>\n",
              "      <td>0.000000</td>\n",
              "      <td>0.654530</td>\n",
              "      <td>0.740321</td>\n",
              "      <td>0.984635</td>\n",
              "      <td>1.064691</td>\n",
              "      <td>0.925873</td>\n",
              "      <td>0.891150</td>\n",
              "      <td>0.851109</td>\n",
              "    </tr>\n",
              "    <tr>\n",
              "      <th>3027</th>\n",
              "      <td>0.828116</td>\n",
              "      <td>-0.458793</td>\n",
              "      <td>0.469274</td>\n",
              "      <td>0.066637</td>\n",
              "      <td>1.395268</td>\n",
              "      <td>0.896010</td>\n",
              "      <td>-0.501082</td>\n",
              "      <td>-0.897478</td>\n",
              "      <td>2.173076</td>\n",
              "      <td>1.447764</td>\n",
              "      <td>...</td>\n",
              "      <td>-1.237203</td>\n",
              "      <td>-0.728866</td>\n",
              "      <td>0.000000</td>\n",
              "      <td>0.818503</td>\n",
              "      <td>1.053586</td>\n",
              "      <td>0.926161</td>\n",
              "      <td>0.951623</td>\n",
              "      <td>1.674459</td>\n",
              "      <td>0.910409</td>\n",
              "      <td>0.800034</td>\n",
              "    </tr>\n",
              "    <tr>\n",
              "      <th>4343</th>\n",
              "      <td>0.829763</td>\n",
              "      <td>0.264865</td>\n",
              "      <td>-0.150053</td>\n",
              "      <td>0.659922</td>\n",
              "      <td>1.105289</td>\n",
              "      <td>0.591691</td>\n",
              "      <td>-0.556535</td>\n",
              "      <td>0.907673</td>\n",
              "      <td>2.173076</td>\n",
              "      <td>0.669555</td>\n",
              "      <td>...</td>\n",
              "      <td>-0.032941</td>\n",
              "      <td>-0.615109</td>\n",
              "      <td>0.000000</td>\n",
              "      <td>0.760256</td>\n",
              "      <td>0.966524</td>\n",
              "      <td>0.983875</td>\n",
              "      <td>0.895261</td>\n",
              "      <td>0.680918</td>\n",
              "      <td>0.746863</td>\n",
              "      <td>0.770195</td>\n",
              "    </tr>\n",
              "    <tr>\n",
              "      <th>...</th>\n",
              "      <td>...</td>\n",
              "      <td>...</td>\n",
              "      <td>...</td>\n",
              "      <td>...</td>\n",
              "      <td>...</td>\n",
              "      <td>...</td>\n",
              "      <td>...</td>\n",
              "      <td>...</td>\n",
              "      <td>...</td>\n",
              "      <td>...</td>\n",
              "      <td>...</td>\n",
              "      <td>...</td>\n",
              "      <td>...</td>\n",
              "      <td>...</td>\n",
              "      <td>...</td>\n",
              "      <td>...</td>\n",
              "      <td>...</td>\n",
              "      <td>...</td>\n",
              "      <td>...</td>\n",
              "      <td>...</td>\n",
              "      <td>...</td>\n",
              "    </tr>\n",
              "    <tr>\n",
              "      <th>4667</th>\n",
              "      <td>2.479956</td>\n",
              "      <td>-0.787995</td>\n",
              "      <td>0.130809</td>\n",
              "      <td>0.535715</td>\n",
              "      <td>-0.902588</td>\n",
              "      <td>1.051101</td>\n",
              "      <td>0.963468</td>\n",
              "      <td>-1.181873</td>\n",
              "      <td>0.000000</td>\n",
              "      <td>1.599100</td>\n",
              "      <td>...</td>\n",
              "      <td>0.835694</td>\n",
              "      <td>1.719511</td>\n",
              "      <td>3.101961</td>\n",
              "      <td>1.603590</td>\n",
              "      <td>1.010806</td>\n",
              "      <td>1.280352</td>\n",
              "      <td>1.080469</td>\n",
              "      <td>1.532630</td>\n",
              "      <td>1.345574</td>\n",
              "      <td>1.343385</td>\n",
              "    </tr>\n",
              "    <tr>\n",
              "      <th>57</th>\n",
              "      <td>0.620218</td>\n",
              "      <td>0.313564</td>\n",
              "      <td>-0.191669</td>\n",
              "      <td>1.327673</td>\n",
              "      <td>-0.819709</td>\n",
              "      <td>0.422034</td>\n",
              "      <td>0.412900</td>\n",
              "      <td>1.735356</td>\n",
              "      <td>2.173076</td>\n",
              "      <td>0.476419</td>\n",
              "      <td>...</td>\n",
              "      <td>-0.361073</td>\n",
              "      <td>1.102449</td>\n",
              "      <td>0.000000</td>\n",
              "      <td>0.794864</td>\n",
              "      <td>0.841752</td>\n",
              "      <td>0.979024</td>\n",
              "      <td>0.788085</td>\n",
              "      <td>0.375343</td>\n",
              "      <td>0.621134</td>\n",
              "      <td>0.796119</td>\n",
              "    </tr>\n",
              "    <tr>\n",
              "      <th>1918</th>\n",
              "      <td>0.427692</td>\n",
              "      <td>-0.452950</td>\n",
              "      <td>-0.807567</td>\n",
              "      <td>1.255670</td>\n",
              "      <td>0.412488</td>\n",
              "      <td>0.715452</td>\n",
              "      <td>1.237762</td>\n",
              "      <td>1.354500</td>\n",
              "      <td>1.086538</td>\n",
              "      <td>0.917585</td>\n",
              "      <td>...</td>\n",
              "      <td>0.649974</td>\n",
              "      <td>-0.825421</td>\n",
              "      <td>0.000000</td>\n",
              "      <td>0.957756</td>\n",
              "      <td>1.064994</td>\n",
              "      <td>0.988397</td>\n",
              "      <td>0.999005</td>\n",
              "      <td>1.528798</td>\n",
              "      <td>0.897224</td>\n",
              "      <td>0.816749</td>\n",
              "    </tr>\n",
              "    <tr>\n",
              "      <th>7902</th>\n",
              "      <td>0.717396</td>\n",
              "      <td>-0.530867</td>\n",
              "      <td>0.446525</td>\n",
              "      <td>0.736942</td>\n",
              "      <td>0.403222</td>\n",
              "      <td>0.678260</td>\n",
              "      <td>-1.071454</td>\n",
              "      <td>-1.589893</td>\n",
              "      <td>0.000000</td>\n",
              "      <td>1.129103</td>\n",
              "      <td>...</td>\n",
              "      <td>-0.959040</td>\n",
              "      <td>0.992576</td>\n",
              "      <td>0.000000</td>\n",
              "      <td>0.898892</td>\n",
              "      <td>0.994483</td>\n",
              "      <td>0.995446</td>\n",
              "      <td>0.921547</td>\n",
              "      <td>1.320910</td>\n",
              "      <td>0.940974</td>\n",
              "      <td>0.948415</td>\n",
              "    </tr>\n",
              "    <tr>\n",
              "      <th>3728</th>\n",
              "      <td>1.790744</td>\n",
              "      <td>-0.159785</td>\n",
              "      <td>-0.718789</td>\n",
              "      <td>1.736125</td>\n",
              "      <td>-1.226445</td>\n",
              "      <td>1.883994</td>\n",
              "      <td>-0.507023</td>\n",
              "      <td>-0.213377</td>\n",
              "      <td>2.173076</td>\n",
              "      <td>3.308114</td>\n",
              "      <td>...</td>\n",
              "      <td>-0.261967</td>\n",
              "      <td>0.716230</td>\n",
              "      <td>3.101961</td>\n",
              "      <td>1.242831</td>\n",
              "      <td>1.493665</td>\n",
              "      <td>1.076885</td>\n",
              "      <td>1.453129</td>\n",
              "      <td>1.055306</td>\n",
              "      <td>2.314670</td>\n",
              "      <td>1.973781</td>\n",
              "    </tr>\n",
              "  </tbody>\n",
              "</table>\n",
              "<p>2000 rows × 28 columns</p>\n",
              "</div>\n",
              "    <div class=\"colab-df-buttons\">\n",
              "\n",
              "  <div class=\"colab-df-container\">\n",
              "    <button class=\"colab-df-convert\" onclick=\"convertToInteractive('df-f46df2ab-5116-42b8-b7df-065154912fbb')\"\n",
              "            title=\"Convert this dataframe to an interactive table.\"\n",
              "            style=\"display:none;\">\n",
              "\n",
              "  <svg xmlns=\"http://www.w3.org/2000/svg\" height=\"24px\" viewBox=\"0 -960 960 960\">\n",
              "    <path d=\"M120-120v-720h720v720H120Zm60-500h600v-160H180v160Zm220 220h160v-160H400v160Zm0 220h160v-160H400v160ZM180-400h160v-160H180v160Zm440 0h160v-160H620v160ZM180-180h160v-160H180v160Zm440 0h160v-160H620v160Z\"/>\n",
              "  </svg>\n",
              "    </button>\n",
              "\n",
              "  <style>\n",
              "    .colab-df-container {\n",
              "      display:flex;\n",
              "      gap: 12px;\n",
              "    }\n",
              "\n",
              "    .colab-df-convert {\n",
              "      background-color: #E8F0FE;\n",
              "      border: none;\n",
              "      border-radius: 50%;\n",
              "      cursor: pointer;\n",
              "      display: none;\n",
              "      fill: #1967D2;\n",
              "      height: 32px;\n",
              "      padding: 0 0 0 0;\n",
              "      width: 32px;\n",
              "    }\n",
              "\n",
              "    .colab-df-convert:hover {\n",
              "      background-color: #E2EBFA;\n",
              "      box-shadow: 0px 1px 2px rgba(60, 64, 67, 0.3), 0px 1px 3px 1px rgba(60, 64, 67, 0.15);\n",
              "      fill: #174EA6;\n",
              "    }\n",
              "\n",
              "    .colab-df-buttons div {\n",
              "      margin-bottom: 4px;\n",
              "    }\n",
              "\n",
              "    [theme=dark] .colab-df-convert {\n",
              "      background-color: #3B4455;\n",
              "      fill: #D2E3FC;\n",
              "    }\n",
              "\n",
              "    [theme=dark] .colab-df-convert:hover {\n",
              "      background-color: #434B5C;\n",
              "      box-shadow: 0px 1px 3px 1px rgba(0, 0, 0, 0.15);\n",
              "      filter: drop-shadow(0px 1px 2px rgba(0, 0, 0, 0.3));\n",
              "      fill: #FFFFFF;\n",
              "    }\n",
              "  </style>\n",
              "\n",
              "    <script>\n",
              "      const buttonEl =\n",
              "        document.querySelector('#df-f46df2ab-5116-42b8-b7df-065154912fbb button.colab-df-convert');\n",
              "      buttonEl.style.display =\n",
              "        google.colab.kernel.accessAllowed ? 'block' : 'none';\n",
              "\n",
              "      async function convertToInteractive(key) {\n",
              "        const element = document.querySelector('#df-f46df2ab-5116-42b8-b7df-065154912fbb');\n",
              "        const dataTable =\n",
              "          await google.colab.kernel.invokeFunction('convertToInteractive',\n",
              "                                                    [key], {});\n",
              "        if (!dataTable) return;\n",
              "\n",
              "        const docLinkHtml = 'Like what you see? Visit the ' +\n",
              "          '<a target=\"_blank\" href=https://colab.research.google.com/notebooks/data_table.ipynb>data table notebook</a>'\n",
              "          + ' to learn more about interactive tables.';\n",
              "        element.innerHTML = '';\n",
              "        dataTable['output_type'] = 'display_data';\n",
              "        await google.colab.output.renderOutput(dataTable, element);\n",
              "        const docLink = document.createElement('div');\n",
              "        docLink.innerHTML = docLinkHtml;\n",
              "        element.appendChild(docLink);\n",
              "      }\n",
              "    </script>\n",
              "  </div>\n",
              "\n",
              "\n",
              "    <div id=\"df-d5aa0a7e-e5ef-4007-9b7d-51b1213edc30\">\n",
              "      <button class=\"colab-df-quickchart\" onclick=\"quickchart('df-d5aa0a7e-e5ef-4007-9b7d-51b1213edc30')\"\n",
              "                title=\"Suggest charts\"\n",
              "                style=\"display:none;\">\n",
              "\n",
              "<svg xmlns=\"http://www.w3.org/2000/svg\" height=\"24px\"viewBox=\"0 0 24 24\"\n",
              "     width=\"24px\">\n",
              "    <g>\n",
              "        <path d=\"M19 3H5c-1.1 0-2 .9-2 2v14c0 1.1.9 2 2 2h14c1.1 0 2-.9 2-2V5c0-1.1-.9-2-2-2zM9 17H7v-7h2v7zm4 0h-2V7h2v10zm4 0h-2v-4h2v4z\"/>\n",
              "    </g>\n",
              "</svg>\n",
              "      </button>\n",
              "\n",
              "<style>\n",
              "  .colab-df-quickchart {\n",
              "      --bg-color: #E8F0FE;\n",
              "      --fill-color: #1967D2;\n",
              "      --hover-bg-color: #E2EBFA;\n",
              "      --hover-fill-color: #174EA6;\n",
              "      --disabled-fill-color: #AAA;\n",
              "      --disabled-bg-color: #DDD;\n",
              "  }\n",
              "\n",
              "  [theme=dark] .colab-df-quickchart {\n",
              "      --bg-color: #3B4455;\n",
              "      --fill-color: #D2E3FC;\n",
              "      --hover-bg-color: #434B5C;\n",
              "      --hover-fill-color: #FFFFFF;\n",
              "      --disabled-bg-color: #3B4455;\n",
              "      --disabled-fill-color: #666;\n",
              "  }\n",
              "\n",
              "  .colab-df-quickchart {\n",
              "    background-color: var(--bg-color);\n",
              "    border: none;\n",
              "    border-radius: 50%;\n",
              "    cursor: pointer;\n",
              "    display: none;\n",
              "    fill: var(--fill-color);\n",
              "    height: 32px;\n",
              "    padding: 0;\n",
              "    width: 32px;\n",
              "  }\n",
              "\n",
              "  .colab-df-quickchart:hover {\n",
              "    background-color: var(--hover-bg-color);\n",
              "    box-shadow: 0 1px 2px rgba(60, 64, 67, 0.3), 0 1px 3px 1px rgba(60, 64, 67, 0.15);\n",
              "    fill: var(--button-hover-fill-color);\n",
              "  }\n",
              "\n",
              "  .colab-df-quickchart-complete:disabled,\n",
              "  .colab-df-quickchart-complete:disabled:hover {\n",
              "    background-color: var(--disabled-bg-color);\n",
              "    fill: var(--disabled-fill-color);\n",
              "    box-shadow: none;\n",
              "  }\n",
              "\n",
              "  .colab-df-spinner {\n",
              "    border: 2px solid var(--fill-color);\n",
              "    border-color: transparent;\n",
              "    border-bottom-color: var(--fill-color);\n",
              "    animation:\n",
              "      spin 1s steps(1) infinite;\n",
              "  }\n",
              "\n",
              "  @keyframes spin {\n",
              "    0% {\n",
              "      border-color: transparent;\n",
              "      border-bottom-color: var(--fill-color);\n",
              "      border-left-color: var(--fill-color);\n",
              "    }\n",
              "    20% {\n",
              "      border-color: transparent;\n",
              "      border-left-color: var(--fill-color);\n",
              "      border-top-color: var(--fill-color);\n",
              "    }\n",
              "    30% {\n",
              "      border-color: transparent;\n",
              "      border-left-color: var(--fill-color);\n",
              "      border-top-color: var(--fill-color);\n",
              "      border-right-color: var(--fill-color);\n",
              "    }\n",
              "    40% {\n",
              "      border-color: transparent;\n",
              "      border-right-color: var(--fill-color);\n",
              "      border-top-color: var(--fill-color);\n",
              "    }\n",
              "    60% {\n",
              "      border-color: transparent;\n",
              "      border-right-color: var(--fill-color);\n",
              "    }\n",
              "    80% {\n",
              "      border-color: transparent;\n",
              "      border-right-color: var(--fill-color);\n",
              "      border-bottom-color: var(--fill-color);\n",
              "    }\n",
              "    90% {\n",
              "      border-color: transparent;\n",
              "      border-bottom-color: var(--fill-color);\n",
              "    }\n",
              "  }\n",
              "</style>\n",
              "\n",
              "      <script>\n",
              "        async function quickchart(key) {\n",
              "          const quickchartButtonEl =\n",
              "            document.querySelector('#' + key + ' button');\n",
              "          quickchartButtonEl.disabled = true;  // To prevent multiple clicks.\n",
              "          quickchartButtonEl.classList.add('colab-df-spinner');\n",
              "          try {\n",
              "            const charts = await google.colab.kernel.invokeFunction(\n",
              "                'suggestCharts', [key], {});\n",
              "          } catch (error) {\n",
              "            console.error('Error during call to suggestCharts:', error);\n",
              "          }\n",
              "          quickchartButtonEl.classList.remove('colab-df-spinner');\n",
              "          quickchartButtonEl.classList.add('colab-df-quickchart-complete');\n",
              "        }\n",
              "        (() => {\n",
              "          let quickchartButtonEl =\n",
              "            document.querySelector('#df-d5aa0a7e-e5ef-4007-9b7d-51b1213edc30 button');\n",
              "          quickchartButtonEl.style.display =\n",
              "            google.colab.kernel.accessAllowed ? 'block' : 'none';\n",
              "        })();\n",
              "      </script>\n",
              "    </div>\n",
              "\n",
              "  <div id=\"id_c35cf7c1-25d1-4e3a-ae0d-a1302590fe06\">\n",
              "    <style>\n",
              "      .colab-df-generate {\n",
              "        background-color: #E8F0FE;\n",
              "        border: none;\n",
              "        border-radius: 50%;\n",
              "        cursor: pointer;\n",
              "        display: none;\n",
              "        fill: #1967D2;\n",
              "        height: 32px;\n",
              "        padding: 0 0 0 0;\n",
              "        width: 32px;\n",
              "      }\n",
              "\n",
              "      .colab-df-generate:hover {\n",
              "        background-color: #E2EBFA;\n",
              "        box-shadow: 0px 1px 2px rgba(60, 64, 67, 0.3), 0px 1px 3px 1px rgba(60, 64, 67, 0.15);\n",
              "        fill: #174EA6;\n",
              "      }\n",
              "\n",
              "      [theme=dark] .colab-df-generate {\n",
              "        background-color: #3B4455;\n",
              "        fill: #D2E3FC;\n",
              "      }\n",
              "\n",
              "      [theme=dark] .colab-df-generate:hover {\n",
              "        background-color: #434B5C;\n",
              "        box-shadow: 0px 1px 3px 1px rgba(0, 0, 0, 0.15);\n",
              "        filter: drop-shadow(0px 1px 2px rgba(0, 0, 0, 0.3));\n",
              "        fill: #FFFFFF;\n",
              "      }\n",
              "    </style>\n",
              "    <button class=\"colab-df-generate\" onclick=\"generateWithVariable('X_test')\"\n",
              "            title=\"Generate code using this dataframe.\"\n",
              "            style=\"display:none;\">\n",
              "\n",
              "  <svg xmlns=\"http://www.w3.org/2000/svg\" height=\"24px\"viewBox=\"0 0 24 24\"\n",
              "       width=\"24px\">\n",
              "    <path d=\"M7,19H8.4L18.45,9,17,7.55,7,17.6ZM5,21V16.75L18.45,3.32a2,2,0,0,1,2.83,0l1.4,1.43a1.91,1.91,0,0,1,.58,1.4,1.91,1.91,0,0,1-.58,1.4L9.25,21ZM18.45,9,17,7.55Zm-12,3A5.31,5.31,0,0,0,4.9,8.1,5.31,5.31,0,0,0,1,6.5,5.31,5.31,0,0,0,4.9,4.9,5.31,5.31,0,0,0,6.5,1,5.31,5.31,0,0,0,8.1,4.9,5.31,5.31,0,0,0,12,6.5,5.46,5.46,0,0,0,6.5,12Z\"/>\n",
              "  </svg>\n",
              "    </button>\n",
              "    <script>\n",
              "      (() => {\n",
              "      const buttonEl =\n",
              "        document.querySelector('#id_c35cf7c1-25d1-4e3a-ae0d-a1302590fe06 button.colab-df-generate');\n",
              "      buttonEl.style.display =\n",
              "        google.colab.kernel.accessAllowed ? 'block' : 'none';\n",
              "\n",
              "      buttonEl.onclick = () => {\n",
              "        google.colab.notebook.generateWithVariable('X_test');\n",
              "      }\n",
              "      })();\n",
              "    </script>\n",
              "  </div>\n",
              "\n",
              "    </div>\n",
              "  </div>\n"
            ],
            "application/vnd.google.colaboratory.intrinsic+json": {
              "type": "dataframe",
              "variable_name": "X_test"
            }
          },
          "metadata": {},
          "execution_count": 41
        }
      ],
      "source": [
        "X_test"
      ]
    },
    {
      "cell_type": "markdown",
      "id": "fa2c4ba0",
      "metadata": {
        "id": "fa2c4ba0"
      },
      "source": [
        "### Random Forest"
      ]
    },
    {
      "cell_type": "code",
      "execution_count": 42,
      "id": "9ee14790",
      "metadata": {
        "id": "9ee14790",
        "colab": {
          "base_uri": "https://localhost:8080/"
        },
        "outputId": "86d0203a-8516-4063-f18f-47fb6d72c03f"
      },
      "outputs": [
        {
          "output_type": "stream",
          "name": "stdout",
          "text": [
            "Random Forest Accuracy: 0.6865\n"
          ]
        }
      ],
      "source": [
        "from sklearn.ensemble import RandomForestClassifier\n",
        "from sklearn.metrics import accuracy_score\n",
        "\n",
        "rf = RandomForestClassifier(n_estimators=100,random_state=42) # n_estimators is the number of trees in the forest\n",
        "rf.fit(X_train, y_train)\n",
        "y_pred_rf = rf.predict(X_test)\n",
        "\n",
        "acc_rf = accuracy_score(y_test, y_pred_rf)\n",
        "print(f\"Random Forest Accuracy: {acc_rf:.4f}\")"
      ]
    },
    {
      "cell_type": "code",
      "execution_count": 43,
      "id": "4340b788",
      "metadata": {
        "id": "4340b788",
        "colab": {
          "base_uri": "https://localhost:8080/"
        },
        "outputId": "bb0c885c-f8e2-45e7-9f5b-41d89bd36234"
      },
      "outputs": [
        {
          "output_type": "execute_result",
          "data": {
            "text/plain": [
              "array([0, 1, 1, ..., 1, 0, 1])"
            ]
          },
          "metadata": {},
          "execution_count": 43
        }
      ],
      "source": [
        "y_pred_rf"
      ]
    },
    {
      "cell_type": "code",
      "execution_count": 44,
      "id": "1a273c55",
      "metadata": {
        "id": "1a273c55",
        "colab": {
          "base_uri": "https://localhost:8080/"
        },
        "outputId": "65cc9ad6-2de6-4b59-b106-bb04e5398d1e"
      },
      "outputs": [
        {
          "output_type": "stream",
          "name": "stdout",
          "text": [
            "[[624 368]\n",
            " [259 749]]\n"
          ]
        }
      ],
      "source": [
        "#Calculating the confusion matrix and the accuracy\n",
        "from sklearn.metrics import confusion_matrix\n",
        "cm = confusion_matrix(y_test, y_pred_rf)\n",
        "print(cm)"
      ]
    },
    {
      "cell_type": "code",
      "execution_count": 45,
      "id": "dd8e7922",
      "metadata": {
        "id": "dd8e7922",
        "colab": {
          "base_uri": "https://localhost:8080/",
          "height": 449
        },
        "outputId": "1cee9548-5f7f-42d7-b642-c66b8ff2ff07"
      },
      "outputs": [
        {
          "output_type": "display_data",
          "data": {
            "text/plain": [
              "<Figure size 640x480 with 2 Axes>"
            ],
            "image/png": "[encoded data removed]"
          },
          "metadata": {}
        }
      ],
      "source": [
        "import matplotlib.pyplot as plt\n",
        "from sklearn.metrics import ConfusionMatrixDisplay\n",
        "disp = ConfusionMatrixDisplay(confusion_matrix=cm, display_labels=rf.classes_)\n",
        "disp.plot()\n",
        "plt.show()"
      ]
    },
    {
      "cell_type": "code",
      "execution_count": 46,
      "id": "32a578f3",
      "metadata": {
        "id": "32a578f3",
        "colab": {
          "base_uri": "https://localhost:8080/"
        },
        "outputId": "042c086b-35bf-4d31-e1bb-76aef4d8a2c8"
      },
      "outputs": [
        {
          "output_type": "stream",
          "name": "stdout",
          "text": [
            "              precision    recall  f1-score   support\n",
            "\n",
            "           0       0.71      0.63      0.67       992\n",
            "           1       0.67      0.74      0.70      1008\n",
            "\n",
            "    accuracy                           0.69      2000\n",
            "   macro avg       0.69      0.69      0.69      2000\n",
            "weighted avg       0.69      0.69      0.69      2000\n",
            "\n"
          ]
        }
      ],
      "source": [
        "from sklearn.metrics import classification_report\n",
        "print(classification_report(y_test, y_pred_rf))"
      ]
    },
    {
      "cell_type": "markdown",
      "id": "cfa21bd2",
      "metadata": {
        "id": "cfa21bd2"
      },
      "source": [
        "### Decision Tree"
      ]
    },
    {
      "cell_type": "code",
      "execution_count": 47,
      "id": "041f014f",
      "metadata": {
        "id": "041f014f",
        "colab": {
          "base_uri": "https://localhost:8080/"
        },
        "outputId": "d6dc1775-585b-4b6b-8874-a222f023caa7"
      },
      "outputs": [
        {
          "output_type": "stream",
          "name": "stdout",
          "text": [
            "Decision Tree Accuracy: 0.6610\n"
          ]
        }
      ],
      "source": [
        "from sklearn.tree import DecisionTreeClassifier\n",
        "\n",
        "# Create and train the Decision Tree classifier\n",
        "tree = DecisionTreeClassifier(max_depth=5,random_state=42)  # max_depth limits the depth of the tree\n",
        "tree.fit(X_train, y_train)\n",
        "\n",
        "# Predict using the trained Decision Tree model\n",
        "y_pred_tree = tree.predict(X_test)\n",
        "acc_tree = accuracy_score(y_test, y_pred_tree)\n",
        "print(f\"Decision Tree Accuracy: {acc_tree:.4f}\")"
      ]
    },
    {
      "cell_type": "code",
      "execution_count": 48,
      "id": "ee39595e",
      "metadata": {
        "id": "ee39595e",
        "colab": {
          "base_uri": "https://localhost:8080/"
        },
        "outputId": "7e562e51-8097-475c-9b26-b6c612790575"
      },
      "outputs": [
        {
          "output_type": "stream",
          "name": "stdout",
          "text": [
            "[[646 346]\n",
            " [332 676]]\n"
          ]
        }
      ],
      "source": [
        "#Calculating the confusion matrix and the accuracy\n",
        "cm_DT = confusion_matrix(y_test, y_pred_tree)\n",
        "print(cm_DT)"
      ]
    },
    {
      "cell_type": "code",
      "execution_count": 49,
      "id": "0671aa54",
      "metadata": {
        "colab": {
          "base_uri": "https://localhost:8080/",
          "height": 449
        },
        "id": "0671aa54",
        "outputId": "a21978ac-9b64-44b6-8ff4-553b350eeb6e"
      },
      "outputs": [
        {
          "output_type": "display_data",
          "data": {
            "text/plain": [
              "<Figure size 640x480 with 2 Axes>"
            ],
            "image/png": "[encoded data removed]"
          },
          "metadata": {}
        }
      ],
      "source": [
        "# Display the confusion matrix for the Decision Tree\n",
        "disp1 = ConfusionMatrixDisplay(confusion_matrix=cm_DT, display_labels=tree.classes_)\n",
        "disp1.plot()\n",
        "plt.show()"
      ]
    },
    {
      "cell_type": "code",
      "execution_count": 50,
      "id": "2b5eae5f",
      "metadata": {
        "id": "2b5eae5f",
        "colab": {
          "base_uri": "https://localhost:8080/"
        },
        "outputId": "dad24dc8-107e-410f-e079-bd8cfde60e92"
      },
      "outputs": [
        {
          "output_type": "stream",
          "name": "stdout",
          "text": [
            "              precision    recall  f1-score   support\n",
            "\n",
            "           0       0.66      0.65      0.66       992\n",
            "           1       0.66      0.67      0.67      1008\n",
            "\n",
            "    accuracy                           0.66      2000\n",
            "   macro avg       0.66      0.66      0.66      2000\n",
            "weighted avg       0.66      0.66      0.66      2000\n",
            "\n"
          ]
        }
      ],
      "source": [
        "# Print the classification report for the Desicion tree model\n",
        "print(classification_report(y_test, y_pred_tree))"
      ]
    },
    {
      "cell_type": "markdown",
      "id": "ad7fbbed",
      "metadata": {
        "id": "ad7fbbed"
      },
      "source": [
        "### KNN classifier"
      ]
    },
    {
      "cell_type": "code",
      "execution_count": 51,
      "id": "c2489032",
      "metadata": {
        "id": "c2489032"
      },
      "outputs": [],
      "source": [
        "from sklearn.neighbors import KNeighborsClassifier\n",
        "from sklearn.preprocessing import StandardScaler\n",
        "\n",
        "# Scale the features\n",
        "scaler_knn = StandardScaler()\n",
        "\n",
        "# Fit the scaler on the training data\n",
        "X_train_knn = scaler_knn.fit_transform(X_train)\n",
        "\n",
        "# Transform the test data using the fitted scaler\n",
        "X_test_knn = scaler_knn.transform(X_test)"
      ]
    },
    {
      "cell_type": "code",
      "execution_count": 52,
      "id": "342cecc6",
      "metadata": {
        "id": "342cecc6",
        "colab": {
          "base_uri": "https://localhost:8080/"
        },
        "outputId": "6de2bcf1-b662-4142-cbce-5ac6e3b47383"
      },
      "outputs": [
        {
          "output_type": "stream",
          "name": "stdout",
          "text": [
            "KNN Accuracy: 0.6155\n"
          ]
        }
      ],
      "source": [
        "# Create and train the KNN classifier\n",
        "knn = KNeighborsClassifier(n_neighbors=15)  # n_neighbors is the number of neighbors to use for classification\n",
        "\n",
        "# Τraining the KNN classifier\n",
        "knn.fit(X_train_knn, y_train)\n",
        "\n",
        "# Model prediction and accuracy\n",
        "y_pred_knn = knn.predict(X_test_knn)\n",
        "acc_knn = accuracy_score(y_test, y_pred_knn)\n",
        "\n",
        "print(f\"KNN Accuracy: {acc_knn:.4f}\")"
      ]
    },
    {
      "cell_type": "code",
      "execution_count": 53,
      "id": "fbe12999",
      "metadata": {
        "id": "fbe12999",
        "colab": {
          "base_uri": "https://localhost:8080/"
        },
        "outputId": "462d0c65-1966-4d6a-f0dc-3582cad6a155"
      },
      "outputs": [
        {
          "output_type": "stream",
          "name": "stdout",
          "text": [
            "[[435 557]\n",
            " [212 796]]\n"
          ]
        }
      ],
      "source": [
        "#Calculating the confusion matrix and the accuracy\n",
        "cm_knn = confusion_matrix(y_test, y_pred_knn)\n",
        "print(cm_knn)"
      ]
    },
    {
      "cell_type": "code",
      "execution_count": 54,
      "id": "6058c93e",
      "metadata": {
        "id": "6058c93e",
        "colab": {
          "base_uri": "https://localhost:8080/",
          "height": 449
        },
        "outputId": "0eca261f-646b-4461-b989-57e42725e125"
      },
      "outputs": [
        {
          "output_type": "display_data",
          "data": {
            "text/plain": [
              "<Figure size 640x480 with 2 Axes>"
            ],
            "image/png": "[encoded data removed]"
          },
          "metadata": {}
        }
      ],
      "source": [
        "# Display the confusion matrix for the Decision Tree\n",
        "disp2 = ConfusionMatrixDisplay(confusion_matrix=cm_knn, display_labels=knn.classes_)\n",
        "disp2.plot()\n",
        "plt.show()"
      ]
    },
    {
      "cell_type": "code",
      "execution_count": 55,
      "id": "d67e26b8",
      "metadata": {
        "id": "d67e26b8",
        "colab": {
          "base_uri": "https://localhost:8080/"
        },
        "outputId": "50461224-159e-40c2-b3b7-8d62455ca982"
      },
      "outputs": [
        {
          "output_type": "stream",
          "name": "stdout",
          "text": [
            "              precision    recall  f1-score   support\n",
            "\n",
            "           0       0.67      0.44      0.53       992\n",
            "           1       0.59      0.79      0.67      1008\n",
            "\n",
            "    accuracy                           0.62      2000\n",
            "   macro avg       0.63      0.61      0.60      2000\n",
            "weighted avg       0.63      0.62      0.60      2000\n",
            "\n"
          ]
        }
      ],
      "source": [
        "# Print the classification report for the KNN model\n",
        "print(classification_report(y_test, y_pred_knn))"
      ]
    },
    {
      "cell_type": "markdown",
      "id": "bdbbe128",
      "metadata": {
        "id": "bdbbe128"
      },
      "source": [
        "## β) Ann classification\n",
        "### For All dataset expect the column 0 (column 1 - column 21)"
      ]
    },
    {
      "cell_type": "code",
      "source": [
        "#all rows all columns but expect first (column 1-28)\n",
        "X = df.iloc[:, 1:]\n",
        "#all rows, only the first column (column 0 )\n",
        "y = df.iloc[:, 0]"
      ],
      "metadata": {
        "id": "2gCvko8Vx0c6"
      },
      "id": "2gCvko8Vx0c6",
      "execution_count": 56,
      "outputs": []
    },
    {
      "cell_type": "code",
      "source": [
        "# Split the data into training and testing sets\n",
        "from sklearn.model_selection import train_test_split\n",
        "X_train, X_test, y_train, y_test = train_test_split(X, y, test_size = 0.25, random_state = 42)"
      ],
      "metadata": {
        "id": "LisLdPd0yRzx"
      },
      "id": "LisLdPd0yRzx",
      "execution_count": 57,
      "outputs": []
    },
    {
      "cell_type": "code",
      "source": [
        "# Feature scalling\n",
        "from sklearn.preprocessing import StandardScaler\n",
        "\n",
        "scaler_Ann = StandardScaler()\n",
        "\n",
        "# Fit the scaler on the training data\n",
        "X_train_Ann = scaler_Ann.fit_transform(X_train)\n",
        "# Transform the test data using the fitted scaler\n",
        "X_test_Ann = scaler_Ann.transform(X_test)"
      ],
      "metadata": {
        "id": "EDN3sU7kwFM9"
      },
      "id": "EDN3sU7kwFM9",
      "execution_count": 58,
      "outputs": []
    },
    {
      "cell_type": "code",
      "source": [
        "import tensorflow as tf\n",
        "from keras.models import Sequential\n",
        "from keras.layers import Dense, Input\n",
        "\n",
        "# Building the ANN model\n",
        "Ann_model = Sequential()\n",
        "Ann_model.add(Input(shape=(28,)))\n",
        "Ann_model.add(Dense(32, activation='relu'))\n",
        "Ann_model.add(Dense(16, activation='relu'))\n",
        "Ann_model.add(Dense(1, activation='sigmoid'))\n",
        "\n",
        "# Summary\n",
        "Ann_model.summary()"
      ],
      "metadata": {
        "colab": {
          "base_uri": "https://localhost:8080/",
          "height": 225
        },
        "id": "lmqQY0Kuy16E",
        "outputId": "746fb0c0-5e24-4526-cde5-412b5f698b7b"
      },
      "id": "lmqQY0Kuy16E",
      "execution_count": 59,
      "outputs": [
        {
          "output_type": "display_data",
          "data": {
            "text/plain": [
              "\u001b[1mModel: \"sequential_3\"\u001b[0m\n"
            ],
            "text/html": [
              "<pre style=\"white-space:pre;overflow-x:auto;line-height:normal;font-family:Menlo,'DejaVu Sans Mono',consolas,'Courier New',monospace\"><span style=\"font-weight: bold\">Model: \"sequential_3\"</span>\n",
              "</pre>\n"
            ]
          },
          "metadata": {}
        },
        {
          "output_type": "display_data",
          "data": {
            "text/plain": [
              "┏━━━━━━━━━━━━━━━━━━━━━━━━━━━━━━━━━┳━━━━━━━━━━━━━━━━━━━━━━━━┳━━━━━━━━━━━━━━━┓\n",
              "┃\u001b[1m \u001b[0m\u001b[1mLayer (type)                   \u001b[0m\u001b[1m \u001b[0m┃\u001b[1m \u001b[0m\u001b[1mOutput Shape          \u001b[0m\u001b[1m \u001b[0m┃\u001b[1m \u001b[0m\u001b[1m      Param #\u001b[0m\u001b[1m \u001b[0m┃\n",
              "┡━━━━━━━━━━━━━━━━━━━━━━━━━━━━━━━━━╇━━━━━━━━━━━━━━━━━━━━━━━━╇━━━━━━━━━━━━━━━┩\n",
              "│ dense_9 (\u001b[38;5;33mDense\u001b[0m)                 │ (\u001b[38;5;45mNone\u001b[0m, \u001b[38;5;34m32\u001b[0m)             │           \u001b[38;5;34m928\u001b[0m │\n",
              "├─────────────────────────────────┼────────────────────────┼───────────────┤\n",
              "│ dense_10 (\u001b[38;5;33mDense\u001b[0m)                │ (\u001b[38;5;45mNone\u001b[0m, \u001b[38;5;34m16\u001b[0m)             │           \u001b[38;5;34m528\u001b[0m │\n",
              "├─────────────────────────────────┼────────────────────────┼───────────────┤\n",
              "│ dense_11 (\u001b[38;5;33mDense\u001b[0m)                │ (\u001b[38;5;45mNone\u001b[0m, \u001b[38;5;34m1\u001b[0m)              │            \u001b[38;5;34m17\u001b[0m │\n",
              "└─────────────────────────────────┴────────────────────────┴───────────────┘\n"
            ],
            "text/html": [
              "<pre style=\"white-space:pre;overflow-x:auto;line-height:normal;font-family:Menlo,'DejaVu Sans Mono',consolas,'Courier New',monospace\">┏━━━━━━━━━━━━━━━━━━━━━━━━━━━━━━━━━┳━━━━━━━━━━━━━━━━━━━━━━━━┳━━━━━━━━━━━━━━━┓\n",
              "┃<span style=\"font-weight: bold\"> Layer (type)                    </span>┃<span style=\"font-weight: bold\"> Output Shape           </span>┃<span style=\"font-weight: bold\">       Param # </span>┃\n",
              "┡━━━━━━━━━━━━━━━━━━━━━━━━━━━━━━━━━╇━━━━━━━━━━━━━━━━━━━━━━━━╇━━━━━━━━━━━━━━━┩\n",
              "│ dense_9 (<span style=\"color: #0087ff; text-decoration-color: #0087ff\">Dense</span>)                 │ (<span style=\"color: #00d7ff; text-decoration-color: #00d7ff\">None</span>, <span style=\"color: #00af00; text-decoration-color: #00af00\">32</span>)             │           <span style=\"color: #00af00; text-decoration-color: #00af00\">928</span> │\n",
              "├─────────────────────────────────┼────────────────────────┼───────────────┤\n",
              "│ dense_10 (<span style=\"color: #0087ff; text-decoration-color: #0087ff\">Dense</span>)                │ (<span style=\"color: #00d7ff; text-decoration-color: #00d7ff\">None</span>, <span style=\"color: #00af00; text-decoration-color: #00af00\">16</span>)             │           <span style=\"color: #00af00; text-decoration-color: #00af00\">528</span> │\n",
              "├─────────────────────────────────┼────────────────────────┼───────────────┤\n",
              "│ dense_11 (<span style=\"color: #0087ff; text-decoration-color: #0087ff\">Dense</span>)                │ (<span style=\"color: #00d7ff; text-decoration-color: #00d7ff\">None</span>, <span style=\"color: #00af00; text-decoration-color: #00af00\">1</span>)              │            <span style=\"color: #00af00; text-decoration-color: #00af00\">17</span> │\n",
              "└─────────────────────────────────┴────────────────────────┴───────────────┘\n",
              "</pre>\n"
            ]
          },
          "metadata": {}
        },
        {
          "output_type": "display_data",
          "data": {
            "text/plain": [
              "\u001b[1m Total params: \u001b[0m\u001b[38;5;34m1,473\u001b[0m (5.75 KB)\n"
            ],
            "text/html": [
              "<pre style=\"white-space:pre;overflow-x:auto;line-height:normal;font-family:Menlo,'DejaVu Sans Mono',consolas,'Courier New',monospace\"><span style=\"font-weight: bold\"> Total params: </span><span style=\"color: #00af00; text-decoration-color: #00af00\">1,473</span> (5.75 KB)\n",
              "</pre>\n"
            ]
          },
          "metadata": {}
        },
        {
          "output_type": "display_data",
          "data": {
            "text/plain": [
              "\u001b[1m Trainable params: \u001b[0m\u001b[38;5;34m1,473\u001b[0m (5.75 KB)\n"
            ],
            "text/html": [
              "<pre style=\"white-space:pre;overflow-x:auto;line-height:normal;font-family:Menlo,'DejaVu Sans Mono',consolas,'Courier New',monospace\"><span style=\"font-weight: bold\"> Trainable params: </span><span style=\"color: #00af00; text-decoration-color: #00af00\">1,473</span> (5.75 KB)\n",
              "</pre>\n"
            ]
          },
          "metadata": {}
        },
        {
          "output_type": "display_data",
          "data": {
            "text/plain": [
              "\u001b[1m Non-trainable params: \u001b[0m\u001b[38;5;34m0\u001b[0m (0.00 B)\n"
            ],
            "text/html": [
              "<pre style=\"white-space:pre;overflow-x:auto;line-height:normal;font-family:Menlo,'DejaVu Sans Mono',consolas,'Courier New',monospace\"><span style=\"font-weight: bold\"> Non-trainable params: </span><span style=\"color: #00af00; text-decoration-color: #00af00\">0</span> (0.00 B)\n",
              "</pre>\n"
            ]
          },
          "metadata": {}
        }
      ]
    },
    {
      "cell_type": "code",
      "source": [
        "# # Training the ANN model\n",
        "from tensorflow.keras.callbacks import EarlyStopping\n",
        "\n",
        "early_stop = EarlyStopping(monitor='val_loss', patience=10, restore_best_weights=True)\n",
        "\n",
        "Ann_model.compile(loss='binary_crossentropy', optimizer='adam', metrics=['accuracy'])\n",
        "\n",
        "history_Ann = Ann_model.fit(X_train_Ann, y_train, epochs=48, batch_size=16,  validation_data=(X_test_Ann,y_test), callbacks=[early_stop])"
      ],
      "metadata": {
        "colab": {
          "base_uri": "https://localhost:8080/"
        },
        "id": "a9lyDwGizNVh",
        "outputId": "9b998b84-da30-4498-aeaa-57f04242f0ec"
      },
      "id": "a9lyDwGizNVh",
      "execution_count": 60,
      "outputs": [
        {
          "output_type": "stream",
          "name": "stdout",
          "text": [
            "Epoch 1/48\n",
            "\u001b[1m375/375\u001b[0m \u001b[32m━━━━━━━━━━━━━━━━━━━━\u001b[0m\u001b[37m\u001b[0m \u001b[1m2s\u001b[0m 4ms/step - accuracy: 0.5136 - loss: 0.7278 - val_accuracy: 0.5985 - val_loss: 0.6613\n",
            "Epoch 2/48\n",
            "\u001b[1m375/375\u001b[0m \u001b[32m━━━━━━━━━━━━━━━━━━━━\u001b[0m\u001b[37m\u001b[0m \u001b[1m3s\u001b[0m 4ms/step - accuracy: 0.6254 - loss: 0.6448 - val_accuracy: 0.5970 - val_loss: 0.6549\n",
            "Epoch 3/48\n",
            "\u001b[1m375/375\u001b[0m \u001b[32m━━━━━━━━━━━━━━━━━━━━\u001b[0m\u001b[37m\u001b[0m \u001b[1m2s\u001b[0m 3ms/step - accuracy: 0.6568 - loss: 0.6193 - val_accuracy: 0.6100 - val_loss: 0.6425\n",
            "Epoch 4/48\n",
            "\u001b[1m375/375\u001b[0m \u001b[32m━━━━━━━━━━━━━━━━━━━━\u001b[0m\u001b[37m\u001b[0m \u001b[1m1s\u001b[0m 3ms/step - accuracy: 0.6611 - loss: 0.6064 - val_accuracy: 0.6360 - val_loss: 0.6369\n",
            "Epoch 5/48\n",
            "\u001b[1m375/375\u001b[0m \u001b[32m━━━━━━━━━━━━━━━━━━━━\u001b[0m\u001b[37m\u001b[0m \u001b[1m1s\u001b[0m 3ms/step - accuracy: 0.6726 - loss: 0.5970 - val_accuracy: 0.6400 - val_loss: 0.6352\n",
            "Epoch 6/48\n",
            "\u001b[1m375/375\u001b[0m \u001b[32m━━━━━━━━━━━━━━━━━━━━\u001b[0m\u001b[37m\u001b[0m \u001b[1m1s\u001b[0m 2ms/step - accuracy: 0.6950 - loss: 0.5862 - val_accuracy: 0.6410 - val_loss: 0.6327\n",
            "Epoch 7/48\n",
            "\u001b[1m375/375\u001b[0m \u001b[32m━━━━━━━━━━━━━━━━━━━━\u001b[0m\u001b[37m\u001b[0m \u001b[1m1s\u001b[0m 2ms/step - accuracy: 0.7044 - loss: 0.5697 - val_accuracy: 0.6465 - val_loss: 0.6333\n",
            "Epoch 8/48\n",
            "\u001b[1m375/375\u001b[0m \u001b[32m━━━━━━━━━━━━━━━━━━━━\u001b[0m\u001b[37m\u001b[0m \u001b[1m1s\u001b[0m 2ms/step - accuracy: 0.6984 - loss: 0.5683 - val_accuracy: 0.6385 - val_loss: 0.6377\n",
            "Epoch 9/48\n",
            "\u001b[1m375/375\u001b[0m \u001b[32m━━━━━━━━━━━━━━━━━━━━\u001b[0m\u001b[37m\u001b[0m \u001b[1m1s\u001b[0m 3ms/step - accuracy: 0.7143 - loss: 0.5567 - val_accuracy: 0.6365 - val_loss: 0.6363\n",
            "Epoch 10/48\n",
            "\u001b[1m375/375\u001b[0m \u001b[32m━━━━━━━━━━━━━━━━━━━━\u001b[0m\u001b[37m\u001b[0m \u001b[1m1s\u001b[0m 3ms/step - accuracy: 0.7113 - loss: 0.5580 - val_accuracy: 0.6465 - val_loss: 0.6365\n",
            "Epoch 11/48\n",
            "\u001b[1m375/375\u001b[0m \u001b[32m━━━━━━━━━━━━━━━━━━━━\u001b[0m\u001b[37m\u001b[0m \u001b[1m2s\u001b[0m 4ms/step - accuracy: 0.7163 - loss: 0.5545 - val_accuracy: 0.6470 - val_loss: 0.6392\n",
            "Epoch 12/48\n",
            "\u001b[1m375/375\u001b[0m \u001b[32m━━━━━━━━━━━━━━━━━━━━\u001b[0m\u001b[37m\u001b[0m \u001b[1m2s\u001b[0m 3ms/step - accuracy: 0.7237 - loss: 0.5410 - val_accuracy: 0.6510 - val_loss: 0.6370\n",
            "Epoch 13/48\n",
            "\u001b[1m375/375\u001b[0m \u001b[32m━━━━━━━━━━━━━━━━━━━━\u001b[0m\u001b[37m\u001b[0m \u001b[1m1s\u001b[0m 3ms/step - accuracy: 0.7161 - loss: 0.5483 - val_accuracy: 0.6360 - val_loss: 0.6420\n",
            "Epoch 14/48\n",
            "\u001b[1m375/375\u001b[0m \u001b[32m━━━━━━━━━━━━━━━━━━━━\u001b[0m\u001b[37m\u001b[0m \u001b[1m1s\u001b[0m 2ms/step - accuracy: 0.7270 - loss: 0.5371 - val_accuracy: 0.6450 - val_loss: 0.6440\n",
            "Epoch 15/48\n",
            "\u001b[1m375/375\u001b[0m \u001b[32m━━━━━━━━━━━━━━━━━━━━\u001b[0m\u001b[37m\u001b[0m \u001b[1m1s\u001b[0m 2ms/step - accuracy: 0.7258 - loss: 0.5410 - val_accuracy: 0.6520 - val_loss: 0.6457\n",
            "Epoch 16/48\n",
            "\u001b[1m375/375\u001b[0m \u001b[32m━━━━━━━━━━━━━━━━━━━━\u001b[0m\u001b[37m\u001b[0m \u001b[1m1s\u001b[0m 3ms/step - accuracy: 0.7252 - loss: 0.5409 - val_accuracy: 0.6420 - val_loss: 0.6579\n"
          ]
        }
      ]
    },
    {
      "cell_type": "code",
      "source": [
        "# Predicting the test set results\n",
        "y_pred_Ann = Ann_model.predict(X_test_Ann)\n",
        "y_pred_Ann = (y_pred_Ann > 0.5)\n",
        "y_pred_Ann"
      ],
      "metadata": {
        "colab": {
          "base_uri": "https://localhost:8080/"
        },
        "id": "t3D_Ik_z0QOQ",
        "outputId": "47cdc725-3d66-4d4c-ed35-16831726207b"
      },
      "id": "t3D_Ik_z0QOQ",
      "execution_count": 61,
      "outputs": [
        {
          "output_type": "stream",
          "name": "stdout",
          "text": [
            "\u001b[1m63/63\u001b[0m \u001b[32m━━━━━━━━━━━━━━━━━━━━\u001b[0m\u001b[37m\u001b[0m \u001b[1m0s\u001b[0m 2ms/step\n"
          ]
        },
        {
          "output_type": "execute_result",
          "data": {
            "text/plain": [
              "array([[False],\n",
              "       [ True],\n",
              "       [ True],\n",
              "       ...,\n",
              "       [False],\n",
              "       [ True],\n",
              "       [False]])"
            ]
          },
          "metadata": {},
          "execution_count": 61
        }
      ]
    },
    {
      "cell_type": "code",
      "source": [
        "# Making the Confusion Matrix\n",
        "cm_Ann = confusion_matrix(y_test, y_pred_Ann)\n",
        "print(cm_Ann)"
      ],
      "metadata": {
        "colab": {
          "base_uri": "https://localhost:8080/"
        },
        "id": "U7THE7Mj0P9E",
        "outputId": "72dd5a5b-18ba-47c2-a668-839d156ad8ed"
      },
      "id": "U7THE7Mj0P9E",
      "execution_count": 62,
      "outputs": [
        {
          "output_type": "stream",
          "name": "stdout",
          "text": [
            "[[571 421]\n",
            " [297 711]]\n"
          ]
        }
      ]
    },
    {
      "cell_type": "code",
      "source": [
        "# Evaluate the model on test data\n",
        "loss, accuracy = Ann_model.evaluate(X_test_Ann, y_test)\n",
        "print(f'Test Accuracy: {accuracy:.4f}')"
      ],
      "metadata": {
        "colab": {
          "base_uri": "https://localhost:8080/"
        },
        "id": "7nIq0GNN0ebq",
        "outputId": "a1c22000-037d-44b6-b6d9-b3c8d97f6e7f"
      },
      "id": "7nIq0GNN0ebq",
      "execution_count": 63,
      "outputs": [
        {
          "output_type": "stream",
          "name": "stdout",
          "text": [
            "\u001b[1m63/63\u001b[0m \u001b[32m━━━━━━━━━━━━━━━━━━━━\u001b[0m\u001b[37m\u001b[0m \u001b[1m0s\u001b[0m 2ms/step - accuracy: 0.6594 - loss: 0.6134\n",
            "Test Accuracy: 0.6410\n"
          ]
        }
      ]
    },
    {
      "cell_type": "markdown",
      "source": [
        "## γ) Calculate and comparing the results from classifier of low and high level quantities\n",
        "\n",
        "## 1.For low level quantities"
      ],
      "metadata": {
        "id": "rECbSVhK05s1"
      },
      "id": "rECbSVhK05s1"
    },
    {
      "cell_type": "code",
      "execution_count": 64,
      "id": "0f9d1990",
      "metadata": {
        "id": "0f9d1990",
        "colab": {
          "base_uri": "https://localhost:8080/",
          "height": 273
        },
        "outputId": "61036234-a121-4017-98b6-f662563481d1"
      },
      "outputs": [
        {
          "output_type": "execute_result",
          "data": {
            "text/plain": [
              "   8.69E-01  -6.35E-01  2.26E-01  3.27E-01  -6.90E-01  7.54E-01  -2.49E-01  \\\n",
              "0  1.630428   0.404143  0.401026  2.722409   0.355644  1.362199   0.015818   \n",
              "1  0.326305  -0.797735  0.223471  1.248234  -1.427857  0.923767  -0.278280   \n",
              "2  1.381170   0.521993  0.574698  0.357347   0.037136  0.413057  -0.607036   \n",
              "3  0.304161  -0.736375  0.686225  0.477172  -1.274736  0.907003   0.324770   \n",
              "4  0.661761   0.486930  0.542516  2.630618   1.098063  1.021878  -2.306271   \n",
              "\n",
              "   -1.09E+00  0.00E+00  1.37E+00  ...  9.30E-01  1.11E+00  1.14E+00  \\\n",
              "0  -1.174111  0.000000  1.002695  ... -1.466066  0.000000  0.782744   \n",
              "1  -0.470052  0.000000  0.894418  ... -0.809703  0.000000  1.205289   \n",
              "2  -1.308270  0.000000  0.655957  ... -0.454609  2.214872  1.027034   \n",
              "3  -0.463954  2.173076  0.468865  ... -0.168871  0.000000  0.618187   \n",
              "4  -0.652999  0.000000  1.700830  ... -0.875727  2.214872  1.050918   \n",
              "\n",
              "   -1.58E+00  -1.05E+00         0  6.58E-01  -1.05E-02  -4.58E-02  3.10E+00  \n",
              "0  -0.882768   1.008969  0.000000  1.536386   0.387635   1.596321  1.550981  \n",
              "1   0.352439   0.626202  2.548224  1.626933  -0.426866   1.153501  0.000000  \n",
              "2  -1.158574   0.533561  0.000000  1.809489   0.567525  -1.475778  0.000000  \n",
              "3   2.103758   1.222542  0.000000  1.093142   0.904818   1.165154  0.000000  \n",
              "4   0.827589   1.201462  0.000000  0.829045  -0.943217   0.566404  3.101961  \n",
              "\n",
              "[5 rows x 21 columns]"
            ],
            "text/html": [
              "\n",
              "  <div id=\"df-b475c564-1f1d-49eb-b94b-86a4fb9f26bb\" class=\"colab-df-container\">\n",
              "    <div>\n",
              "<style scoped>\n",
              "    .dataframe tbody tr th:only-of-type {\n",
              "        vertical-align: middle;\n",
              "    }\n",
              "\n",
              "    .dataframe tbody tr th {\n",
              "        vertical-align: top;\n",
              "    }\n",
              "\n",
              "    .dataframe thead th {\n",
              "        text-align: right;\n",
              "    }\n",
              "</style>\n",
              "<table border=\"1\" class=\"dataframe\">\n",
              "  <thead>\n",
              "    <tr style=\"text-align: right;\">\n",
              "      <th></th>\n",
              "      <th>8.69E-01</th>\n",
              "      <th>-6.35E-01</th>\n",
              "      <th>2.26E-01</th>\n",
              "      <th>3.27E-01</th>\n",
              "      <th>-6.90E-01</th>\n",
              "      <th>7.54E-01</th>\n",
              "      <th>-2.49E-01</th>\n",
              "      <th>-1.09E+00</th>\n",
              "      <th>0.00E+00</th>\n",
              "      <th>1.37E+00</th>\n",
              "      <th>...</th>\n",
              "      <th>9.30E-01</th>\n",
              "      <th>1.11E+00</th>\n",
              "      <th>1.14E+00</th>\n",
              "      <th>-1.58E+00</th>\n",
              "      <th>-1.05E+00</th>\n",
              "      <th>0</th>\n",
              "      <th>6.58E-01</th>\n",
              "      <th>-1.05E-02</th>\n",
              "      <th>-4.58E-02</th>\n",
              "      <th>3.10E+00</th>\n",
              "    </tr>\n",
              "  </thead>\n",
              "  <tbody>\n",
              "    <tr>\n",
              "      <th>0</th>\n",
              "      <td>1.630428</td>\n",
              "      <td>0.404143</td>\n",
              "      <td>0.401026</td>\n",
              "      <td>2.722409</td>\n",
              "      <td>0.355644</td>\n",
              "      <td>1.362199</td>\n",
              "      <td>0.015818</td>\n",
              "      <td>-1.174111</td>\n",
              "      <td>0.000000</td>\n",
              "      <td>1.002695</td>\n",
              "      <td>...</td>\n",
              "      <td>-1.466066</td>\n",
              "      <td>0.000000</td>\n",
              "      <td>0.782744</td>\n",
              "      <td>-0.882768</td>\n",
              "      <td>1.008969</td>\n",
              "      <td>0.000000</td>\n",
              "      <td>1.536386</td>\n",
              "      <td>0.387635</td>\n",
              "      <td>1.596321</td>\n",
              "      <td>1.550981</td>\n",
              "    </tr>\n",
              "    <tr>\n",
              "      <th>1</th>\n",
              "      <td>0.326305</td>\n",
              "      <td>-0.797735</td>\n",
              "      <td>0.223471</td>\n",
              "      <td>1.248234</td>\n",
              "      <td>-1.427857</td>\n",
              "      <td>0.923767</td>\n",
              "      <td>-0.278280</td>\n",
              "      <td>-0.470052</td>\n",
              "      <td>0.000000</td>\n",
              "      <td>0.894418</td>\n",
              "      <td>...</td>\n",
              "      <td>-0.809703</td>\n",
              "      <td>0.000000</td>\n",
              "      <td>1.205289</td>\n",
              "      <td>0.352439</td>\n",
              "      <td>0.626202</td>\n",
              "      <td>2.548224</td>\n",
              "      <td>1.626933</td>\n",
              "      <td>-0.426866</td>\n",
              "      <td>1.153501</td>\n",
              "      <td>0.000000</td>\n",
              "    </tr>\n",
              "    <tr>\n",
              "      <th>2</th>\n",
              "      <td>1.381170</td>\n",
              "      <td>0.521993</td>\n",
              "      <td>0.574698</td>\n",
              "      <td>0.357347</td>\n",
              "      <td>0.037136</td>\n",
              "      <td>0.413057</td>\n",
              "      <td>-0.607036</td>\n",
              "      <td>-1.308270</td>\n",
              "      <td>0.000000</td>\n",
              "      <td>0.655957</td>\n",
              "      <td>...</td>\n",
              "      <td>-0.454609</td>\n",
              "      <td>2.214872</td>\n",
              "      <td>1.027034</td>\n",
              "      <td>-1.158574</td>\n",
              "      <td>0.533561</td>\n",
              "      <td>0.000000</td>\n",
              "      <td>1.809489</td>\n",
              "      <td>0.567525</td>\n",
              "      <td>-1.475778</td>\n",
              "      <td>0.000000</td>\n",
              "    </tr>\n",
              "    <tr>\n",
              "      <th>3</th>\n",
              "      <td>0.304161</td>\n",
              "      <td>-0.736375</td>\n",
              "      <td>0.686225</td>\n",
              "      <td>0.477172</td>\n",
              "      <td>-1.274736</td>\n",
              "      <td>0.907003</td>\n",
              "      <td>0.324770</td>\n",
              "      <td>-0.463954</td>\n",
              "      <td>2.173076</td>\n",
              "      <td>0.468865</td>\n",
              "      <td>...</td>\n",
              "      <td>-0.168871</td>\n",
              "      <td>0.000000</td>\n",
              "      <td>0.618187</td>\n",
              "      <td>2.103758</td>\n",
              "      <td>1.222542</td>\n",
              "      <td>0.000000</td>\n",
              "      <td>1.093142</td>\n",
              "      <td>0.904818</td>\n",
              "      <td>1.165154</td>\n",
              "      <td>0.000000</td>\n",
              "    </tr>\n",
              "    <tr>\n",
              "      <th>4</th>\n",
              "      <td>0.661761</td>\n",
              "      <td>0.486930</td>\n",
              "      <td>0.542516</td>\n",
              "      <td>2.630618</td>\n",
              "      <td>1.098063</td>\n",
              "      <td>1.021878</td>\n",
              "      <td>-2.306271</td>\n",
              "      <td>-0.652999</td>\n",
              "      <td>0.000000</td>\n",
              "      <td>1.700830</td>\n",
              "      <td>...</td>\n",
              "      <td>-0.875727</td>\n",
              "      <td>2.214872</td>\n",
              "      <td>1.050918</td>\n",
              "      <td>0.827589</td>\n",
              "      <td>1.201462</td>\n",
              "      <td>0.000000</td>\n",
              "      <td>0.829045</td>\n",
              "      <td>-0.943217</td>\n",
              "      <td>0.566404</td>\n",
              "      <td>3.101961</td>\n",
              "    </tr>\n",
              "  </tbody>\n",
              "</table>\n",
              "<p>5 rows × 21 columns</p>\n",
              "</div>\n",
              "    <div class=\"colab-df-buttons\">\n",
              "\n",
              "  <div class=\"colab-df-container\">\n",
              "    <button class=\"colab-df-convert\" onclick=\"convertToInteractive('df-b475c564-1f1d-49eb-b94b-86a4fb9f26bb')\"\n",
              "            title=\"Convert this dataframe to an interactive table.\"\n",
              "            style=\"display:none;\">\n",
              "\n",
              "  <svg xmlns=\"http://www.w3.org/2000/svg\" height=\"24px\" viewBox=\"0 -960 960 960\">\n",
              "    <path d=\"M120-120v-720h720v720H120Zm60-500h600v-160H180v160Zm220 220h160v-160H400v160Zm0 220h160v-160H400v160ZM180-400h160v-160H180v160Zm440 0h160v-160H620v160ZM180-180h160v-160H180v160Zm440 0h160v-160H620v160Z\"/>\n",
              "  </svg>\n",
              "    </button>\n",
              "\n",
              "  <style>\n",
              "    .colab-df-container {\n",
              "      display:flex;\n",
              "      gap: 12px;\n",
              "    }\n",
              "\n",
              "    .colab-df-convert {\n",
              "      background-color: #E8F0FE;\n",
              "      border: none;\n",
              "      border-radius: 50%;\n",
              "      cursor: pointer;\n",
              "      display: none;\n",
              "      fill: #1967D2;\n",
              "      height: 32px;\n",
              "      padding: 0 0 0 0;\n",
              "      width: 32px;\n",
              "    }\n",
              "\n",
              "    .colab-df-convert:hover {\n",
              "      background-color: #E2EBFA;\n",
              "      box-shadow: 0px 1px 2px rgba(60, 64, 67, 0.3), 0px 1px 3px 1px rgba(60, 64, 67, 0.15);\n",
              "      fill: #174EA6;\n",
              "    }\n",
              "\n",
              "    .colab-df-buttons div {\n",
              "      margin-bottom: 4px;\n",
              "    }\n",
              "\n",
              "    [theme=dark] .colab-df-convert {\n",
              "      background-color: #3B4455;\n",
              "      fill: #D2E3FC;\n",
              "    }\n",
              "\n",
              "    [theme=dark] .colab-df-convert:hover {\n",
              "      background-color: #434B5C;\n",
              "      box-shadow: 0px 1px 3px 1px rgba(0, 0, 0, 0.15);\n",
              "      filter: drop-shadow(0px 1px 2px rgba(0, 0, 0, 0.3));\n",
              "      fill: #FFFFFF;\n",
              "    }\n",
              "  </style>\n",
              "\n",
              "    <script>\n",
              "      const buttonEl =\n",
              "        document.querySelector('#df-b475c564-1f1d-49eb-b94b-86a4fb9f26bb button.colab-df-convert');\n",
              "      buttonEl.style.display =\n",
              "        google.colab.kernel.accessAllowed ? 'block' : 'none';\n",
              "\n",
              "      async function convertToInteractive(key) {\n",
              "        const element = document.querySelector('#df-b475c564-1f1d-49eb-b94b-86a4fb9f26bb');\n",
              "        const dataTable =\n",
              "          await google.colab.kernel.invokeFunction('convertToInteractive',\n",
              "                                                    [key], {});\n",
              "        if (!dataTable) return;\n",
              "\n",
              "        const docLinkHtml = 'Like what you see? Visit the ' +\n",
              "          '<a target=\"_blank\" href=https://colab.research.google.com/notebooks/data_table.ipynb>data table notebook</a>'\n",
              "          + ' to learn more about interactive tables.';\n",
              "        element.innerHTML = '';\n",
              "        dataTable['output_type'] = 'display_data';\n",
              "        await google.colab.output.renderOutput(dataTable, element);\n",
              "        const docLink = document.createElement('div');\n",
              "        docLink.innerHTML = docLinkHtml;\n",
              "        element.appendChild(docLink);\n",
              "      }\n",
              "    </script>\n",
              "  </div>\n",
              "\n",
              "\n",
              "    <div id=\"df-db57e71e-86bd-4d99-9b26-2b28e7267233\">\n",
              "      <button class=\"colab-df-quickchart\" onclick=\"quickchart('df-db57e71e-86bd-4d99-9b26-2b28e7267233')\"\n",
              "                title=\"Suggest charts\"\n",
              "                style=\"display:none;\">\n",
              "\n",
              "<svg xmlns=\"http://www.w3.org/2000/svg\" height=\"24px\"viewBox=\"0 0 24 24\"\n",
              "     width=\"24px\">\n",
              "    <g>\n",
              "        <path d=\"M19 3H5c-1.1 0-2 .9-2 2v14c0 1.1.9 2 2 2h14c1.1 0 2-.9 2-2V5c0-1.1-.9-2-2-2zM9 17H7v-7h2v7zm4 0h-2V7h2v10zm4 0h-2v-4h2v4z\"/>\n",
              "    </g>\n",
              "</svg>\n",
              "      </button>\n",
              "\n",
              "<style>\n",
              "  .colab-df-quickchart {\n",
              "      --bg-color: #E8F0FE;\n",
              "      --fill-color: #1967D2;\n",
              "      --hover-bg-color: #E2EBFA;\n",
              "      --hover-fill-color: #174EA6;\n",
              "      --disabled-fill-color: #AAA;\n",
              "      --disabled-bg-color: #DDD;\n",
              "  }\n",
              "\n",
              "  [theme=dark] .colab-df-quickchart {\n",
              "      --bg-color: #3B4455;\n",
              "      --fill-color: #D2E3FC;\n",
              "      --hover-bg-color: #434B5C;\n",
              "      --hover-fill-color: #FFFFFF;\n",
              "      --disabled-bg-color: #3B4455;\n",
              "      --disabled-fill-color: #666;\n",
              "  }\n",
              "\n",
              "  .colab-df-quickchart {\n",
              "    background-color: var(--bg-color);\n",
              "    border: none;\n",
              "    border-radius: 50%;\n",
              "    cursor: pointer;\n",
              "    display: none;\n",
              "    fill: var(--fill-color);\n",
              "    height: 32px;\n",
              "    padding: 0;\n",
              "    width: 32px;\n",
              "  }\n",
              "\n",
              "  .colab-df-quickchart:hover {\n",
              "    background-color: var(--hover-bg-color);\n",
              "    box-shadow: 0 1px 2px rgba(60, 64, 67, 0.3), 0 1px 3px 1px rgba(60, 64, 67, 0.15);\n",
              "    fill: var(--button-hover-fill-color);\n",
              "  }\n",
              "\n",
              "  .colab-df-quickchart-complete:disabled,\n",
              "  .colab-df-quickchart-complete:disabled:hover {\n",
              "    background-color: var(--disabled-bg-color);\n",
              "    fill: var(--disabled-fill-color);\n",
              "    box-shadow: none;\n",
              "  }\n",
              "\n",
              "  .colab-df-spinner {\n",
              "    border: 2px solid var(--fill-color);\n",
              "    border-color: transparent;\n",
              "    border-bottom-color: var(--fill-color);\n",
              "    animation:\n",
              "      spin 1s steps(1) infinite;\n",
              "  }\n",
              "\n",
              "  @keyframes spin {\n",
              "    0% {\n",
              "      border-color: transparent;\n",
              "      border-bottom-color: var(--fill-color);\n",
              "      border-left-color: var(--fill-color);\n",
              "    }\n",
              "    20% {\n",
              "      border-color: transparent;\n",
              "      border-left-color: var(--fill-color);\n",
              "      border-top-color: var(--fill-color);\n",
              "    }\n",
              "    30% {\n",
              "      border-color: transparent;\n",
              "      border-left-color: var(--fill-color);\n",
              "      border-top-color: var(--fill-color);\n",
              "      border-right-color: var(--fill-color);\n",
              "    }\n",
              "    40% {\n",
              "      border-color: transparent;\n",
              "      border-right-color: var(--fill-color);\n",
              "      border-top-color: var(--fill-color);\n",
              "    }\n",
              "    60% {\n",
              "      border-color: transparent;\n",
              "      border-right-color: var(--fill-color);\n",
              "    }\n",
              "    80% {\n",
              "      border-color: transparent;\n",
              "      border-right-color: var(--fill-color);\n",
              "      border-bottom-color: var(--fill-color);\n",
              "    }\n",
              "    90% {\n",
              "      border-color: transparent;\n",
              "      border-bottom-color: var(--fill-color);\n",
              "    }\n",
              "  }\n",
              "</style>\n",
              "\n",
              "      <script>\n",
              "        async function quickchart(key) {\n",
              "          const quickchartButtonEl =\n",
              "            document.querySelector('#' + key + ' button');\n",
              "          quickchartButtonEl.disabled = true;  // To prevent multiple clicks.\n",
              "          quickchartButtonEl.classList.add('colab-df-spinner');\n",
              "          try {\n",
              "            const charts = await google.colab.kernel.invokeFunction(\n",
              "                'suggestCharts', [key], {});\n",
              "          } catch (error) {\n",
              "            console.error('Error during call to suggestCharts:', error);\n",
              "          }\n",
              "          quickchartButtonEl.classList.remove('colab-df-spinner');\n",
              "          quickchartButtonEl.classList.add('colab-df-quickchart-complete');\n",
              "        }\n",
              "        (() => {\n",
              "          let quickchartButtonEl =\n",
              "            document.querySelector('#df-db57e71e-86bd-4d99-9b26-2b28e7267233 button');\n",
              "          quickchartButtonEl.style.display =\n",
              "            google.colab.kernel.accessAllowed ? 'block' : 'none';\n",
              "        })();\n",
              "      </script>\n",
              "    </div>\n",
              "\n",
              "    </div>\n",
              "  </div>\n"
            ],
            "application/vnd.google.colaboratory.intrinsic+json": {
              "type": "dataframe",
              "variable_name": "X_low"
            }
          },
          "metadata": {},
          "execution_count": 64
        }
      ],
      "source": [
        "y_data = df.iloc[:,0]\n",
        "X_low = df.iloc[:, 1:22]\n",
        "X_low.head()"
      ]
    },
    {
      "cell_type": "code",
      "execution_count": 65,
      "id": "be645720",
      "metadata": {
        "id": "be645720"
      },
      "outputs": [],
      "source": [
        "# Split the data into training and testing sets\n",
        "from sklearn.model_selection import train_test_split\n",
        "X_low_train, X_low_test, y_train, y_test = train_test_split(X_low, y_data, test_size = 0.25, random_state = 42)"
      ]
    },
    {
      "cell_type": "markdown",
      "source": [
        "## Ann Classifier"
      ],
      "metadata": {
        "id": "nnVEPXUxLgkU"
      },
      "id": "nnVEPXUxLgkU"
    },
    {
      "cell_type": "code",
      "execution_count": 66,
      "id": "a41fad62",
      "metadata": {
        "id": "a41fad62"
      },
      "outputs": [],
      "source": [
        "# Feture scaling\n",
        "from sklearn.preprocessing import StandardScaler\n",
        "scaler_lowAnn = StandardScaler()\n",
        "Xlow_Ann_train = scaler_lowAnn.fit_transform(X_low_train)\n",
        "Xlow_Ann_test = scaler_lowAnn.transform(X_low_test)"
      ]
    },
    {
      "cell_type": "code",
      "execution_count": 67,
      "id": "7b99d23d",
      "metadata": {
        "id": "7b99d23d",
        "colab": {
          "base_uri": "https://localhost:8080/",
          "height": 225
        },
        "outputId": "eb933d7f-978c-47b0-9335-abea67b2332f"
      },
      "outputs": [
        {
          "output_type": "display_data",
          "data": {
            "text/plain": [
              "\u001b[1mModel: \"sequential_4\"\u001b[0m\n"
            ],
            "text/html": [
              "<pre style=\"white-space:pre;overflow-x:auto;line-height:normal;font-family:Menlo,'DejaVu Sans Mono',consolas,'Courier New',monospace\"><span style=\"font-weight: bold\">Model: \"sequential_4\"</span>\n",
              "</pre>\n"
            ]
          },
          "metadata": {}
        },
        {
          "output_type": "display_data",
          "data": {
            "text/plain": [
              "┏━━━━━━━━━━━━━━━━━━━━━━━━━━━━━━━━━┳━━━━━━━━━━━━━━━━━━━━━━━━┳━━━━━━━━━━━━━━━┓\n",
              "┃\u001b[1m \u001b[0m\u001b[1mLayer (type)                   \u001b[0m\u001b[1m \u001b[0m┃\u001b[1m \u001b[0m\u001b[1mOutput Shape          \u001b[0m\u001b[1m \u001b[0m┃\u001b[1m \u001b[0m\u001b[1m      Param #\u001b[0m\u001b[1m \u001b[0m┃\n",
              "┡━━━━━━━━━━━━━━━━━━━━━━━━━━━━━━━━━╇━━━━━━━━━━━━━━━━━━━━━━━━╇━━━━━━━━━━━━━━━┩\n",
              "│ dense_12 (\u001b[38;5;33mDense\u001b[0m)                │ (\u001b[38;5;45mNone\u001b[0m, \u001b[38;5;34m64\u001b[0m)             │         \u001b[38;5;34m1,408\u001b[0m │\n",
              "├─────────────────────────────────┼────────────────────────┼───────────────┤\n",
              "│ dense_13 (\u001b[38;5;33mDense\u001b[0m)                │ (\u001b[38;5;45mNone\u001b[0m, \u001b[38;5;34m32\u001b[0m)             │         \u001b[38;5;34m2,080\u001b[0m │\n",
              "├─────────────────────────────────┼────────────────────────┼───────────────┤\n",
              "│ dense_14 (\u001b[38;5;33mDense\u001b[0m)                │ (\u001b[38;5;45mNone\u001b[0m, \u001b[38;5;34m1\u001b[0m)              │            \u001b[38;5;34m33\u001b[0m │\n",
              "└─────────────────────────────────┴────────────────────────┴───────────────┘\n"
            ],
            "text/html": [
              "<pre style=\"white-space:pre;overflow-x:auto;line-height:normal;font-family:Menlo,'DejaVu Sans Mono',consolas,'Courier New',monospace\">┏━━━━━━━━━━━━━━━━━━━━━━━━━━━━━━━━━┳━━━━━━━━━━━━━━━━━━━━━━━━┳━━━━━━━━━━━━━━━┓\n",
              "┃<span style=\"font-weight: bold\"> Layer (type)                    </span>┃<span style=\"font-weight: bold\"> Output Shape           </span>┃<span style=\"font-weight: bold\">       Param # </span>┃\n",
              "┡━━━━━━━━━━━━━━━━━━━━━━━━━━━━━━━━━╇━━━━━━━━━━━━━━━━━━━━━━━━╇━━━━━━━━━━━━━━━┩\n",
              "│ dense_12 (<span style=\"color: #0087ff; text-decoration-color: #0087ff\">Dense</span>)                │ (<span style=\"color: #00d7ff; text-decoration-color: #00d7ff\">None</span>, <span style=\"color: #00af00; text-decoration-color: #00af00\">64</span>)             │         <span style=\"color: #00af00; text-decoration-color: #00af00\">1,408</span> │\n",
              "├─────────────────────────────────┼────────────────────────┼───────────────┤\n",
              "│ dense_13 (<span style=\"color: #0087ff; text-decoration-color: #0087ff\">Dense</span>)                │ (<span style=\"color: #00d7ff; text-decoration-color: #00d7ff\">None</span>, <span style=\"color: #00af00; text-decoration-color: #00af00\">32</span>)             │         <span style=\"color: #00af00; text-decoration-color: #00af00\">2,080</span> │\n",
              "├─────────────────────────────────┼────────────────────────┼───────────────┤\n",
              "│ dense_14 (<span style=\"color: #0087ff; text-decoration-color: #0087ff\">Dense</span>)                │ (<span style=\"color: #00d7ff; text-decoration-color: #00d7ff\">None</span>, <span style=\"color: #00af00; text-decoration-color: #00af00\">1</span>)              │            <span style=\"color: #00af00; text-decoration-color: #00af00\">33</span> │\n",
              "└─────────────────────────────────┴────────────────────────┴───────────────┘\n",
              "</pre>\n"
            ]
          },
          "metadata": {}
        },
        {
          "output_type": "display_data",
          "data": {
            "text/plain": [
              "\u001b[1m Total params: \u001b[0m\u001b[38;5;34m3,521\u001b[0m (13.75 KB)\n"
            ],
            "text/html": [
              "<pre style=\"white-space:pre;overflow-x:auto;line-height:normal;font-family:Menlo,'DejaVu Sans Mono',consolas,'Courier New',monospace\"><span style=\"font-weight: bold\"> Total params: </span><span style=\"color: #00af00; text-decoration-color: #00af00\">3,521</span> (13.75 KB)\n",
              "</pre>\n"
            ]
          },
          "metadata": {}
        },
        {
          "output_type": "display_data",
          "data": {
            "text/plain": [
              "\u001b[1m Trainable params: \u001b[0m\u001b[38;5;34m3,521\u001b[0m (13.75 KB)\n"
            ],
            "text/html": [
              "<pre style=\"white-space:pre;overflow-x:auto;line-height:normal;font-family:Menlo,'DejaVu Sans Mono',consolas,'Courier New',monospace\"><span style=\"font-weight: bold\"> Trainable params: </span><span style=\"color: #00af00; text-decoration-color: #00af00\">3,521</span> (13.75 KB)\n",
              "</pre>\n"
            ]
          },
          "metadata": {}
        },
        {
          "output_type": "display_data",
          "data": {
            "text/plain": [
              "\u001b[1m Non-trainable params: \u001b[0m\u001b[38;5;34m0\u001b[0m (0.00 B)\n"
            ],
            "text/html": [
              "<pre style=\"white-space:pre;overflow-x:auto;line-height:normal;font-family:Menlo,'DejaVu Sans Mono',consolas,'Courier New',monospace\"><span style=\"font-weight: bold\"> Non-trainable params: </span><span style=\"color: #00af00; text-decoration-color: #00af00\">0</span> (0.00 B)\n",
              "</pre>\n"
            ]
          },
          "metadata": {}
        }
      ],
      "source": [
        "import tensorflow as tf\n",
        "from keras.models import Sequential\n",
        "from keras.layers import Dense, Input\n",
        "\n",
        "# Building the ANN model\n",
        "Ann_model_low = Sequential()\n",
        "Ann_model_low.add(Input(shape=(21,)))\n",
        "Ann_model_low.add(Dense(64, activation='relu'))\n",
        "Ann_model_low.add(Dense(32, activation='relu'))\n",
        "Ann_model_low.add(Dense(1, activation='sigmoid'))\n",
        "\n",
        "# Summary\n",
        "Ann_model_low.summary()"
      ]
    },
    {
      "cell_type": "code",
      "source": [
        "# # Training the ANN model\n",
        "from tensorflow.keras.callbacks import EarlyStopping\n",
        "\n",
        "early_stop = EarlyStopping(monitor='val_loss', patience=10, restore_best_weights=True)\n",
        "\n",
        "Ann_model_low.compile(loss='binary_crossentropy', optimizer='adam', metrics=['accuracy'])\n",
        "\n",
        "history_low = Ann_model_low.fit(X_low_train, y_train, epochs=48, batch_size=16, validation_split=0.2, callbacks=[early_stop])"
      ],
      "metadata": {
        "colab": {
          "base_uri": "https://localhost:8080/"
        },
        "id": "8ZfsNOa8JV_e",
        "outputId": "57ae2bf6-0581-4063-de42-917de8753ea9"
      },
      "id": "8ZfsNOa8JV_e",
      "execution_count": 68,
      "outputs": [
        {
          "output_type": "stream",
          "name": "stdout",
          "text": [
            "Epoch 1/48\n",
            "\u001b[1m300/300\u001b[0m \u001b[32m━━━━━━━━━━━━━━━━━━━━\u001b[0m\u001b[37m\u001b[0m \u001b[1m2s\u001b[0m 3ms/step - accuracy: 0.5291 - loss: 0.6961 - val_accuracy: 0.5433 - val_loss: 0.6869\n",
            "Epoch 2/48\n",
            "\u001b[1m300/300\u001b[0m \u001b[32m━━━━━━━━━━━━━━━━━━━━\u001b[0m\u001b[37m\u001b[0m \u001b[1m1s\u001b[0m 2ms/step - accuracy: 0.5672 - loss: 0.6762 - val_accuracy: 0.5517 - val_loss: 0.6851\n",
            "Epoch 3/48\n",
            "\u001b[1m300/300\u001b[0m \u001b[32m━━━━━━━━━━━━━━━━━━━━\u001b[0m\u001b[37m\u001b[0m \u001b[1m2s\u001b[0m 4ms/step - accuracy: 0.6035 - loss: 0.6581 - val_accuracy: 0.5900 - val_loss: 0.6758\n",
            "Epoch 4/48\n",
            "\u001b[1m300/300\u001b[0m \u001b[32m━━━━━━━━━━━━━━━━━━━━\u001b[0m\u001b[37m\u001b[0m \u001b[1m1s\u001b[0m 4ms/step - accuracy: 0.6215 - loss: 0.6494 - val_accuracy: 0.5758 - val_loss: 0.6800\n",
            "Epoch 5/48\n",
            "\u001b[1m300/300\u001b[0m \u001b[32m━━━━━━━━━━━━━━━━━━━━\u001b[0m\u001b[37m\u001b[0m \u001b[1m1s\u001b[0m 4ms/step - accuracy: 0.6315 - loss: 0.6400 - val_accuracy: 0.5617 - val_loss: 0.6861\n",
            "Epoch 6/48\n",
            "\u001b[1m300/300\u001b[0m \u001b[32m━━━━━━━━━━━━━━━━━━━━\u001b[0m\u001b[37m\u001b[0m \u001b[1m1s\u001b[0m 2ms/step - accuracy: 0.6414 - loss: 0.6267 - val_accuracy: 0.5683 - val_loss: 0.6805\n",
            "Epoch 7/48\n",
            "\u001b[1m300/300\u001b[0m \u001b[32m━━━━━━━━━━━━━━━━━━━━\u001b[0m\u001b[37m\u001b[0m \u001b[1m1s\u001b[0m 2ms/step - accuracy: 0.6540 - loss: 0.6206 - val_accuracy: 0.5750 - val_loss: 0.6782\n",
            "Epoch 8/48\n",
            "\u001b[1m300/300\u001b[0m \u001b[32m━━━━━━━━━━━━━━━━━━━━\u001b[0m\u001b[37m\u001b[0m \u001b[1m1s\u001b[0m 2ms/step - accuracy: 0.6711 - loss: 0.6032 - val_accuracy: 0.5767 - val_loss: 0.6805\n",
            "Epoch 9/48\n",
            "\u001b[1m300/300\u001b[0m \u001b[32m━━━━━━━━━━━━━━━━━━━━\u001b[0m\u001b[37m\u001b[0m \u001b[1m1s\u001b[0m 2ms/step - accuracy: 0.6679 - loss: 0.6088 - val_accuracy: 0.5600 - val_loss: 0.6998\n",
            "Epoch 10/48\n",
            "\u001b[1m300/300\u001b[0m \u001b[32m━━━━━━━━━━━━━━━━━━━━\u001b[0m\u001b[37m\u001b[0m \u001b[1m1s\u001b[0m 2ms/step - accuracy: 0.6666 - loss: 0.6020 - val_accuracy: 0.5692 - val_loss: 0.6890\n",
            "Epoch 11/48\n",
            "\u001b[1m300/300\u001b[0m \u001b[32m━━━━━━━━━━━━━━━━━━━━\u001b[0m\u001b[37m\u001b[0m \u001b[1m1s\u001b[0m 3ms/step - accuracy: 0.6769 - loss: 0.5900 - val_accuracy: 0.5650 - val_loss: 0.6963\n",
            "Epoch 12/48\n",
            "\u001b[1m300/300\u001b[0m \u001b[32m━━━━━━━━━━━━━━━━━━━━\u001b[0m\u001b[37m\u001b[0m \u001b[1m1s\u001b[0m 3ms/step - accuracy: 0.6928 - loss: 0.5798 - val_accuracy: 0.5750 - val_loss: 0.7003\n",
            "Epoch 13/48\n",
            "\u001b[1m300/300\u001b[0m \u001b[32m━━━━━━━━━━━━━━━━━━━━\u001b[0m\u001b[37m\u001b[0m \u001b[1m1s\u001b[0m 3ms/step - accuracy: 0.7101 - loss: 0.5706 - val_accuracy: 0.5742 - val_loss: 0.7050\n"
          ]
        }
      ]
    },
    {
      "cell_type": "code",
      "source": [
        "# Predicting the test set results\n",
        "y_pred_lowAnn = Ann_model_low.predict(Xlow_Ann_test)\n",
        "y_pred_lowAnn = (y_pred_lowAnn > 0.5)\n",
        "y_pred_lowAnn"
      ],
      "metadata": {
        "colab": {
          "base_uri": "https://localhost:8080/"
        },
        "id": "JPfP-6XTIZjk",
        "outputId": "edb1080e-c85d-4710-a3e9-3d06e62a7915"
      },
      "id": "JPfP-6XTIZjk",
      "execution_count": 69,
      "outputs": [
        {
          "output_type": "stream",
          "name": "stdout",
          "text": [
            "\u001b[1m63/63\u001b[0m \u001b[32m━━━━━━━━━━━━━━━━━━━━\u001b[0m\u001b[37m\u001b[0m \u001b[1m0s\u001b[0m 2ms/step\n"
          ]
        },
        {
          "output_type": "execute_result",
          "data": {
            "text/plain": [
              "array([[ True],\n",
              "       [False],\n",
              "       [ True],\n",
              "       ...,\n",
              "       [ True],\n",
              "       [ True],\n",
              "       [ True]])"
            ]
          },
          "metadata": {},
          "execution_count": 69
        }
      ]
    },
    {
      "cell_type": "code",
      "source": [
        "# Making the Confusion Matrix\n",
        "cm_lowAnn = confusion_matrix(y_test, y_pred_lowAnn)\n",
        "print(cm_lowAnn)"
      ],
      "metadata": {
        "colab": {
          "base_uri": "https://localhost:8080/"
        },
        "id": "qwoWLMnTOy09",
        "outputId": "58504913-e5cc-481c-8264-9f9b7fb1764c"
      },
      "id": "qwoWLMnTOy09",
      "execution_count": 70,
      "outputs": [
        {
          "output_type": "stream",
          "name": "stdout",
          "text": [
            "[[391 601]\n",
            " [306 702]]\n"
          ]
        }
      ]
    },
    {
      "cell_type": "code",
      "source": [
        "# Evaluate the model on test data\n",
        "loss, accuracy = Ann_model_low.evaluate(Xlow_Ann_test, y_test)\n",
        "print(f'Test Accuracy: {accuracy:.4f}')"
      ],
      "metadata": {
        "colab": {
          "base_uri": "https://localhost:8080/"
        },
        "id": "-3vbqhlOPQw0",
        "outputId": "f766330b-d022-4e85-bcc6-260c3abc2b3a"
      },
      "id": "-3vbqhlOPQw0",
      "execution_count": 71,
      "outputs": [
        {
          "output_type": "stream",
          "name": "stdout",
          "text": [
            "\u001b[1m63/63\u001b[0m \u001b[32m━━━━━━━━━━━━━━━━━━━━\u001b[0m\u001b[37m\u001b[0m \u001b[1m0s\u001b[0m 2ms/step - accuracy: 0.5610 - loss: 0.6989\n",
            "Test Accuracy: 0.5465\n"
          ]
        }
      ]
    },
    {
      "cell_type": "markdown",
      "source": [
        "## Random Forest Classifier"
      ],
      "metadata": {
        "id": "wYyNm2L7PsvR"
      },
      "id": "wYyNm2L7PsvR"
    },
    {
      "cell_type": "code",
      "source": [
        "from sklearn.ensemble import RandomForestClassifier\n",
        "from sklearn.metrics import accuracy_score\n",
        "\n",
        "rf_low = RandomForestClassifier(n_estimators=100,random_state=42) # n_estimators is the number of trees in the forest\n",
        "rf_low.fit(X_low_train, y_train)\n",
        "y_pred_rf_low = rf_low.predict(X_low_test)\n",
        "\n",
        "acc_rf_low = accuracy_score(y_test, y_pred_rf_low)\n",
        "print(f\"Random Forest Accuracy: {acc_rf_low:.4f}\")"
      ],
      "metadata": {
        "id": "awDuzL3KPmML",
        "colab": {
          "base_uri": "https://localhost:8080/"
        },
        "outputId": "e7bf2af2-db3a-4d2c-a2ff-8787ad210d25"
      },
      "id": "awDuzL3KPmML",
      "execution_count": 72,
      "outputs": [
        {
          "output_type": "stream",
          "name": "stdout",
          "text": [
            "Random Forest Accuracy: 0.5965\n"
          ]
        }
      ]
    },
    {
      "cell_type": "code",
      "source": [
        "#Calculating the confusion matrix and the accuracy\n",
        "from sklearn.metrics import confusion_matrix\n",
        "cm_rf_low = confusion_matrix(y_test, y_pred_rf_low)\n",
        "print(cm_rf_low)"
      ],
      "metadata": {
        "colab": {
          "base_uri": "https://localhost:8080/"
        },
        "id": "PKQajSzEQsFI",
        "outputId": "65232132-78da-46f2-a0aa-1b17d12c0ac8"
      },
      "id": "PKQajSzEQsFI",
      "execution_count": 73,
      "outputs": [
        {
          "output_type": "stream",
          "name": "stdout",
          "text": [
            "[[481 511]\n",
            " [296 712]]\n"
          ]
        }
      ]
    },
    {
      "cell_type": "code",
      "source": [
        "# Build the conffusion matric plot\n",
        "import matplotlib.pyplot as plt\n",
        "from sklearn.metrics import ConfusionMatrixDisplay\n",
        "disp_rf_low = ConfusionMatrixDisplay(confusion_matrix=cm_rf_low, display_labels=rf_low.classes_)\n",
        "disp_rf_low.plot()\n",
        "plt.show()"
      ],
      "metadata": {
        "colab": {
          "base_uri": "https://localhost:8080/",
          "height": 449
        },
        "id": "LWi9YkgXSBgM",
        "outputId": "21f56f44-1376-40fe-f712-15a28793e925"
      },
      "id": "LWi9YkgXSBgM",
      "execution_count": 74,
      "outputs": [
        {
          "output_type": "display_data",
          "data": {
            "text/plain": [
              "<Figure size 640x480 with 2 Axes>"
            ],
            "image/png": "[encoded data removed]"
          },
          "metadata": {}
        }
      ]
    },
    {
      "cell_type": "code",
      "source": [
        "# Result table\n",
        "from sklearn.metrics import classification_report\n",
        "print(classification_report(y_test, y_pred_rf_low))"
      ],
      "metadata": {
        "colab": {
          "base_uri": "https://localhost:8080/"
        },
        "id": "7dCxed2ES_A4",
        "outputId": "01749faa-8605-4f3b-8d51-492dc51af46c"
      },
      "id": "7dCxed2ES_A4",
      "execution_count": 75,
      "outputs": [
        {
          "output_type": "stream",
          "name": "stdout",
          "text": [
            "              precision    recall  f1-score   support\n",
            "\n",
            "           0       0.62      0.48      0.54       992\n",
            "           1       0.58      0.71      0.64      1008\n",
            "\n",
            "    accuracy                           0.60      2000\n",
            "   macro avg       0.60      0.60      0.59      2000\n",
            "weighted avg       0.60      0.60      0.59      2000\n",
            "\n"
          ]
        }
      ]
    },
    {
      "cell_type": "markdown",
      "source": [
        "## Desicion Tree Classifier"
      ],
      "metadata": {
        "id": "EUVnOc6BS2Qj"
      },
      "id": "EUVnOc6BS2Qj"
    },
    {
      "cell_type": "code",
      "source": [
        "from sklearn.tree import DecisionTreeClassifier\n",
        "\n",
        "# Create and train the Decision Tree classifier\n",
        "tree_low = DecisionTreeClassifier(max_depth=5,random_state=42)  # max_depth limits the depth of the tree\n",
        "tree_low.fit(X_low_train, y_train)\n",
        "\n",
        "# Predict using the trained Decision Tree model\n",
        "y_pred_tree_low = tree_low.predict(X_low_test)\n",
        "acc_tree_low = accuracy_score(y_test, y_pred_tree_low)\n",
        "print(f\"Decision Tree Accuracy: {acc_tree_low:.4f}\")"
      ],
      "metadata": {
        "colab": {
          "base_uri": "https://localhost:8080/"
        },
        "id": "k6jgFmyeSXLQ",
        "outputId": "2910ed95-336f-47fc-b4ec-71961dac0dd6"
      },
      "id": "k6jgFmyeSXLQ",
      "execution_count": 76,
      "outputs": [
        {
          "output_type": "stream",
          "name": "stdout",
          "text": [
            "Decision Tree Accuracy: 0.5725\n"
          ]
        }
      ]
    },
    {
      "cell_type": "code",
      "source": [
        "#Calculating the confusion matrix and the accuracy\n",
        "cm_DT_low = confusion_matrix(y_test, y_pred_tree_low)\n",
        "print(cm_DT_low)"
      ],
      "metadata": {
        "colab": {
          "base_uri": "https://localhost:8080/"
        },
        "id": "YDwGtDFMUobz",
        "outputId": "185da047-2464-47e8-c672-859322fe7ff6"
      },
      "id": "YDwGtDFMUobz",
      "execution_count": 77,
      "outputs": [
        {
          "output_type": "stream",
          "name": "stdout",
          "text": [
            "[[518 474]\n",
            " [381 627]]\n"
          ]
        }
      ]
    },
    {
      "cell_type": "code",
      "source": [
        "# Display the confusion matrix for the Decision Tree\n",
        "disp_DT_low = ConfusionMatrixDisplay(confusion_matrix=cm_DT_low, display_labels=tree_low.classes_)\n",
        "disp_DT_low.plot()\n",
        "plt.show()"
      ],
      "metadata": {
        "colab": {
          "base_uri": "https://localhost:8080/",
          "height": 449
        },
        "id": "RAA5dOjDU4WD",
        "outputId": "f8b2f322-228c-4450-bc2a-352d05c440d7"
      },
      "id": "RAA5dOjDU4WD",
      "execution_count": 78,
      "outputs": [
        {
          "output_type": "display_data",
          "data": {
            "text/plain": [
              "<Figure size 640x480 with 2 Axes>"
            ],
            "image/png": "[encoded data removed]"
          },
          "metadata": {}
        }
      ]
    },
    {
      "cell_type": "code",
      "source": [
        "# Print the classification report for the Desicion tree model\n",
        "print(classification_report(y_test, y_pred_tree_low))"
      ],
      "metadata": {
        "colab": {
          "base_uri": "https://localhost:8080/"
        },
        "id": "BAj5frWRVAFf",
        "outputId": "fe6d5356-5795-4232-be19-b143ca4aea85"
      },
      "id": "BAj5frWRVAFf",
      "execution_count": 79,
      "outputs": [
        {
          "output_type": "stream",
          "name": "stdout",
          "text": [
            "              precision    recall  f1-score   support\n",
            "\n",
            "           0       0.58      0.52      0.55       992\n",
            "           1       0.57      0.62      0.59      1008\n",
            "\n",
            "    accuracy                           0.57      2000\n",
            "   macro avg       0.57      0.57      0.57      2000\n",
            "weighted avg       0.57      0.57      0.57      2000\n",
            "\n"
          ]
        }
      ]
    },
    {
      "cell_type": "markdown",
      "source": [
        "## KNN Classifier"
      ],
      "metadata": {
        "id": "R1WJsj1FV9i9"
      },
      "id": "R1WJsj1FV9i9"
    },
    {
      "cell_type": "code",
      "source": [
        "from sklearn.neighbors import KNeighborsClassifier\n",
        "from sklearn.preprocessing import StandardScaler\n",
        "\n",
        "# Scale the features\n",
        "scaler_knn_low = StandardScaler()\n",
        "\n",
        "# Fit the scaler on the training data\n",
        "X_train_knn_low = scaler_knn_low.fit_transform(X_low_train)\n",
        "\n",
        "# Transform the test data using the fitted scaler\n",
        "X_test_knn_low = scaler_knn_low.transform(X_low_test)"
      ],
      "metadata": {
        "id": "yi_WsuLcV86t"
      },
      "id": "yi_WsuLcV86t",
      "execution_count": 80,
      "outputs": []
    },
    {
      "cell_type": "code",
      "source": [
        "# Create and train the KNN classifier\n",
        "knn_low = KNeighborsClassifier(n_neighbors=15)  # n_neighbors is the number of neighbors to use for classification\n",
        "\n",
        "# Τraining the KNN classifier\n",
        "knn_low.fit(X_train_knn_low, y_train)\n",
        "\n",
        "# Model prediction and accuracy\n",
        "y_pred_knn_low = knn_low.predict(X_test_knn_low)\n",
        "acc_knn_low = accuracy_score(y_test, y_pred_knn_low)\n",
        "\n",
        "print(f\"KNN Accuracy: {acc_knn_low:.4f}\")"
      ],
      "metadata": {
        "colab": {
          "base_uri": "https://localhost:8080/"
        },
        "id": "va_jMNz3VDQT",
        "outputId": "e7a4367c-487a-4764-a71a-ad9214ff5808"
      },
      "id": "va_jMNz3VDQT",
      "execution_count": 81,
      "outputs": [
        {
          "output_type": "stream",
          "name": "stdout",
          "text": [
            "KNN Accuracy: 0.5640\n"
          ]
        }
      ]
    },
    {
      "cell_type": "code",
      "source": [
        "#Calculating the confusion matrix and the accuracy\n",
        "cm_knn_low = confusion_matrix(y_test, y_pred_knn_low)\n",
        "print(cm_knn_low)"
      ],
      "metadata": {
        "colab": {
          "base_uri": "https://localhost:8080/"
        },
        "id": "28zmUYAsXG3p",
        "outputId": "f39dafb5-4d34-48ce-de02-235f69a07ef3"
      },
      "id": "28zmUYAsXG3p",
      "execution_count": 82,
      "outputs": [
        {
          "output_type": "stream",
          "name": "stdout",
          "text": [
            "[[405 587]\n",
            " [285 723]]\n"
          ]
        }
      ]
    },
    {
      "cell_type": "code",
      "source": [
        "# Display the confusion matrix for the Decision Tree\n",
        "disp_knn_low = ConfusionMatrixDisplay(confusion_matrix=cm_knn_low, display_labels=knn_low.classes_)\n",
        "disp_knn_low.plot()\n",
        "plt.show()"
      ],
      "metadata": {
        "colab": {
          "base_uri": "https://localhost:8080/",
          "height": 449
        },
        "id": "Gx4UqV9gXLX6",
        "outputId": "e6d0cce6-6e5a-4a08-ef32-bb00fe5b1c7b"
      },
      "id": "Gx4UqV9gXLX6",
      "execution_count": 83,
      "outputs": [
        {
          "output_type": "display_data",
          "data": {
            "text/plain": [
              "<Figure size 640x480 with 2 Axes>"
            ],
            "image/png": "[encoded data removed]"
          },
          "metadata": {}
        }
      ]
    },
    {
      "cell_type": "code",
      "source": [
        "# Print the classification report for the KNN model\n",
        "print(classification_report(y_test, y_pred_knn_low))"
      ],
      "metadata": {
        "colab": {
          "base_uri": "https://localhost:8080/"
        },
        "id": "awVgDc4_XQJu",
        "outputId": "e1e09f94-c32a-49ee-cdc2-e8d589ce8390"
      },
      "id": "awVgDc4_XQJu",
      "execution_count": 84,
      "outputs": [
        {
          "output_type": "stream",
          "name": "stdout",
          "text": [
            "              precision    recall  f1-score   support\n",
            "\n",
            "           0       0.59      0.41      0.48       992\n",
            "           1       0.55      0.72      0.62      1008\n",
            "\n",
            "    accuracy                           0.56      2000\n",
            "   macro avg       0.57      0.56      0.55      2000\n",
            "weighted avg       0.57      0.56      0.55      2000\n",
            "\n"
          ]
        }
      ]
    },
    {
      "cell_type": "markdown",
      "source": [
        "## 2. High Level Quantities\n",
        "\n",
        "## Ann Classifier"
      ],
      "metadata": {
        "id": "5o4tBX0xYq1R"
      },
      "id": "5o4tBX0xYq1R"
    },
    {
      "cell_type": "code",
      "source": [
        "y_data = df.iloc[:,0]\n",
        "X_high = df.iloc[:, 22:29]\n",
        "X_high.head()"
      ],
      "metadata": {
        "colab": {
          "base_uri": "https://localhost:8080/",
          "height": 206
        },
        "id": "DVNk0ERVXS-W",
        "outputId": "9096a9f8-883f-422c-929e-9bf37ec4808c"
      },
      "id": "DVNk0ERVXS-W",
      "execution_count": 85,
      "outputs": [
        {
          "output_type": "execute_result",
          "data": {
            "text/plain": [
              "   1.35E+00  9.80E-01  9.78E-01  9.20E-01  7.22E-01  9.89E-01  8.77E-01\n",
              "0  0.859235  0.827233  0.995416  0.764766  0.520597  0.850413  0.929865\n",
              "1  0.887944  0.924601  0.987189  0.854094  0.385013  0.789912  0.724627\n",
              "2  0.936186  1.107217  0.983808  0.693327  0.562045  0.825387  0.846233\n",
              "3  1.181790  1.033701  0.993943  0.648399  0.936097  0.732592  0.661779\n",
              "4  4.883954  2.585889  0.992005  1.935075  1.144530  1.818775  2.094304"
            ],
            "text/html": [
              "\n",
              "  <div id=\"df-2de92b54-ac1f-4b24-baed-22bec9f3a891\" class=\"colab-df-container\">\n",
              "    <div>\n",
              "<style scoped>\n",
              "    .dataframe tbody tr th:only-of-type {\n",
              "        vertical-align: middle;\n",
              "    }\n",
              "\n",
              "    .dataframe tbody tr th {\n",
              "        vertical-align: top;\n",
              "    }\n",
              "\n",
              "    .dataframe thead th {\n",
              "        text-align: right;\n",
              "    }\n",
              "</style>\n",
              "<table border=\"1\" class=\"dataframe\">\n",
              "  <thead>\n",
              "    <tr style=\"text-align: right;\">\n",
              "      <th></th>\n",
              "      <th>1.35E+00</th>\n",
              "      <th>9.80E-01</th>\n",
              "      <th>9.78E-01</th>\n",
              "      <th>9.20E-01</th>\n",
              "      <th>7.22E-01</th>\n",
              "      <th>9.89E-01</th>\n",
              "      <th>8.77E-01</th>\n",
              "    </tr>\n",
              "  </thead>\n",
              "  <tbody>\n",
              "    <tr>\n",
              "      <th>0</th>\n",
              "      <td>0.859235</td>\n",
              "      <td>0.827233</td>\n",
              "      <td>0.995416</td>\n",
              "      <td>0.764766</td>\n",
              "      <td>0.520597</td>\n",
              "      <td>0.850413</td>\n",
              "      <td>0.929865</td>\n",
              "    </tr>\n",
              "    <tr>\n",
              "      <th>1</th>\n",
              "      <td>0.887944</td>\n",
              "      <td>0.924601</td>\n",
              "      <td>0.987189</td>\n",
              "      <td>0.854094</td>\n",
              "      <td>0.385013</td>\n",
              "      <td>0.789912</td>\n",
              "      <td>0.724627</td>\n",
              "    </tr>\n",
              "    <tr>\n",
              "      <th>2</th>\n",
              "      <td>0.936186</td>\n",
              "      <td>1.107217</td>\n",
              "      <td>0.983808</td>\n",
              "      <td>0.693327</td>\n",
              "      <td>0.562045</td>\n",
              "      <td>0.825387</td>\n",
              "      <td>0.846233</td>\n",
              "    </tr>\n",
              "    <tr>\n",
              "      <th>3</th>\n",
              "      <td>1.181790</td>\n",
              "      <td>1.033701</td>\n",
              "      <td>0.993943</td>\n",
              "      <td>0.648399</td>\n",
              "      <td>0.936097</td>\n",
              "      <td>0.732592</td>\n",
              "      <td>0.661779</td>\n",
              "    </tr>\n",
              "    <tr>\n",
              "      <th>4</th>\n",
              "      <td>4.883954</td>\n",
              "      <td>2.585889</td>\n",
              "      <td>0.992005</td>\n",
              "      <td>1.935075</td>\n",
              "      <td>1.144530</td>\n",
              "      <td>1.818775</td>\n",
              "      <td>2.094304</td>\n",
              "    </tr>\n",
              "  </tbody>\n",
              "</table>\n",
              "</div>\n",
              "    <div class=\"colab-df-buttons\">\n",
              "\n",
              "  <div class=\"colab-df-container\">\n",
              "    <button class=\"colab-df-convert\" onclick=\"convertToInteractive('df-2de92b54-ac1f-4b24-baed-22bec9f3a891')\"\n",
              "            title=\"Convert this dataframe to an interactive table.\"\n",
              "            style=\"display:none;\">\n",
              "\n",
              "  <svg xmlns=\"http://www.w3.org/2000/svg\" height=\"24px\" viewBox=\"0 -960 960 960\">\n",
              "    <path d=\"M120-120v-720h720v720H120Zm60-500h600v-160H180v160Zm220 220h160v-160H400v160Zm0 220h160v-160H400v160ZM180-400h160v-160H180v160Zm440 0h160v-160H620v160ZM180-180h160v-160H180v160Zm440 0h160v-160H620v160Z\"/>\n",
              "  </svg>\n",
              "    </button>\n",
              "\n",
              "  <style>\n",
              "    .colab-df-container {\n",
              "      display:flex;\n",
              "      gap: 12px;\n",
              "    }\n",
              "\n",
              "    .colab-df-convert {\n",
              "      background-color: #E8F0FE;\n",
              "      border: none;\n",
              "      border-radius: 50%;\n",
              "      cursor: pointer;\n",
              "      display: none;\n",
              "      fill: #1967D2;\n",
              "      height: 32px;\n",
              "      padding: 0 0 0 0;\n",
              "      width: 32px;\n",
              "    }\n",
              "\n",
              "    .colab-df-convert:hover {\n",
              "      background-color: #E2EBFA;\n",
              "      box-shadow: 0px 1px 2px rgba(60, 64, 67, 0.3), 0px 1px 3px 1px rgba(60, 64, 67, 0.15);\n",
              "      fill: #174EA6;\n",
              "    }\n",
              "\n",
              "    .colab-df-buttons div {\n",
              "      margin-bottom: 4px;\n",
              "    }\n",
              "\n",
              "    [theme=dark] .colab-df-convert {\n",
              "      background-color: #3B4455;\n",
              "      fill: #D2E3FC;\n",
              "    }\n",
              "\n",
              "    [theme=dark] .colab-df-convert:hover {\n",
              "      background-color: #434B5C;\n",
              "      box-shadow: 0px 1px 3px 1px rgba(0, 0, 0, 0.15);\n",
              "      filter: drop-shadow(0px 1px 2px rgba(0, 0, 0, 0.3));\n",
              "      fill: #FFFFFF;\n",
              "    }\n",
              "  </style>\n",
              "\n",
              "    <script>\n",
              "      const buttonEl =\n",
              "        document.querySelector('#df-2de92b54-ac1f-4b24-baed-22bec9f3a891 button.colab-df-convert');\n",
              "      buttonEl.style.display =\n",
              "        google.colab.kernel.accessAllowed ? 'block' : 'none';\n",
              "\n",
              "      async function convertToInteractive(key) {\n",
              "        const element = document.querySelector('#df-2de92b54-ac1f-4b24-baed-22bec9f3a891');\n",
              "        const dataTable =\n",
              "          await google.colab.kernel.invokeFunction('convertToInteractive',\n",
              "                                                    [key], {});\n",
              "        if (!dataTable) return;\n",
              "\n",
              "        const docLinkHtml = 'Like what you see? Visit the ' +\n",
              "          '<a target=\"_blank\" href=https://colab.research.google.com/notebooks/data_table.ipynb>data table notebook</a>'\n",
              "          + ' to learn more about interactive tables.';\n",
              "        element.innerHTML = '';\n",
              "        dataTable['output_type'] = 'display_data';\n",
              "        await google.colab.output.renderOutput(dataTable, element);\n",
              "        const docLink = document.createElement('div');\n",
              "        docLink.innerHTML = docLinkHtml;\n",
              "        element.appendChild(docLink);\n",
              "      }\n",
              "    </script>\n",
              "  </div>\n",
              "\n",
              "\n",
              "    <div id=\"df-9156c003-0701-457a-be8f-144739fe21ca\">\n",
              "      <button class=\"colab-df-quickchart\" onclick=\"quickchart('df-9156c003-0701-457a-be8f-144739fe21ca')\"\n",
              "                title=\"Suggest charts\"\n",
              "                style=\"display:none;\">\n",
              "\n",
              "<svg xmlns=\"http://www.w3.org/2000/svg\" height=\"24px\"viewBox=\"0 0 24 24\"\n",
              "     width=\"24px\">\n",
              "    <g>\n",
              "        <path d=\"M19 3H5c-1.1 0-2 .9-2 2v14c0 1.1.9 2 2 2h14c1.1 0 2-.9 2-2V5c0-1.1-.9-2-2-2zM9 17H7v-7h2v7zm4 0h-2V7h2v10zm4 0h-2v-4h2v4z\"/>\n",
              "    </g>\n",
              "</svg>\n",
              "      </button>\n",
              "\n",
              "<style>\n",
              "  .colab-df-quickchart {\n",
              "      --bg-color: #E8F0FE;\n",
              "      --fill-color: #1967D2;\n",
              "      --hover-bg-color: #E2EBFA;\n",
              "      --hover-fill-color: #174EA6;\n",
              "      --disabled-fill-color: #AAA;\n",
              "      --disabled-bg-color: #DDD;\n",
              "  }\n",
              "\n",
              "  [theme=dark] .colab-df-quickchart {\n",
              "      --bg-color: #3B4455;\n",
              "      --fill-color: #D2E3FC;\n",
              "      --hover-bg-color: #434B5C;\n",
              "      --hover-fill-color: #FFFFFF;\n",
              "      --disabled-bg-color: #3B4455;\n",
              "      --disabled-fill-color: #666;\n",
              "  }\n",
              "\n",
              "  .colab-df-quickchart {\n",
              "    background-color: var(--bg-color);\n",
              "    border: none;\n",
              "    border-radius: 50%;\n",
              "    cursor: pointer;\n",
              "    display: none;\n",
              "    fill: var(--fill-color);\n",
              "    height: 32px;\n",
              "    padding: 0;\n",
              "    width: 32px;\n",
              "  }\n",
              "\n",
              "  .colab-df-quickchart:hover {\n",
              "    background-color: var(--hover-bg-color);\n",
              "    box-shadow: 0 1px 2px rgba(60, 64, 67, 0.3), 0 1px 3px 1px rgba(60, 64, 67, 0.15);\n",
              "    fill: var(--button-hover-fill-color);\n",
              "  }\n",
              "\n",
              "  .colab-df-quickchart-complete:disabled,\n",
              "  .colab-df-quickchart-complete:disabled:hover {\n",
              "    background-color: var(--disabled-bg-color);\n",
              "    fill: var(--disabled-fill-color);\n",
              "    box-shadow: none;\n",
              "  }\n",
              "\n",
              "  .colab-df-spinner {\n",
              "    border: 2px solid var(--fill-color);\n",
              "    border-color: transparent;\n",
              "    border-bottom-color: var(--fill-color);\n",
              "    animation:\n",
              "      spin 1s steps(1) infinite;\n",
              "  }\n",
              "\n",
              "  @keyframes spin {\n",
              "    0% {\n",
              "      border-color: transparent;\n",
              "      border-bottom-color: var(--fill-color);\n",
              "      border-left-color: var(--fill-color);\n",
              "    }\n",
              "    20% {\n",
              "      border-color: transparent;\n",
              "      border-left-color: var(--fill-color);\n",
              "      border-top-color: var(--fill-color);\n",
              "    }\n",
              "    30% {\n",
              "      border-color: transparent;\n",
              "      border-left-color: var(--fill-color);\n",
              "      border-top-color: var(--fill-color);\n",
              "      border-right-color: var(--fill-color);\n",
              "    }\n",
              "    40% {\n",
              "      border-color: transparent;\n",
              "      border-right-color: var(--fill-color);\n",
              "      border-top-color: var(--fill-color);\n",
              "    }\n",
              "    60% {\n",
              "      border-color: transparent;\n",
              "      border-right-color: var(--fill-color);\n",
              "    }\n",
              "    80% {\n",
              "      border-color: transparent;\n",
              "      border-right-color: var(--fill-color);\n",
              "      border-bottom-color: var(--fill-color);\n",
              "    }\n",
              "    90% {\n",
              "      border-color: transparent;\n",
              "      border-bottom-color: var(--fill-color);\n",
              "    }\n",
              "  }\n",
              "</style>\n",
              "\n",
              "      <script>\n",
              "        async function quickchart(key) {\n",
              "          const quickchartButtonEl =\n",
              "            document.querySelector('#' + key + ' button');\n",
              "          quickchartButtonEl.disabled = true;  // To prevent multiple clicks.\n",
              "          quickchartButtonEl.classList.add('colab-df-spinner');\n",
              "          try {\n",
              "            const charts = await google.colab.kernel.invokeFunction(\n",
              "                'suggestCharts', [key], {});\n",
              "          } catch (error) {\n",
              "            console.error('Error during call to suggestCharts:', error);\n",
              "          }\n",
              "          quickchartButtonEl.classList.remove('colab-df-spinner');\n",
              "          quickchartButtonEl.classList.add('colab-df-quickchart-complete');\n",
              "        }\n",
              "        (() => {\n",
              "          let quickchartButtonEl =\n",
              "            document.querySelector('#df-9156c003-0701-457a-be8f-144739fe21ca button');\n",
              "          quickchartButtonEl.style.display =\n",
              "            google.colab.kernel.accessAllowed ? 'block' : 'none';\n",
              "        })();\n",
              "      </script>\n",
              "    </div>\n",
              "\n",
              "    </div>\n",
              "  </div>\n"
            ],
            "application/vnd.google.colaboratory.intrinsic+json": {
              "type": "dataframe",
              "variable_name": "X_high",
              "summary": "{\n  \"name\": \"X_high\",\n  \"rows\": 8000,\n  \"fields\": [\n    {\n      \"column\": \"1.35E+00\",\n      \"properties\": {\n        \"dtype\": \"number\",\n        \"std\": 0.6716940835285276,\n        \"min\": 0.110875376,\n        \"max\": 13.95175838,\n        \"num_unique_values\": 7942,\n        \"samples\": [\n          0.96803087,\n          0.80999589,\n          0.634679496\n        ],\n        \"semantic_type\": \"\",\n        \"description\": \"\"\n      }\n    },\n    {\n      \"column\": \"9.80E-01\",\n      \"properties\": {\n        \"dtype\": \"number\",\n        \"std\": 0.3764533336256747,\n        \"min\": 0.390410006,\n        \"max\": 7.499821663,\n        \"num_unique_values\": 7708,\n        \"samples\": [\n          0.99458909,\n          0.949243844,\n          0.85929364\n        ],\n        \"semantic_type\": \"\",\n        \"description\": \"\"\n      }\n    },\n    {\n      \"column\": \"9.78E-01\",\n      \"properties\": {\n        \"dtype\": \"number\",\n        \"std\": 0.165316771994714,\n        \"min\": 0.266787767,\n        \"max\": 3.256450176,\n        \"num_unique_values\": 7019,\n        \"samples\": [\n          1.147570848,\n          1.048407316,\n          1.136117816\n        ],\n        \"semantic_type\": \"\",\n        \"description\": \"\"\n      }\n    },\n    {\n      \"column\": \"9.20E-01\",\n      \"properties\": {\n        \"dtype\": \"number\",\n        \"std\": 0.39515152478830795,\n        \"min\": 0.38441056,\n        \"max\": 4.810872078,\n        \"num_unique_values\": 7826,\n        \"samples\": [\n          1.262157679,\n          2.018311977,\n          1.108767986\n        ],\n        \"semantic_type\": \"\",\n        \"description\": \"\"\n      }\n    },\n    {\n      \"column\": \"7.22E-01\",\n      \"properties\": {\n        \"dtype\": \"number\",\n        \"std\": 0.5077677866210816,\n        \"min\": 0.080546379,\n        \"max\": 6.384413719,\n        \"num_unique_values\": 7887,\n        \"samples\": [\n          1.610058427,\n          0.290229559,\n          0.567426622\n        ],\n        \"semantic_type\": \"\",\n        \"description\": \"\"\n      }\n    },\n    {\n      \"column\": \"9.89E-01\",\n      \"properties\": {\n        \"dtype\": \"number\",\n        \"std\": 0.36147265042617993,\n        \"min\": 0.385025799,\n        \"max\": 4.442216873,\n        \"num_unique_values\": 7869,\n        \"samples\": [\n          0.768665552,\n          0.794548512,\n          0.890522361\n        ],\n        \"semantic_type\": \"\",\n        \"description\": \"\"\n      }\n    },\n    {\n      \"column\": \"8.77E-01\",\n      \"properties\": {\n        \"dtype\": \"number\",\n        \"std\": 0.3109397477676391,\n        \"min\": 0.432279825,\n        \"max\": 3.845928431,\n        \"num_unique_values\": 7905,\n        \"samples\": [\n          0.672945559,\n          0.751506209,\n          0.752874851\n        ],\n        \"semantic_type\": \"\",\n        \"description\": \"\"\n      }\n    }\n  ]\n}"
            }
          },
          "metadata": {},
          "execution_count": 85
        }
      ]
    },
    {
      "cell_type": "code",
      "source": [
        "# Split the data into training and testing sets\n",
        "from sklearn.model_selection import train_test_split\n",
        "X_high_train, X_high_test, y_train, y_test = train_test_split(X_high, y_data, test_size = 0.25, random_state = 42)"
      ],
      "metadata": {
        "id": "A5_s0VW4eRVC"
      },
      "id": "A5_s0VW4eRVC",
      "execution_count": 86,
      "outputs": []
    },
    {
      "cell_type": "code",
      "source": [
        "# Feture scaling\n",
        "from sklearn.preprocessing import StandardScaler\n",
        "scaler_highAnn = StandardScaler()\n",
        "Xhigh_Ann_train = scaler_highAnn.fit_transform(X_high_train)\n",
        "Xhigh_Ann_test = scaler_highAnn.transform(X_high_test)"
      ],
      "metadata": {
        "id": "B-lcs1jjefO5"
      },
      "id": "B-lcs1jjefO5",
      "execution_count": 87,
      "outputs": []
    },
    {
      "cell_type": "code",
      "source": [
        "import tensorflow as tf\n",
        "from keras.models import Sequential\n",
        "from keras.layers import Dense, Input\n",
        "\n",
        "# Building the ANN model\n",
        "Ann_model_high = Sequential()\n",
        "Ann_model_high.add(Input(shape=(7,)))\n",
        "Ann_model_high.add(Dense(64, activation='relu'))\n",
        "Ann_model_high.add(Dense(32, activation='relu'))\n",
        "Ann_model_high.add(Dense(1, activation='sigmoid'))\n",
        "\n",
        "# Summary\n",
        "Ann_model_high.summary()"
      ],
      "metadata": {
        "colab": {
          "base_uri": "https://localhost:8080/",
          "height": 225
        },
        "id": "C9_gMuJQeoVi",
        "outputId": "f142a3db-8a39-43c9-de0c-6ef1e762bda5"
      },
      "id": "C9_gMuJQeoVi",
      "execution_count": 88,
      "outputs": [
        {
          "output_type": "display_data",
          "data": {
            "text/plain": [
              "\u001b[1mModel: \"sequential_5\"\u001b[0m\n"
            ],
            "text/html": [
              "<pre style=\"white-space:pre;overflow-x:auto;line-height:normal;font-family:Menlo,'DejaVu Sans Mono',consolas,'Courier New',monospace\"><span style=\"font-weight: bold\">Model: \"sequential_5\"</span>\n",
              "</pre>\n"
            ]
          },
          "metadata": {}
        },
        {
          "output_type": "display_data",
          "data": {
            "text/plain": [
              "┏━━━━━━━━━━━━━━━━━━━━━━━━━━━━━━━━━┳━━━━━━━━━━━━━━━━━━━━━━━━┳━━━━━━━━━━━━━━━┓\n",
              "┃\u001b[1m \u001b[0m\u001b[1mLayer (type)                   \u001b[0m\u001b[1m \u001b[0m┃\u001b[1m \u001b[0m\u001b[1mOutput Shape          \u001b[0m\u001b[1m \u001b[0m┃\u001b[1m \u001b[0m\u001b[1m      Param #\u001b[0m\u001b[1m \u001b[0m┃\n",
              "┡━━━━━━━━━━━━━━━━━━━━━━━━━━━━━━━━━╇━━━━━━━━━━━━━━━━━━━━━━━━╇━━━━━━━━━━━━━━━┩\n",
              "│ dense_15 (\u001b[38;5;33mDense\u001b[0m)                │ (\u001b[38;5;45mNone\u001b[0m, \u001b[38;5;34m64\u001b[0m)             │           \u001b[38;5;34m512\u001b[0m │\n",
              "├─────────────────────────────────┼────────────────────────┼───────────────┤\n",
              "│ dense_16 (\u001b[38;5;33mDense\u001b[0m)                │ (\u001b[38;5;45mNone\u001b[0m, \u001b[38;5;34m32\u001b[0m)             │         \u001b[38;5;34m2,080\u001b[0m │\n",
              "├─────────────────────────────────┼────────────────────────┼───────────────┤\n",
              "│ dense_17 (\u001b[38;5;33mDense\u001b[0m)                │ (\u001b[38;5;45mNone\u001b[0m, \u001b[38;5;34m1\u001b[0m)              │            \u001b[38;5;34m33\u001b[0m │\n",
              "└─────────────────────────────────┴────────────────────────┴───────────────┘\n"
            ],
            "text/html": [
              "<pre style=\"white-space:pre;overflow-x:auto;line-height:normal;font-family:Menlo,'DejaVu Sans Mono',consolas,'Courier New',monospace\">┏━━━━━━━━━━━━━━━━━━━━━━━━━━━━━━━━━┳━━━━━━━━━━━━━━━━━━━━━━━━┳━━━━━━━━━━━━━━━┓\n",
              "┃<span style=\"font-weight: bold\"> Layer (type)                    </span>┃<span style=\"font-weight: bold\"> Output Shape           </span>┃<span style=\"font-weight: bold\">       Param # </span>┃\n",
              "┡━━━━━━━━━━━━━━━━━━━━━━━━━━━━━━━━━╇━━━━━━━━━━━━━━━━━━━━━━━━╇━━━━━━━━━━━━━━━┩\n",
              "│ dense_15 (<span style=\"color: #0087ff; text-decoration-color: #0087ff\">Dense</span>)                │ (<span style=\"color: #00d7ff; text-decoration-color: #00d7ff\">None</span>, <span style=\"color: #00af00; text-decoration-color: #00af00\">64</span>)             │           <span style=\"color: #00af00; text-decoration-color: #00af00\">512</span> │\n",
              "├─────────────────────────────────┼────────────────────────┼───────────────┤\n",
              "│ dense_16 (<span style=\"color: #0087ff; text-decoration-color: #0087ff\">Dense</span>)                │ (<span style=\"color: #00d7ff; text-decoration-color: #00d7ff\">None</span>, <span style=\"color: #00af00; text-decoration-color: #00af00\">32</span>)             │         <span style=\"color: #00af00; text-decoration-color: #00af00\">2,080</span> │\n",
              "├─────────────────────────────────┼────────────────────────┼───────────────┤\n",
              "│ dense_17 (<span style=\"color: #0087ff; text-decoration-color: #0087ff\">Dense</span>)                │ (<span style=\"color: #00d7ff; text-decoration-color: #00d7ff\">None</span>, <span style=\"color: #00af00; text-decoration-color: #00af00\">1</span>)              │            <span style=\"color: #00af00; text-decoration-color: #00af00\">33</span> │\n",
              "└─────────────────────────────────┴────────────────────────┴───────────────┘\n",
              "</pre>\n"
            ]
          },
          "metadata": {}
        },
        {
          "output_type": "display_data",
          "data": {
            "text/plain": [
              "\u001b[1m Total params: \u001b[0m\u001b[38;5;34m2,625\u001b[0m (10.25 KB)\n"
            ],
            "text/html": [
              "<pre style=\"white-space:pre;overflow-x:auto;line-height:normal;font-family:Menlo,'DejaVu Sans Mono',consolas,'Courier New',monospace\"><span style=\"font-weight: bold\"> Total params: </span><span style=\"color: #00af00; text-decoration-color: #00af00\">2,625</span> (10.25 KB)\n",
              "</pre>\n"
            ]
          },
          "metadata": {}
        },
        {
          "output_type": "display_data",
          "data": {
            "text/plain": [
              "\u001b[1m Trainable params: \u001b[0m\u001b[38;5;34m2,625\u001b[0m (10.25 KB)\n"
            ],
            "text/html": [
              "<pre style=\"white-space:pre;overflow-x:auto;line-height:normal;font-family:Menlo,'DejaVu Sans Mono',consolas,'Courier New',monospace\"><span style=\"font-weight: bold\"> Trainable params: </span><span style=\"color: #00af00; text-decoration-color: #00af00\">2,625</span> (10.25 KB)\n",
              "</pre>\n"
            ]
          },
          "metadata": {}
        },
        {
          "output_type": "display_data",
          "data": {
            "text/plain": [
              "\u001b[1m Non-trainable params: \u001b[0m\u001b[38;5;34m0\u001b[0m (0.00 B)\n"
            ],
            "text/html": [
              "<pre style=\"white-space:pre;overflow-x:auto;line-height:normal;font-family:Menlo,'DejaVu Sans Mono',consolas,'Courier New',monospace\"><span style=\"font-weight: bold\"> Non-trainable params: </span><span style=\"color: #00af00; text-decoration-color: #00af00\">0</span> (0.00 B)\n",
              "</pre>\n"
            ]
          },
          "metadata": {}
        }
      ]
    },
    {
      "cell_type": "code",
      "source": [
        "# Training the dataset\n",
        "from tensorflow.keras.callbacks import EarlyStopping\n",
        "\n",
        "early_stop = EarlyStopping(monitor='val_loss', patience=10, restore_best_weights=True)\n",
        "\n",
        "Ann_model_high.compile(loss='binary_crossentropy', optimizer='adam', metrics=['accuracy'])\n",
        "\n",
        "history_high = Ann_model_high.fit(Xhigh_Ann_train, y_train, epochs=48, batch_size=16, validation_split=0.2, callbacks=[early_stop])"
      ],
      "metadata": {
        "colab": {
          "base_uri": "https://localhost:8080/"
        },
        "id": "HwOrjVLQfG99",
        "outputId": "8d58ffe4-3280-4b73-b992-6f633fa4e3ad"
      },
      "id": "HwOrjVLQfG99",
      "execution_count": 89,
      "outputs": [
        {
          "output_type": "stream",
          "name": "stdout",
          "text": [
            "Epoch 1/48\n",
            "\u001b[1m300/300\u001b[0m \u001b[32m━━━━━━━━━━━━━━━━━━━━\u001b[0m\u001b[37m\u001b[0m \u001b[1m2s\u001b[0m 3ms/step - accuracy: 0.5835 - loss: 0.6697 - val_accuracy: 0.6467 - val_loss: 0.6285\n",
            "Epoch 2/48\n",
            "\u001b[1m300/300\u001b[0m \u001b[32m━━━━━━━━━━━━━━━━━━━━\u001b[0m\u001b[37m\u001b[0m \u001b[1m1s\u001b[0m 2ms/step - accuracy: 0.6523 - loss: 0.6240 - val_accuracy: 0.6725 - val_loss: 0.6027\n",
            "Epoch 3/48\n",
            "\u001b[1m300/300\u001b[0m \u001b[32m━━━━━━━━━━━━━━━━━━━━\u001b[0m\u001b[37m\u001b[0m \u001b[1m1s\u001b[0m 2ms/step - accuracy: 0.6770 - loss: 0.5989 - val_accuracy: 0.6633 - val_loss: 0.5990\n",
            "Epoch 4/48\n",
            "\u001b[1m300/300\u001b[0m \u001b[32m━━━━━━━━━━━━━━━━━━━━\u001b[0m\u001b[37m\u001b[0m \u001b[1m1s\u001b[0m 2ms/step - accuracy: 0.6755 - loss: 0.5952 - val_accuracy: 0.6917 - val_loss: 0.5841\n",
            "Epoch 5/48\n",
            "\u001b[1m300/300\u001b[0m \u001b[32m━━━━━━━━━━━━━━━━━━━━\u001b[0m\u001b[37m\u001b[0m \u001b[1m1s\u001b[0m 2ms/step - accuracy: 0.6880 - loss: 0.5764 - val_accuracy: 0.6925 - val_loss: 0.5847\n",
            "Epoch 6/48\n",
            "\u001b[1m300/300\u001b[0m \u001b[32m━━━━━━━━━━━━━━━━━━━━\u001b[0m\u001b[37m\u001b[0m \u001b[1m1s\u001b[0m 2ms/step - accuracy: 0.6890 - loss: 0.5818 - val_accuracy: 0.6883 - val_loss: 0.5820\n",
            "Epoch 7/48\n",
            "\u001b[1m300/300\u001b[0m \u001b[32m━━━━━━━━━━━━━━━━━━━━\u001b[0m\u001b[37m\u001b[0m \u001b[1m1s\u001b[0m 3ms/step - accuracy: 0.6822 - loss: 0.5825 - val_accuracy: 0.6867 - val_loss: 0.5851\n",
            "Epoch 8/48\n",
            "\u001b[1m300/300\u001b[0m \u001b[32m━━━━━━━━━━━━━━━━━━━━\u001b[0m\u001b[37m\u001b[0m \u001b[1m2s\u001b[0m 4ms/step - accuracy: 0.6934 - loss: 0.5840 - val_accuracy: 0.6908 - val_loss: 0.5704\n",
            "Epoch 9/48\n",
            "\u001b[1m300/300\u001b[0m \u001b[32m━━━━━━━━━━━━━━━━━━━━\u001b[0m\u001b[37m\u001b[0m \u001b[1m1s\u001b[0m 4ms/step - accuracy: 0.6866 - loss: 0.5774 - val_accuracy: 0.6917 - val_loss: 0.5712\n",
            "Epoch 10/48\n",
            "\u001b[1m300/300\u001b[0m \u001b[32m━━━━━━━━━━━━━━━━━━━━\u001b[0m\u001b[37m\u001b[0m \u001b[1m1s\u001b[0m 3ms/step - accuracy: 0.6964 - loss: 0.5675 - val_accuracy: 0.7000 - val_loss: 0.5727\n",
            "Epoch 11/48\n",
            "\u001b[1m300/300\u001b[0m \u001b[32m━━━━━━━━━━━━━━━━━━━━\u001b[0m\u001b[37m\u001b[0m \u001b[1m1s\u001b[0m 2ms/step - accuracy: 0.6949 - loss: 0.5637 - val_accuracy: 0.6900 - val_loss: 0.5756\n",
            "Epoch 12/48\n",
            "\u001b[1m300/300\u001b[0m \u001b[32m━━━━━━━━━━━━━━━━━━━━\u001b[0m\u001b[37m\u001b[0m \u001b[1m1s\u001b[0m 2ms/step - accuracy: 0.7109 - loss: 0.5541 - val_accuracy: 0.7017 - val_loss: 0.5679\n",
            "Epoch 13/48\n",
            "\u001b[1m300/300\u001b[0m \u001b[32m━━━━━━━━━━━━━━━━━━━━\u001b[0m\u001b[37m\u001b[0m \u001b[1m1s\u001b[0m 2ms/step - accuracy: 0.7005 - loss: 0.5559 - val_accuracy: 0.6992 - val_loss: 0.5669\n",
            "Epoch 14/48\n",
            "\u001b[1m300/300\u001b[0m \u001b[32m━━━━━━━━━━━━━━━━━━━━\u001b[0m\u001b[37m\u001b[0m \u001b[1m1s\u001b[0m 2ms/step - accuracy: 0.7061 - loss: 0.5479 - val_accuracy: 0.7000 - val_loss: 0.5743\n",
            "Epoch 15/48\n",
            "\u001b[1m300/300\u001b[0m \u001b[32m━━━━━━━━━━━━━━━━━━━━\u001b[0m\u001b[37m\u001b[0m \u001b[1m1s\u001b[0m 2ms/step - accuracy: 0.7078 - loss: 0.5478 - val_accuracy: 0.7000 - val_loss: 0.5679\n",
            "Epoch 16/48\n",
            "\u001b[1m300/300\u001b[0m \u001b[32m━━━━━━━━━━━━━━━━━━━━\u001b[0m\u001b[37m\u001b[0m \u001b[1m1s\u001b[0m 2ms/step - accuracy: 0.7058 - loss: 0.5519 - val_accuracy: 0.7000 - val_loss: 0.5735\n",
            "Epoch 17/48\n",
            "\u001b[1m300/300\u001b[0m \u001b[32m━━━━━━━━━━━━━━━━━━━━\u001b[0m\u001b[37m\u001b[0m \u001b[1m1s\u001b[0m 2ms/step - accuracy: 0.7080 - loss: 0.5503 - val_accuracy: 0.6992 - val_loss: 0.5715\n",
            "Epoch 18/48\n",
            "\u001b[1m300/300\u001b[0m \u001b[32m━━━━━━━━━━━━━━━━━━━━\u001b[0m\u001b[37m\u001b[0m \u001b[1m1s\u001b[0m 2ms/step - accuracy: 0.7185 - loss: 0.5385 - val_accuracy: 0.6933 - val_loss: 0.5757\n",
            "Epoch 19/48\n",
            "\u001b[1m300/300\u001b[0m \u001b[32m━━━━━━━━━━━━━━━━━━━━\u001b[0m\u001b[37m\u001b[0m \u001b[1m2s\u001b[0m 4ms/step - accuracy: 0.6959 - loss: 0.5500 - val_accuracy: 0.6908 - val_loss: 0.5759\n",
            "Epoch 20/48\n",
            "\u001b[1m300/300\u001b[0m \u001b[32m━━━━━━━━━━━━━━━━━━━━\u001b[0m\u001b[37m\u001b[0m \u001b[1m1s\u001b[0m 4ms/step - accuracy: 0.7156 - loss: 0.5395 - val_accuracy: 0.7017 - val_loss: 0.5708\n",
            "Epoch 21/48\n",
            "\u001b[1m300/300\u001b[0m \u001b[32m━━━━━━━━━━━━━━━━━━━━\u001b[0m\u001b[37m\u001b[0m \u001b[1m1s\u001b[0m 4ms/step - accuracy: 0.7183 - loss: 0.5353 - val_accuracy: 0.6783 - val_loss: 0.5859\n",
            "Epoch 22/48\n",
            "\u001b[1m300/300\u001b[0m \u001b[32m━━━━━━━━━━━━━━━━━━━━\u001b[0m\u001b[37m\u001b[0m \u001b[1m1s\u001b[0m 2ms/step - accuracy: 0.7185 - loss: 0.5421 - val_accuracy: 0.6958 - val_loss: 0.5674\n",
            "Epoch 23/48\n",
            "\u001b[1m300/300\u001b[0m \u001b[32m━━━━━━━━━━━━━━━━━━━━\u001b[0m\u001b[37m\u001b[0m \u001b[1m1s\u001b[0m 3ms/step - accuracy: 0.7148 - loss: 0.5415 - val_accuracy: 0.7075 - val_loss: 0.5766\n"
          ]
        }
      ]
    },
    {
      "cell_type": "code",
      "source": [
        "# Predicting the test set results\n",
        "y_pred_highAnn = Ann_model_high.predict(Xhigh_Ann_test)\n",
        "y_pred_highAnn = (y_pred_highAnn > 0.5)\n",
        "y_pred_highAnn"
      ],
      "metadata": {
        "colab": {
          "base_uri": "https://localhost:8080/"
        },
        "id": "Zp43z7y9fufG",
        "outputId": "bfe33f0f-fa4a-4100-f901-3fd31bee6bc0"
      },
      "id": "Zp43z7y9fufG",
      "execution_count": 90,
      "outputs": [
        {
          "output_type": "stream",
          "name": "stdout",
          "text": [
            "\u001b[1m63/63\u001b[0m \u001b[32m━━━━━━━━━━━━━━━━━━━━\u001b[0m\u001b[37m\u001b[0m \u001b[1m0s\u001b[0m 2ms/step\n"
          ]
        },
        {
          "output_type": "execute_result",
          "data": {
            "text/plain": [
              "array([[False],\n",
              "       [ True],\n",
              "       [ True],\n",
              "       ...,\n",
              "       [False],\n",
              "       [False],\n",
              "       [ True]])"
            ]
          },
          "metadata": {},
          "execution_count": 90
        }
      ]
    },
    {
      "cell_type": "code",
      "source": [
        "# Making the Confusion Matrix\n",
        "cm_highAnn = confusion_matrix(y_test, y_pred_highAnn)\n",
        "print(cm_highAnn)"
      ],
      "metadata": {
        "colab": {
          "base_uri": "https://localhost:8080/"
        },
        "id": "LdWtRScIgca1",
        "outputId": "37b1f10f-c05b-4974-8425-9a54a5dc8824"
      },
      "id": "LdWtRScIgca1",
      "execution_count": 91,
      "outputs": [
        {
          "output_type": "stream",
          "name": "stdout",
          "text": [
            "[[662 330]\n",
            " [278 730]]\n"
          ]
        }
      ]
    },
    {
      "cell_type": "code",
      "source": [
        "# Evaluate the model on test data\n",
        "loss, accuracy = Ann_model_high.evaluate(Xhigh_Ann_test, y_test)\n",
        "print(f'Test Accuracy: {accuracy:.4f}')"
      ],
      "metadata": {
        "colab": {
          "base_uri": "https://localhost:8080/"
        },
        "id": "fBilaOMogj7C",
        "outputId": "ba3f83de-bc04-4ddf-a6fb-72864ed9c50e"
      },
      "id": "fBilaOMogj7C",
      "execution_count": 92,
      "outputs": [
        {
          "output_type": "stream",
          "name": "stdout",
          "text": [
            "\u001b[1m63/63\u001b[0m \u001b[32m━━━━━━━━━━━━━━━━━━━━\u001b[0m\u001b[37m\u001b[0m \u001b[1m0s\u001b[0m 2ms/step - accuracy: 0.7107 - loss: 0.5564\n",
            "Test Accuracy: 0.6960\n"
          ]
        }
      ]
    },
    {
      "cell_type": "markdown",
      "source": [
        "## Random Forest Classifier"
      ],
      "metadata": {
        "id": "sWZa1psqnHbd"
      },
      "id": "sWZa1psqnHbd"
    },
    {
      "cell_type": "code",
      "source": [
        "from sklearn.ensemble import RandomForestClassifier\n",
        "from sklearn.metrics import accuracy_score\n",
        "\n",
        "rf_high = RandomForestClassifier(n_estimators=100,random_state=42) # n_estimators is the number of trees in the forest\n",
        "rf_high.fit(X_high_train, y_train)\n",
        "y_pred_rf_high = rf_high.predict(X_high_test)\n",
        "\n",
        "acc_rf_high = accuracy_score(y_test, y_pred_rf_high)\n",
        "print(f\"Random Forest Accuracy: {acc_rf_high:.4f}\")"
      ],
      "metadata": {
        "colab": {
          "base_uri": "https://localhost:8080/"
        },
        "id": "tRMlSQ1Mgr60",
        "outputId": "4c3edc06-7768-4ba4-8b56-f1c2808c5bbd"
      },
      "id": "tRMlSQ1Mgr60",
      "execution_count": 93,
      "outputs": [
        {
          "output_type": "stream",
          "name": "stdout",
          "text": [
            "Random Forest Accuracy: 0.6860\n"
          ]
        }
      ]
    },
    {
      "cell_type": "code",
      "source": [
        "#Calculating the confusion matrix and the accuracy\n",
        "from sklearn.metrics import confusion_matrix\n",
        "cm_rf_high = confusion_matrix(y_test, y_pred_rf_high)\n",
        "print(cm_rf_high)"
      ],
      "metadata": {
        "colab": {
          "base_uri": "https://localhost:8080/"
        },
        "id": "kYxUyz4BnTHV",
        "outputId": "973c6f94-6f20-4b9e-b2cd-32058be481db"
      },
      "id": "kYxUyz4BnTHV",
      "execution_count": 94,
      "outputs": [
        {
          "output_type": "stream",
          "name": "stdout",
          "text": [
            "[[628 364]\n",
            " [264 744]]\n"
          ]
        }
      ]
    },
    {
      "cell_type": "code",
      "source": [
        "# Build the conffusion matric plot\n",
        "import matplotlib.pyplot as plt\n",
        "from sklearn.metrics import ConfusionMatrixDisplay\n",
        "disp_rf_high = ConfusionMatrixDisplay(confusion_matrix=cm_rf_high, display_labels=rf_high.classes_)\n",
        "disp_rf_high.plot()\n",
        "plt.show()"
      ],
      "metadata": {
        "colab": {
          "base_uri": "https://localhost:8080/",
          "height": 449
        },
        "id": "aXCs5qGBnXYn",
        "outputId": "79fb92c2-3391-416a-cbc8-5d591c8724f4"
      },
      "id": "aXCs5qGBnXYn",
      "execution_count": 95,
      "outputs": [
        {
          "output_type": "display_data",
          "data": {
            "text/plain": [
              "<Figure size 640x480 with 2 Axes>"
            ],
            "image/png": "[encoded data removed]"
          },
          "metadata": {}
        }
      ]
    },
    {
      "cell_type": "code",
      "source": [
        "# Result table\n",
        "from sklearn.metrics import classification_report\n",
        "print(classification_report(y_test, y_pred_rf_high))"
      ],
      "metadata": {
        "colab": {
          "base_uri": "https://localhost:8080/"
        },
        "id": "8qH-oeZvna0G",
        "outputId": "f7ee45f6-970e-4576-f98a-e255cfc95ffe"
      },
      "id": "8qH-oeZvna0G",
      "execution_count": 96,
      "outputs": [
        {
          "output_type": "stream",
          "name": "stdout",
          "text": [
            "              precision    recall  f1-score   support\n",
            "\n",
            "           0       0.70      0.63      0.67       992\n",
            "           1       0.67      0.74      0.70      1008\n",
            "\n",
            "    accuracy                           0.69      2000\n",
            "   macro avg       0.69      0.69      0.68      2000\n",
            "weighted avg       0.69      0.69      0.69      2000\n",
            "\n"
          ]
        }
      ]
    },
    {
      "cell_type": "markdown",
      "source": [
        "## Decision Tree Classifier"
      ],
      "metadata": {
        "id": "dHKQ8DitqEqs"
      },
      "id": "dHKQ8DitqEqs"
    },
    {
      "cell_type": "code",
      "source": [
        "from sklearn.tree import DecisionTreeClassifier\n",
        "\n",
        "# Create and train the Decision Tree classifier\n",
        "tree_high = DecisionTreeClassifier(max_depth=5,random_state=42)  # max_depth limits the depth of the tree\n",
        "tree_high.fit(X_high_train, y_train)\n",
        "\n",
        "# Predict using the trained Decision Tree model\n",
        "y_pred_tree_high = tree_high.predict(X_high_test)\n",
        "acc_tree_high = accuracy_score(y_test, y_pred_tree_high)\n",
        "print(f\"Decision Tree Accuracy: {acc_tree_high:.4f}\")"
      ],
      "metadata": {
        "colab": {
          "base_uri": "https://localhost:8080/"
        },
        "id": "r6OTGz2kqDVi",
        "outputId": "f655dcdd-8245-4396-9637-4fe9026f7623"
      },
      "id": "r6OTGz2kqDVi",
      "execution_count": 97,
      "outputs": [
        {
          "output_type": "stream",
          "name": "stdout",
          "text": [
            "Decision Tree Accuracy: 0.6590\n"
          ]
        }
      ]
    },
    {
      "cell_type": "code",
      "source": [
        "#Calculating the confusion matrix and the accuracy\n",
        "cm_DT_high = confusion_matrix(y_test, y_pred_tree_high)\n",
        "print(cm_DT_high)"
      ],
      "metadata": {
        "colab": {
          "base_uri": "https://localhost:8080/"
        },
        "id": "RuprFvS0qRMl",
        "outputId": "26abfd5d-ee6b-4d61-ed06-d31d7f841004"
      },
      "id": "RuprFvS0qRMl",
      "execution_count": 98,
      "outputs": [
        {
          "output_type": "stream",
          "name": "stdout",
          "text": [
            "[[610 382]\n",
            " [300 708]]\n"
          ]
        }
      ]
    },
    {
      "cell_type": "code",
      "source": [
        "# Display the confusion matrix for the Decision Tree\n",
        "disp_DT_high = ConfusionMatrixDisplay(confusion_matrix=cm_DT_high, display_labels=tree_high.classes_)\n",
        "disp_DT_high.plot()\n",
        "plt.show()"
      ],
      "metadata": {
        "colab": {
          "base_uri": "https://localhost:8080/",
          "height": 449
        },
        "id": "F9_-rUUTqXub",
        "outputId": "304c1b2a-b1b0-47e0-9af3-459ba68fca60"
      },
      "id": "F9_-rUUTqXub",
      "execution_count": 99,
      "outputs": [
        {
          "output_type": "display_data",
          "data": {
            "text/plain": [
              "<Figure size 640x480 with 2 Axes>"
            ],
            "image/png": "[encoded data removed]"
          },
          "metadata": {}
        }
      ]
    },
    {
      "cell_type": "code",
      "source": [
        "# Print the classification report for the Desicion tree model\n",
        "print(classification_report(y_test, y_pred_tree_high))"
      ],
      "metadata": {
        "colab": {
          "base_uri": "https://localhost:8080/"
        },
        "id": "WyMEvPXoqaWr",
        "outputId": "381c3949-1d27-44f6-f4a8-9ab6b95a56a6"
      },
      "id": "WyMEvPXoqaWr",
      "execution_count": 100,
      "outputs": [
        {
          "output_type": "stream",
          "name": "stdout",
          "text": [
            "              precision    recall  f1-score   support\n",
            "\n",
            "           0       0.67      0.61      0.64       992\n",
            "           1       0.65      0.70      0.67      1008\n",
            "\n",
            "    accuracy                           0.66      2000\n",
            "   macro avg       0.66      0.66      0.66      2000\n",
            "weighted avg       0.66      0.66      0.66      2000\n",
            "\n"
          ]
        }
      ]
    },
    {
      "cell_type": "markdown",
      "source": [
        "## KNN Classifier"
      ],
      "metadata": {
        "id": "v7n2F4aDqyaE"
      },
      "id": "v7n2F4aDqyaE"
    },
    {
      "cell_type": "code",
      "source": [
        "from sklearn.neighbors import KNeighborsClassifier\n",
        "from sklearn.preprocessing import StandardScaler\n",
        "\n",
        "# Scale the features\n",
        "scaler_knn_high = StandardScaler()\n",
        "\n",
        "# Fit the scaler on the training data\n",
        "X_train_knn_high = scaler_knn_high.fit_transform(X_high_train)\n",
        "\n",
        "# Transform the test data using the fitted scaler\n",
        "X_test_knn_high = scaler_knn_high.transform(X_high_test)"
      ],
      "metadata": {
        "id": "Caa5tLHpqux7"
      },
      "id": "Caa5tLHpqux7",
      "execution_count": 101,
      "outputs": []
    },
    {
      "cell_type": "code",
      "source": [
        "# Create and train the KNN classifier\n",
        "knn_high = KNeighborsClassifier(n_neighbors=15)  # n_neighbors is the number of neighbors to use for classification\n",
        "\n",
        "# Τraining the KNN classifier\n",
        "knn_high.fit(X_train_knn_high, y_train)\n",
        "\n",
        "# Model prediction and accuracy\n",
        "y_pred_knn_high = knn_high.predict(X_test_knn_high)\n",
        "acc_knn_high = accuracy_score(y_test, y_pred_knn_high)\n",
        "\n",
        "print(f\"KNN Accuracy: {acc_knn_high:.4f}\")"
      ],
      "metadata": {
        "colab": {
          "base_uri": "https://localhost:8080/"
        },
        "id": "-u5E_SDJr_yX",
        "outputId": "8ac44e38-52ab-466c-c953-f37411c5bbea"
      },
      "id": "-u5E_SDJr_yX",
      "execution_count": 102,
      "outputs": [
        {
          "output_type": "stream",
          "name": "stdout",
          "text": [
            "KNN Accuracy: 0.6610\n"
          ]
        }
      ]
    },
    {
      "cell_type": "code",
      "source": [
        "#Calculating the confusion matrix and the accuracy\n",
        "cm_knn_high = confusion_matrix(y_test, y_pred_knn_high)\n",
        "print(cm_knn_high)"
      ],
      "metadata": {
        "colab": {
          "base_uri": "https://localhost:8080/"
        },
        "id": "LeIScMiLsGQE",
        "outputId": "a22824ea-10e9-4e85-af0b-cde89ea1e177"
      },
      "id": "LeIScMiLsGQE",
      "execution_count": 103,
      "outputs": [
        {
          "output_type": "stream",
          "name": "stdout",
          "text": [
            "[[593 399]\n",
            " [279 729]]\n"
          ]
        }
      ]
    },
    {
      "cell_type": "code",
      "source": [
        "# Display the confusion matrix for the Decision Tree\n",
        "disp_knn_high = ConfusionMatrixDisplay(confusion_matrix=cm_knn_high, display_labels=knn_high.classes_)\n",
        "disp_knn_high.plot()\n",
        "plt.show()"
      ],
      "metadata": {
        "colab": {
          "base_uri": "https://localhost:8080/",
          "height": 449
        },
        "id": "MyFAkOr1sK8E",
        "outputId": "d35907de-48af-41cb-b8a1-e0a7da168f10"
      },
      "id": "MyFAkOr1sK8E",
      "execution_count": 104,
      "outputs": [
        {
          "output_type": "display_data",
          "data": {
            "text/plain": [
              "<Figure size 640x480 with 2 Axes>"
            ],
            "image/png": "[encoded data removed]"
          },
          "metadata": {}
        }
      ]
    },
    {
      "cell_type": "code",
      "source": [
        "# Print the classification report for the KNN model\n",
        "print(classification_report(y_test, y_pred_knn_high))"
      ],
      "metadata": {
        "colab": {
          "base_uri": "https://localhost:8080/"
        },
        "id": "qHJTwFVEsNA5",
        "outputId": "89438033-272b-4d67-e9b4-662d7ca18095"
      },
      "id": "qHJTwFVEsNA5",
      "execution_count": 105,
      "outputs": [
        {
          "output_type": "stream",
          "name": "stdout",
          "text": [
            "              precision    recall  f1-score   support\n",
            "\n",
            "           0       0.68      0.60      0.64       992\n",
            "           1       0.65      0.72      0.68      1008\n",
            "\n",
            "    accuracy                           0.66      2000\n",
            "   macro avg       0.66      0.66      0.66      2000\n",
            "weighted avg       0.66      0.66      0.66      2000\n",
            "\n"
          ]
        }
      ]
    }
  ],
  "metadata": {
    "kernelspec": {
      "display_name": "base",
      "language": "python",
      "name": "python3"
    },
    "language_info": {
      "codemirror_mode": {
        "name": "ipython",
        "version": 3
      },
      "file_extension": ".py",
      "mimetype": "text/x-python",
      "name": "python",
      "nbconvert_exporter": "python",
      "pygments_lexer": "ipython3",
      "version": "3.11.5"
    },
    "colab": {
      "provenance": []
    }
  },
  "nbformat": 4,
  "nbformat_minor": 5
}